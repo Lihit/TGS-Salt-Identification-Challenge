{
 "cells": [
  {
   "cell_type": "markdown",
   "metadata": {
    "_cell_guid": "b1076dfc-b9ad-4769-8c92-a6c4dae69d19",
    "_uuid": "8f2839f25d086af736a60e9eeb907d3b93b6e0e5"
   },
   "source": [
    "## 1.config"
   ]
  },
  {
   "cell_type": "code",
   "execution_count": 1,
   "metadata": {
    "_cell_guid": "79c7e3d0-c299-4dcb-8224-4455121ee9b0",
    "_uuid": "d629ff2d2480ee46fbb7e2d37f6b5fab8052498a",
    "collapsed": true
   },
   "outputs": [],
   "source": [
    "# coding:utf8\n",
    "import warnings\n",
    "\n",
    "\n",
    "class DefaultConfig(object):\n",
    "    env = 'UNetResNet'  # visdom 环境\n",
    "    model = 'UNetResNet'  # 使用的模型，名字必须与models/__init__.py中的名字一致\n",
    "    ori_data_dir = '../input'\n",
    "    train_data_images_root = '../input/train/images'  # 训练集存放路径\n",
    "    train_data_masks_root = '../input/train/masks'  # 训练集mask存放路径\n",
    "    test_data_root = '../input/test/images'  # 测试集存放路径\n",
    "    load_model_path = None  # 加载预训练的模型的路径，为None代表不加载\n",
    "\n",
    "    # 原始图片大小\n",
    "    ori_image_h = 101\n",
    "    ori_image_w = 101\n",
    "    ori_image_channels = 3\n",
    "    # 图片的输入\n",
    "    image_h = 128\n",
    "    image_w = 128\n",
    "    image_channels = 3\n",
    "\n",
    "    img_size_ori = 101\n",
    "    img_size_target = 128\n",
    "\n",
    "    batch_size = 32  # batch size\n",
    "    use_gpu = True  # user GPU or not\n",
    "    num_workers = 1  # how many workers for loading data\n",
    "    print_freq = 20  # print info every N batch\n",
    "    pretrained = True\n",
    "    useValBestThred = True\n",
    "    BestThred = 0.5\n",
    "    valPercent = 0.2\n",
    "\n",
    "    debug_file = '/tmp/debug'  # if os.path.exists(debug_file): enter ipdb\n",
    "    result_file = 'result.csv'\n",
    "\n",
    "    max_epoch = 50\n",
    "    lr = 0.01  # initial learning rate\n",
    "    lr_decay = 0.95  # when val_loss increase, lr = lr*lr_decay\n",
    "    weight_decay = 0e-4  # 损失函数\n",
    "\n",
    "    seed = 1126\n",
    "\n",
    "    # Loss\n",
    "    dice_weight =  5.0\n",
    "    bce_weight = 1.0\n",
    "\n",
    "    num_folds = 5\n",
    "    stratified = True\n",
    "    \n",
    "    SIZE = 128\n",
    "    PAD  = 16\n",
    "    \n",
    "    fold_iter_num = 1\n",
    "\n",
    "def parse(self, kwargs):\n",
    "    \"\"\"\n",
    "    根据字典kwargs 更新 config参数\n",
    "    \"\"\"\n",
    "    for k, v in kwargs.items():\n",
    "        if not hasattr(self, k):\n",
    "            warnings.warn(\"Warning: opt has not attribut %s\" % k)\n",
    "        setattr(self, k, v)\n",
    "\n",
    "    print('user config:')\n",
    "    for k, v in self.__class__.__dict__.items():\n",
    "        if not k.startswith('__'):\n",
    "            print(k, getattr(self, k))\n",
    "\n",
    "DefaultConfig.parse = parse"
   ]
  },
  {
   "cell_type": "code",
   "execution_count": 2,
   "metadata": {
    "_uuid": "0fbc8b8703a832b2d2d83f1c8fa4f53ec81b5466",
    "collapsed": true
   },
   "outputs": [],
   "source": [
    "opt = DefaultConfig()"
   ]
  },
  {
   "cell_type": "markdown",
   "metadata": {
    "_uuid": "d174710457805582a644350c3fdf6441343b87d4"
   },
   "source": [
    "## 2.models"
   ]
  },
  {
   "cell_type": "markdown",
   "metadata": {
    "_uuid": "850f5bee71c439e6189946489d739370593addea"
   },
   "source": [
    "### 2.1 Basic Model"
   ]
  },
  {
   "cell_type": "code",
   "execution_count": 3,
   "metadata": {
    "_uuid": "219cb242e4dbf02dfc674407b02fb2e55159e2ee",
    "collapsed": true
   },
   "outputs": [],
   "source": [
    "#coding:utf8\n",
    "import torch as t\n",
    "import time\n",
    "\n",
    "\n",
    "class BasicModule(t.nn.Module):\n",
    "    \"\"\"\n",
    "    封装了nn.Module,主要是提供了save和load两个方法\n",
    "    \"\"\"\n",
    "\n",
    "    def __init__(self):\n",
    "        super(BasicModule,self).__init__()\n",
    "        self.model_name=str(type(self))# 默认名字\n",
    "\n",
    "    def load(self, path):\n",
    "        \"\"\"\n",
    "        可加载指定路径的模型\n",
    "        \"\"\"\n",
    "        self.load_state_dict(t.load(path))\n",
    "\n",
    "    def save(self, name=None):\n",
    "        \"\"\"\n",
    "        保存模型，默认使用“模型名字+时间”作为文件名\n",
    "        \"\"\"\n",
    "        if name is None:\n",
    "            prefix = 'checkpoints/' + self.model_name + '_'\n",
    "            name = time.strftime(prefix + '%m%d_%H:%M:%S.pth')\n",
    "        t.save(self.state_dict(), name)\n",
    "        return name\n",
    "\n",
    "\n",
    "class Flat(t.nn.Module):\n",
    "    \"\"\"\n",
    "    把输入reshape成（batch_size,dim_length）\n",
    "    \"\"\"\n",
    "\n",
    "    def __init__(self):\n",
    "        super(Flat, self).__init__()\n",
    "        #self.size = size\n",
    "\n",
    "    def forward(self, x):\n",
    "        return x.view(x.size(0), -1)\n"
   ]
  },
  {
   "cell_type": "markdown",
   "metadata": {
    "_uuid": "797d565266f0d16355122ef2b8d9e290c061b966"
   },
   "source": [
    "###  2.2 UNetResNet"
   ]
  },
  {
   "cell_type": "code",
   "execution_count": 4,
   "metadata": {
    "_uuid": "d624c8f1f7fdeb072dadc7427dd8b977916ca3bd",
    "collapsed": true
   },
   "outputs": [],
   "source": [
    "from torch import nn\n",
    "from torch.nn import functional as F\n",
    "import torch\n",
    "import torchvision\n",
    "\n",
    "def conv3x3(in_, out):\n",
    "    return nn.Conv2d(in_, out, 3, padding=1)\n",
    "\n",
    "\n",
    "class ConvRelu(nn.Module):\n",
    "    def __init__(self, in_, out):\n",
    "        super().__init__()\n",
    "        self.conv = conv3x3(in_, out)\n",
    "        self.activation = nn.ReLU(inplace=True)\n",
    "\n",
    "    def forward(self, x):\n",
    "        x = self.conv(x)\n",
    "        x = self.activation(x)\n",
    "        return x\n",
    "\n",
    "\n",
    "class NoOperation(nn.Module):\n",
    "    def forward(self, x):\n",
    "        return x\n",
    "\n",
    "class DecoderBlockV2(nn.Module):\n",
    "    def __init__(self, in_channels, middle_channels, out_channels, is_deconv=True):\n",
    "        super(DecoderBlockV2, self).__init__()\n",
    "        self.in_channels = in_channels\n",
    "\n",
    "        if is_deconv:\n",
    "            \"\"\"\n",
    "                Paramaters for Deconvolution were chosen to avoid artifacts, following\n",
    "                link https://distill.pub/2016/deconv-checkerboard/\n",
    "            \"\"\"\n",
    "\n",
    "            self.block = nn.Sequential(\n",
    "                ConvRelu(in_channels, middle_channels),\n",
    "                nn.ConvTranspose2d(middle_channels, out_channels, kernel_size=4, stride=2,\n",
    "                                   padding=1),\n",
    "                nn.ReLU(inplace=True)\n",
    "            )\n",
    "        else:\n",
    "            self.block = nn.Sequential(\n",
    "                nn.Upsample(scale_factor=2, mode='bilinear'),\n",
    "                ConvRelu(in_channels, middle_channels),\n",
    "                ConvRelu(middle_channels, out_channels),\n",
    "            )\n",
    "\n",
    "    def forward(self, x):\n",
    "        return self.block(x)\n",
    "\n",
    "class UNetResNet(BasicModule):\n",
    "    \"\"\"PyTorch U-Net model using ResNet(34, 101 or 152) encoder.\n",
    "\n",
    "    UNet: https://arxiv.org/abs/1505.04597\n",
    "    ResNet: https://arxiv.org/abs/1512.03385\n",
    "    Proposed by Alexander Buslaev: https://www.linkedin.com/in/al-buslaev/\n",
    "\n",
    "    Args:\n",
    "            encoder_depth (int): Depth of a ResNet encoder (34, 101 or 152).\n",
    "            num_classes (int): Number of output classes.\n",
    "            num_filters (int, optional): Number of filters in the last layer of decoder. Defaults to 32.\n",
    "            dropout_2d (float, optional): Probability factor of dropout layer before output layer. Defaults to 0.2.\n",
    "            pretrained (bool, optional):\n",
    "                False - no pre-trained weights are being used.\n",
    "                True  - ResNet encoder is pre-trained on ImageNet.\n",
    "                Defaults to False.\n",
    "            is_deconv (bool, optional):\n",
    "                False: bilinear interpolation is used in decoder.\n",
    "                True: deconvolution is used in decoder.\n",
    "                Defaults to False.\n",
    "\n",
    "    \"\"\"\n",
    "\n",
    "    def __init__(self, encoder_depth, num_classes = 1, num_filters=32, dropout_2d=0.2,\n",
    "                 pretrained=False, is_deconv=False):\n",
    "        super().__init__()\n",
    "        self.num_classes = num_classes\n",
    "        self.dropout_2d = dropout_2d\n",
    "\n",
    "        if encoder_depth == 34:\n",
    "            self.encoder = torchvision.models.resnet34(pretrained=pretrained)\n",
    "            bottom_channel_nr = 512\n",
    "        elif encoder_depth == 101:\n",
    "            self.encoder = torchvision.models.resnet101(pretrained=pretrained)\n",
    "            bottom_channel_nr = 2048\n",
    "        elif encoder_depth == 152:\n",
    "            self.encoder = torchvision.models.resnet152(pretrained=pretrained)\n",
    "            bottom_channel_nr = 2048\n",
    "        else:\n",
    "            raise NotImplementedError('only 34, 101, 152 version of Resnet are implemented')\n",
    "\n",
    "        self.pool = nn.MaxPool2d(2, 2)\n",
    "\n",
    "        self.relu = nn.ReLU(inplace=True)\n",
    "\n",
    "        self.conv1 = nn.Sequential(self.encoder.conv1,\n",
    "                                   self.encoder.bn1,\n",
    "                                   self.encoder.relu,\n",
    "                                   self.pool)\n",
    "\n",
    "        self.conv2 = self.encoder.layer1\n",
    "\n",
    "        self.conv3 = self.encoder.layer2\n",
    "\n",
    "        self.conv4 = self.encoder.layer3\n",
    "\n",
    "        self.conv5 = self.encoder.layer4\n",
    "\n",
    "        self.center = DecoderBlockV2(bottom_channel_nr, num_filters * 8 * 2, num_filters * 8, is_deconv)\n",
    "        self.dec5 = DecoderBlockV2(bottom_channel_nr + num_filters * 8, num_filters * 8 * 2, num_filters * 8, is_deconv)\n",
    "        self.dec4 = DecoderBlockV2(bottom_channel_nr // 2 + num_filters * 8, num_filters * 8 * 2, num_filters * 8,\n",
    "                                   is_deconv)\n",
    "        self.dec3 = DecoderBlockV2(bottom_channel_nr // 4 + num_filters * 8, num_filters * 4 * 2, num_filters * 2,\n",
    "                                   is_deconv)\n",
    "        self.dec2 = DecoderBlockV2(bottom_channel_nr // 8 + num_filters * 2, num_filters * 2 * 2, num_filters * 2 * 2,\n",
    "                                   is_deconv)\n",
    "        self.dec1 = DecoderBlockV2(num_filters * 2 * 2, num_filters * 2 * 2, num_filters, is_deconv)\n",
    "        self.dec0 = ConvRelu(num_filters, num_filters)\n",
    "        self.final = nn.Conv2d(num_filters, num_classes, kernel_size=1)\n",
    "\n",
    "    def forward(self, x):\n",
    "        conv1 = self.conv1(x)\n",
    "        conv2 = self.conv2(conv1)\n",
    "        conv3 = self.conv3(conv2)\n",
    "        conv4 = self.conv4(conv3)\n",
    "        conv5 = self.conv5(conv4)\n",
    "\n",
    "        pool = self.pool(conv5)\n",
    "        center = self.center(pool)\n",
    "\n",
    "        dec5 = self.dec5(torch.cat([center, conv5], 1))\n",
    "\n",
    "        dec4 = self.dec4(torch.cat([dec5, conv4], 1))\n",
    "        dec3 = self.dec3(torch.cat([dec4, conv3], 1))\n",
    "        dec2 = self.dec2(torch.cat([dec3, conv2], 1))\n",
    "        dec1 = self.dec1(dec2)\n",
    "        dec0 = self.dec0(dec1)\n",
    "\n",
    "        return F.sigmoid(torch.squeeze(self.final(F.dropout2d(dec0, p=self.dropout_2d))))"
   ]
  },
  {
   "cell_type": "markdown",
   "metadata": {
    "_uuid": "dbacaecad28b393590184bfaee780de2d214bb72"
   },
   "source": [
    "### 2.3 UNetResNet34"
   ]
  },
  {
   "cell_type": "code",
   "execution_count": 5,
   "metadata": {
    "_uuid": "b1f11595da26b07c9fdd9ffa1993ccce29566a05",
    "collapsed": true
   },
   "outputs": [],
   "source": [
    "from torch import nn\n",
    "from torch.nn import functional as F\n",
    "import torch\n",
    "import torchvision\n",
    "\n",
    "\n",
    "class ConvBn2d(nn.Module):\n",
    "    def __init__(self, in_channels, out_channels, kernel_size=(3,3), stride=(1,1), padding=(1,1)):\n",
    "        super(ConvBn2d, self).__init__()\n",
    "\n",
    "        self.conv = nn.Conv2d(in_channels, out_channels, kernel_size=kernel_size, stride=stride, padding=padding, bias=False)\n",
    "        #self.bn = nn.BatchNorm2d(out_channels)\n",
    "        self.bn = SynchronizedBatchNorm2d(out_channels)\n",
    "\n",
    "\n",
    "    def forward(self, z):\n",
    "        x = self.conv(z)\n",
    "        x = self.bn(x)\n",
    "        return x\n",
    "\n",
    "\n",
    "class Decoder(nn.Module):\n",
    "    def __init__(self, in_channels, channels, out_channels ):\n",
    "        super(Decoder, self).__init__()\n",
    "        self.conv1 =  ConvBn2d(in_channels,  channels, kernel_size=3, padding=1)\n",
    "        self.conv2 =  ConvBn2d(channels, out_channels, kernel_size=3, padding=1)\n",
    "\n",
    "    def forward(self, x ):\n",
    "        x = F.upsample(x, scale_factor=2, mode='bilinear')#False\n",
    "        x = F.relu(self.conv1(x),inplace=True)\n",
    "        x = F.relu(self.conv2(x),inplace=True)\n",
    "        return x\n",
    "\n",
    "#\n",
    "# resnet18': 'https://download.pytorch.org/models/resnet18-5c106cde.pth'\n",
    "# resnet34': 'https://download.pytorch.org/models/resnet34-333f7ec4.pth'\n",
    "# resnet50': 'https://download.pytorch.org/models/resnet50-19c8e357.pth'\n",
    "# resnet101': 'https://download.pytorch.org/models/resnet101-5d3b4d8f.pth'\n",
    "# resnet152': 'https://download.pytorch.org/models/resnet152-b121ed2d.pth'\n",
    "\n",
    "class UNetResNet34(BasicModule):\n",
    "    def __init__(self, pretrained=True):\n",
    "        super().__init__()\n",
    "        self.resnet = torchvision.models.resnet34(pretrained=pretrained)\n",
    "\n",
    "        self.conv1 = nn.Sequential(\n",
    "            self.resnet.conv1,\n",
    "            self.resnet.bn1,\n",
    "            self.resnet.relu,\n",
    "        )# 64\n",
    "        self.encoder2 = self.resnet.layer1  # 64\n",
    "        self.encoder3 = self.resnet.layer2  #128\n",
    "        self.encoder4 = self.resnet.layer3  #256\n",
    "        self.encoder5 = self.resnet.layer4  #512\n",
    "\n",
    "        self.center = nn.Sequential(\n",
    "            ConvBn2d(512, 512, kernel_size=3, padding=1),\n",
    "            nn.ReLU(inplace=True),\n",
    "            ConvBn2d(512, 256, kernel_size=3, padding=1),\n",
    "            nn.ReLU(inplace=True),\n",
    "        )\n",
    "\n",
    "        self.decoder5 = Decoder(512+256, 512, 256)\n",
    "        self.decoder4 = Decoder(256+256, 512, 256)\n",
    "        self.decoder3 = Decoder(128+256, 256,  64)\n",
    "        self.decoder2 = Decoder( 64+ 64, 128, 128)\n",
    "        self.decoder1 = Decoder(128    , 128,  32)\n",
    "\n",
    "        self.logit    = nn.Sequential(\n",
    "            nn.Conv2d(32, 32, kernel_size=3, padding=1),\n",
    "            nn.ReLU(inplace=True),\n",
    "            nn.Conv2d(32,  1, kernel_size=1, padding=0),\n",
    "        )\n",
    "\n",
    "\n",
    "\n",
    "    def forward(self, x):\n",
    "        #batch_size,C,H,W = x.shape\n",
    "\n",
    "        mean=[0.485, 0.456, 0.406]\n",
    "        std =[0.229, 0.224, 0.225]\n",
    "        x = torch.stack([\n",
    "            (x-mean[0])/std[0],\n",
    "            (x-mean[1])/std[1],\n",
    "            (x-mean[2])/std[2],\n",
    "        ],1)\n",
    "\n",
    "        #print(x.size())\n",
    "        x = self.conv1(x)\n",
    "        x = F.max_pool2d(x, kernel_size=2, stride=2)\n",
    "\n",
    "        e2 = self.encoder2( x)  #; print('e2',e2.size())\n",
    "        e3 = self.encoder3(e2)  #; print('e3',e3.size())\n",
    "        e4 = self.encoder4(e3)  #; print('e4',e4.size())\n",
    "        e5 = self.encoder5(e4)  #; print('e5',e5.size())\n",
    "\n",
    "\n",
    "        #f = F.max_pool2d(e5, kernel_size=2, stride=2 )  #; print(f.size())\n",
    "        #f = F.upsample(f, scale_factor=2, mode='bilinear', align_corners=True)#False\n",
    "        #f = self.center(f)                       #; print('center',f.size())\n",
    "        f = self.center(e5)\n",
    "         \n",
    "        f = self.decoder5(torch.cat([f, e5], 1))  #; print('d5',f.size())\n",
    "        f = self.decoder4(torch.cat([f, e4], 1))  #; print('d4',f.size())\n",
    "        f = self.decoder3(torch.cat([f, e3], 1))  #; print('d3',f.size())\n",
    "        f = self.decoder2(torch.cat([f, e2], 1))  #; print('d2',f.size())\n",
    "        f = self.decoder1(f)                      # ; print('d1',f.size())\n",
    "\n",
    "        #f = F.dropout2d(f, p=0.20)\n",
    "        logit = self.logit(f)                     #; print('logit',logit.size())\n",
    "        return logit"
   ]
  },
  {
   "cell_type": "markdown",
   "metadata": {
    "_uuid": "449340416e2fc00ed35761cbb83f174110cf71cb"
   },
   "source": [
    "### 2.4 UNetSimple"
   ]
  },
  {
   "cell_type": "code",
   "execution_count": 6,
   "metadata": {
    "_uuid": "395186e5b2a7c70255d40d508cecfe4c7b051241",
    "collapsed": true
   },
   "outputs": [],
   "source": [
    "from torch import nn\n",
    "from torch.nn import functional as F\n",
    "import torch\n",
    "import torchvision\n",
    "\n",
    "\n",
    "class ConvBn2d(nn.Module):\n",
    "    def __init__(self, in_channels, out_channels, kernel_size=(3, 3), stride=(1, 1), padding=(1, 1)):\n",
    "        super(ConvBn2d, self).__init__()\n",
    "\n",
    "        self.conv = nn.Conv2d(in_channels, out_channels, kernel_size=kernel_size,\n",
    "                              stride=stride, padding=padding, bias=False)\n",
    "        self.bn = nn.BatchNorm2d(out_channels)\n",
    "\n",
    "    def forward(self, z):\n",
    "        x = self.conv(z)\n",
    "        x = self.bn(x)\n",
    "        x = F.relu(x, inplace=True)\n",
    "        return x\n",
    "\n",
    "\n",
    "## net  ######################################################################\n",
    "class UNetSimple(BasicModule):\n",
    "\n",
    "    def __init__(self, ):\n",
    "        super(UNetSimple, self).__init__()\n",
    "\n",
    "        self.down1 = nn.Sequential(\n",
    "            ConvBn2d(1,  64, kernel_size=3, stride=1, padding=1),\n",
    "            ConvBn2d(64,  64, kernel_size=3, stride=1, padding=1),\n",
    "        )\n",
    "        self.down2 = nn.Sequential(\n",
    "            ConvBn2d(64, 128, kernel_size=3, stride=1, padding=1),\n",
    "            ConvBn2d(128, 128, kernel_size=3, stride=1, padding=1),\n",
    "        )\n",
    "        self.down3 = nn.Sequential(\n",
    "            ConvBn2d(128, 256, kernel_size=3, stride=1, padding=1),\n",
    "            ConvBn2d(256, 256, kernel_size=3, stride=1, padding=1),\n",
    "            ConvBn2d(256, 256, kernel_size=3, stride=1, padding=1),\n",
    "        )\n",
    "        self.down4 = nn.Sequential(\n",
    "            ConvBn2d(256, 512, kernel_size=3, stride=1, padding=1),\n",
    "            ConvBn2d(512, 512, kernel_size=3, stride=1, padding=1),\n",
    "            ConvBn2d(512, 512, kernel_size=3, stride=1, padding=1),\n",
    "        )\n",
    "        self.down5 = nn.Sequential(\n",
    "            ConvBn2d(512, 512, kernel_size=3, stride=1, padding=1),\n",
    "            ConvBn2d(512, 512, kernel_size=3, stride=1, padding=1),\n",
    "        )\n",
    "\n",
    "        self.same = nn.Sequential(\n",
    "            ConvBn2d(512, 512, kernel_size=3, stride=1, padding=1),\n",
    "            ConvBn2d(512, 512, kernel_size=3, stride=1, padding=1),\n",
    "        )\n",
    "\n",
    "        self.up5 = nn.Sequential(\n",
    "            ConvBn2d(1024, 512, kernel_size=3, stride=1, padding=1),\n",
    "            ConvBn2d(512, 512, kernel_size=3, stride=1, padding=1),\n",
    "        )\n",
    "\n",
    "        self.up4 = nn.Sequential(\n",
    "            ConvBn2d(1024, 512, kernel_size=3, stride=1, padding=1),\n",
    "            ConvBn2d(512, 512, kernel_size=3, stride=1, padding=1),\n",
    "            ConvBn2d(512, 256, kernel_size=3, stride=1, padding=1),\n",
    "        )\n",
    "        self.up3 = nn.Sequential(\n",
    "            ConvBn2d(512, 256, kernel_size=3, stride=1, padding=1),\n",
    "            ConvBn2d(256, 256, kernel_size=3, stride=1, padding=1),\n",
    "            ConvBn2d(256, 128, kernel_size=3, stride=1, padding=1),\n",
    "        )\n",
    "        self.up2 = nn.Sequential(\n",
    "            ConvBn2d(256, 128, kernel_size=3, stride=1, padding=1),\n",
    "            ConvBn2d(128,  64, kernel_size=3, stride=1, padding=1),\n",
    "        )\n",
    "        self.up1 = nn.Sequential(\n",
    "            ConvBn2d(128,  64, kernel_size=3, stride=1, padding=1),\n",
    "            ConvBn2d(64,  64, kernel_size=3, stride=1, padding=1),\n",
    "        )\n",
    "        self.feature = nn.Sequential(\n",
    "            ConvBn2d(64,  64, kernel_size=1, stride=1, padding=0),\n",
    "        )\n",
    "        self.logit = nn.Conv2d(64, 1, kernel_size=1, stride=1, padding=0)\n",
    "\n",
    "    def forward(self, input):\n",
    "        input = torch.unsqueeze(input,1)\n",
    "        down1 = self.down1(input)\n",
    "        # , return_indices=True)\n",
    "        f = F.max_pool2d(down1, kernel_size=2, stride=2)\n",
    "        down2 = self.down2(f)\n",
    "        f = F.max_pool2d(down2, kernel_size=2, stride=2)\n",
    "        down3 = self.down3(f)\n",
    "        f = F.max_pool2d(down3, kernel_size=2, stride=2)\n",
    "        down4 = self.down4(f)\n",
    "        f = F.max_pool2d(down4, kernel_size=2, stride=2)\n",
    "        down5 = self.down5(f)\n",
    "        f = F.max_pool2d(down5, kernel_size=2, stride=2)\n",
    "\n",
    "        f = self.same(f)\n",
    "\n",
    "        f = F.upsample(f, scale_factor=2, mode='bilinear')\n",
    "        #f = F.max_unpool2d(f, i4, kernel_size=2, stride=2)\n",
    "        f = self.up5(torch.cat([down5, f], 1))\n",
    "\n",
    "        f = F.upsample(f, scale_factor=2, mode='bilinear')\n",
    "        f = self.up4(torch.cat([down4, f], 1))\n",
    "\n",
    "        f = F.upsample(f, scale_factor=2, mode='bilinear')\n",
    "        f = self.up3(torch.cat([down3, f], 1))\n",
    "\n",
    "        f = F.upsample(f, scale_factor=2, mode='bilinear')\n",
    "        f = self.up2(torch.cat([down2, f], 1))\n",
    "\n",
    "        f = F.upsample(f, scale_factor=2, mode='bilinear')\n",
    "        f = self.up1(torch.cat([down1, f], 1))\n",
    "\n",
    "        f = self.feature(f)\n",
    "        #f = F.dropout(f, p=0.5)\n",
    "        logit = self.logit(f)\n",
    "\n",
    "        return logit"
   ]
  },
  {
   "cell_type": "markdown",
   "metadata": {
    "_uuid": "ff8e130ddaf554b22a7d86ae8033849d2acfe4f6"
   },
   "source": [
    "## 3. utilus"
   ]
  },
  {
   "cell_type": "markdown",
   "metadata": {
    "_uuid": "5555d8fa6c12b6875c94ae50f0709434cffa185f"
   },
   "source": [
    "### 3.1 dataset"
   ]
  },
  {
   "cell_type": "code",
   "execution_count": 29,
   "metadata": {
    "_uuid": "6bc090d391b6062845e04289abe6280704546392",
    "collapsed": true
   },
   "outputs": [],
   "source": [
    "# coding:utf8\n",
    "import os\n",
    "from PIL import Image\n",
    "from torch.utils import data\n",
    "import numpy as np\n",
    "from torchvision import transforms as T\n",
    "from torchvision.transforms import ToTensor, ToPILImage\n",
    "import random\n",
    "\n",
    "\n",
    "class TGSSaltDataSet(data.Dataset):\n",
    "    def __init__(self, DataNameDict, opt, mode='train', train_transforms=None, test_transform=None, target_transform=None):\n",
    "        \"\"\"\n",
    "        主要目标： 获取所有图片的地址，并根据训练，验证，测试划分数据\n",
    "        \"\"\"\n",
    "        self.opt = opt\n",
    "        self.mode = mode\n",
    "        self.imgs = DataNameDict[self.mode]\n",
    "\n",
    "        if train_transforms is None:\n",
    "            normalize = T.Normalize(mean=[0.485, 0.456, 0.406],\n",
    "                                    std=[0.229, 0.224, 0.225])\n",
    "            self.train_transforms = T.Compose([\n",
    "                T.Resize(self.opt.image_h),\n",
    "                T.ToTensor(),\n",
    "                normalize\n",
    "            ])\n",
    "        else:\n",
    "            self.train_transforms = train_transforms\n",
    "        if target_transform is None:\n",
    "            self.target_transform = T.Compose([\n",
    "                T.Resize(self.opt.image_h),\n",
    "                T.ToTensor()\n",
    "            ])\n",
    "        else:\n",
    "            self.target_transform = target_transform\n",
    "\n",
    "    def __getitem__(self, index):\n",
    "        \"\"\"\n",
    "        一次返回一张图片的数据\n",
    "        \"\"\"\n",
    "        img_name = self.imgs[index]\n",
    "        if self.mode == 'test':\n",
    "            img_path = os.path.join(\n",
    "                self.opt.test_data_root, '%s.png' % img_name)\n",
    "            data = Image.open(img_path)\n",
    "            data = self.train_transforms(data)\n",
    "            return data, img_name\n",
    "        else:\n",
    "            img_path_train = os.path.join(\n",
    "                self.opt.train_data_images_root, '%s.png' % img_name)\n",
    "            img_path_mask = os.path.join(\n",
    "                self.opt.train_data_masks_root, '%s.png' % img_name)\n",
    "            data = Image.open(img_path_train)\n",
    "            data = self.train_transforms(data)\n",
    "            mask = Image.open(img_path_mask)\n",
    "            mask = self.target_transform(mask)\n",
    "            mask = (mask > 128).float()\n",
    "            mask = torch.squeeze(mask)\n",
    "            return data, mask\n",
    "\n",
    "    def __len__(self):\n",
    "        return len(self.imgs)\n",
    "\n",
    "\n",
    "class TrainDataSet(data.Dataset):\n",
    "    def __init__(self, train_ids, opt):\n",
    "        \"\"\"\n",
    "        主要目标： 获取所有图片的地址，并根据训练，验证，测试划分数据\n",
    "        \"\"\"\n",
    "        self.opt = opt\n",
    "        self.imgs = train_ids\n",
    "        self.train_transforms = T.Compose([\n",
    "            T.Resize(self.opt.image_h),\n",
    "            T.ToTensor(),\n",
    "            T.Normalize(mean=[0.485, 0.456, 0.406], std=[0.229, 0.224, 0.225])\n",
    "        ])\n",
    "        self.target_transform = T.Compose([\n",
    "            T.Resize(self.opt.image_h),\n",
    "            T.ToTensor()\n",
    "        ])\n",
    "\n",
    "    def __getitem__(self, index):\n",
    "        \"\"\"\n",
    "        一次返回一张图片的数据\n",
    "        \"\"\"\n",
    "        img_name = self.imgs[index]\n",
    "        data = train_df.loc[img_name, 'images']\n",
    "        mask = train_df.loc[img_name, 'masks']\n",
    "        #data, mask = np.asarray(data), np.asarray(mask)\n",
    "        data, mask = self.train_augment(data, mask)\n",
    "        data, mask = torch.from_numpy(data), torch.from_numpy(mask)\n",
    "        return data, mask\n",
    "\n",
    "    def __len__(self):\n",
    "        return len(self.imgs)\n",
    "\n",
    "    def train_augment(self, image, mask):\n",
    "    \n",
    "        if np.random.rand() < 0.5:\n",
    "            image, mask = do_horizontal_flip2(image, mask)\n",
    "    \n",
    "        if np.random.rand() < 0.5:\n",
    "            c = np.random.choice(4)\n",
    "            if c == 0:\n",
    "                image, mask = do_random_shift_scale_crop_pad2(\n",
    "                    image, mask, 0.2)  # 0.125\n",
    "    \n",
    "            if c == 1:\n",
    "                image, mask = do_horizontal_shear2(\n",
    "                    image, mask, dx=np.random.uniform(-0.07, 0.07))\n",
    "                pass\n",
    "    \n",
    "            if c == 2:\n",
    "                image, mask = do_shift_scale_rotate2(\n",
    "                    image, mask, dx=0, dy=0, scale=1, angle=np.random.uniform(0, 15))  # 10\n",
    "    \n",
    "            if c == 3:\n",
    "                image, mask = do_elastic_transform2(\n",
    "                    image, mask, grid=10, distort=np.random.uniform(0, 0.15))  # 0.10\n",
    "    \n",
    "        if np.random.rand() < 0.5:\n",
    "            c = np.random.choice(3)\n",
    "            if c == 0:\n",
    "                image = do_brightness_shift(image, np.random.uniform(-0.1, +0.1))\n",
    "            if c == 1:\n",
    "                image = do_brightness_multiply(\n",
    "                    image, np.random.uniform(1-0.08, 1+0.08))\n",
    "            if c == 2:\n",
    "                image = do_gamma(image, np.random.uniform(1-0.08, 1+0.08))\n",
    "    \n",
    "        #image, mask = do_resize2(image, mask, self.opt.SIZE, self.opt.SIZE)\n",
    "        #image, mask = do_center_pad2(image, mask, self.opt.PAD)\n",
    "        image, mask = do_center_pad_to_factor2(image, mask, factor=32)\n",
    "        return image, mask\n",
    "\n",
    "\n",
    "class ValDataSet(data.Dataset):\n",
    "    def __init__(self, val_ids, opt):\n",
    "        \"\"\"\n",
    "        主要目标： 获取所有图片的地址，并根据训练，验证，测试划分数据\n",
    "        \"\"\"\n",
    "        self.opt = opt\n",
    "        self.imgs = val_ids\n",
    "        self.train_transforms = T.Compose([\n",
    "            T.Resize(self.opt.image_h),\n",
    "            T.ToTensor(),\n",
    "            T.Normalize(mean=[0.485, 0.456, 0.406], std=[0.229, 0.224, 0.225])\n",
    "        ])\n",
    "        self.target_transform = T.Compose([\n",
    "            T.Resize(self.opt.image_h),\n",
    "            T.ToTensor()\n",
    "        ])\n",
    "\n",
    "    def __getitem__(self, index):\n",
    "        \"\"\"\n",
    "        一次返回一张图片的数据\n",
    "        \"\"\"\n",
    "        img_name = self.imgs[index]\n",
    "        data = train_df.loc[img_name, 'images']\n",
    "        mask = train_df.loc[img_name, 'masks']\n",
    "        #data, mask = np.asarray(data), np.asarray(mask)\n",
    "        data, mask = self.val_augment(data, mask)\n",
    "        data, mask = torch.from_numpy(data), torch.from_numpy(mask)\n",
    "        #mask = torch.squeeze(mask)\n",
    "        return data, mask\n",
    "\n",
    "    def __len__(self):\n",
    "        return len(self.imgs)\n",
    "\n",
    "    def val_augment(self, image, mask):\n",
    "        #image, mask = do_resize2(image, mask, self.opt.SIZE, self.opt.SIZE)\n",
    "        #image, mask = do_center_pad2(image, mask, self.opt.PAD)\n",
    "        image, mask = do_center_pad_to_factor2(image, mask, factor=32)\n",
    "        return image,mask\n",
    "\n",
    "class TestDataSet(data.Dataset):\n",
    "    def __init__(self, test_ids, opt):\n",
    "        \"\"\"\n",
    "        主要目标： 获取所有图片的地址，并根据训练，验证，测试划分数据\n",
    "        \"\"\"\n",
    "        self.opt = opt\n",
    "        self.imgs = test_ids\n",
    "        self.train_transforms = T.Compose([\n",
    "            T.Resize(self.opt.image_h),\n",
    "            T.ToTensor(),\n",
    "            T.Normalize(mean=[0.485, 0.456, 0.406], std=[0.229, 0.224, 0.225])\n",
    "        ])\n",
    "\n",
    "    def __getitem__(self, index):\n",
    "        \"\"\"\n",
    "        一次返回一张图片的数据\n",
    "        \"\"\"\n",
    "        img_name = self.imgs[index]\n",
    "        data = test_df.loc[img_name, 'images']\n",
    "        #data = np.asarray(data)\n",
    "        data = self.test_augment(data)\n",
    "        data = torch.from_numpy(data)\n",
    "        return data, img_name\n",
    "\n",
    "    def __len__(self):\n",
    "        return len(self.imgs)\n",
    "\n",
    "    def test_augment(self, image):\n",
    "        #image = do_resize(image, self.opt.SIZE, self.opt.SIZE)\n",
    "        #image = do_center_pad(image, self.opt.PAD)\n",
    "        image = do_center_pad_to_factor(image, factor=32)\n",
    "        return image"
   ]
  },
  {
   "cell_type": "markdown",
   "metadata": {
    "_uuid": "c00798684e81f24bca0a9e8d156fc2ea4003a425"
   },
   "source": [
    "### 3.2 loss"
   ]
  },
  {
   "cell_type": "code",
   "execution_count": 8,
   "metadata": {
    "_uuid": "e2d668a07edd7506076379bd8e741ca71d5235da",
    "collapsed": true
   },
   "outputs": [],
   "source": [
    "import numpy as np\n",
    "import torch\n",
    "import torch.optim as optim\n",
    "from torch.autograd import Variable\n",
    "import torch.nn as nn\n",
    "from functools import partial\n",
    "\n",
    "\n",
    "class DiceLoss(nn.Module):\n",
    "    def __init__(self, smooth=0, eps=1e-7):\n",
    "        super(DiceLoss, self).__init__()\n",
    "        self.smooth = smooth\n",
    "        self.eps = eps\n",
    "\n",
    "    def forward(self, output, target):\n",
    "        output = torch.squeeze(output)\n",
    "        target = torch.squeeze(target)\n",
    "        return 1 - (2 * torch.sum(output * target) + self.smooth) / (\n",
    "            torch.sum(output) + torch.sum(target) + self.smooth + self.eps)\n",
    "\n",
    "\n",
    "class mixed_dice_bce_loss(nn.Module):\n",
    "    \"\"\"docstring for ClassName\"\"\"\n",
    "\n",
    "    def __init__(self, dice_weight=0.2, bce_weight=0.9, smooth=0):\n",
    "        super(mixed_dice_bce_loss, self).__init__()\n",
    "        self.dice_weight = dice_weight\n",
    "        self.bce_weight = bce_weight\n",
    "        self.smooth = smooth\n",
    "\n",
    "    def forward(self, output, target):\n",
    "        bce_loss = nn.BCEWithLogitsLoss()\n",
    "        dice_loss = DiceLoss(smooth=self.smooth)\n",
    "        return self.dice_weight * dice_loss(output, target) + self.bce_weight * bce_loss(output, target)\n",
    "\n",
    "class FocalLoss2d(nn.Module):\n",
    "\n",
    "    def __init__(self, gamma=2, size_average=True):\n",
    "        super(FocalLoss2d, self).__init__()\n",
    "        self.gamma = gamma\n",
    "        self.size_average = size_average\n",
    "\n",
    "    def forward(self, logit, target, class_weight=None, type='sigmoid'):\n",
    "        target = target.view(-1, 1).long()\n",
    "\n",
    "        if type == 'sigmoid':\n",
    "            if class_weight is None:\n",
    "                class_weight = [1]*2  # [0.5, 0.5]\n",
    "\n",
    "            prob = F.sigmoid(logit)\n",
    "            prob = prob.view(-1, 1)\n",
    "            prob = torch.cat((1-prob, prob), 1)\n",
    "            select = torch.FloatTensor(len(prob), 2).zero_().cuda()\n",
    "            select.scatter_(1, target.data, 1.)\n",
    "\n",
    "        elif type == 'softmax':\n",
    "            B, C, H, W = logit.size()\n",
    "            if class_weight is None:\n",
    "                class_weight = [1]*C  # [1/C]*C\n",
    "\n",
    "            logit = logit.permute(0, 2, 3, 1).contiguous().view(-1, C)\n",
    "            prob = F.softmax(logit, 1)\n",
    "            select = torch.FloatTensor(len(prob), C).zero_().cuda()\n",
    "            select.scatter_(1, target, 1.)\n",
    "\n",
    "        class_weight = torch.FloatTensor(class_weight).cuda().view(-1, 1)\n",
    "        class_weight = torch.gather(class_weight, 0, target.data)\n",
    "\n",
    "        prob = (prob*select).sum(1).view(-1, 1)\n",
    "        prob = torch.clamp(prob, 1e-8, 1-1e-8)\n",
    "        batch_loss = - class_weight * \\\n",
    "            (torch.pow((1-prob), self.gamma))*prob.log()\n",
    "\n",
    "        if self.size_average:\n",
    "            loss = batch_loss.mean()\n",
    "        else:\n",
    "            loss = batch_loss\n",
    "\n",
    "        return loss\n",
    "\n",
    "\n",
    "# http://geek.csdn.net/news/detail/126833\n",
    "class PseudoBCELoss2d(nn.Module):\n",
    "    def __init__(self):\n",
    "        super(PseudoBCELoss2d, self).__init__()\n",
    "\n",
    "    def forward(self, logit, truth):\n",
    "        z = logit.view(-1)\n",
    "        t = truth.view(-1)\n",
    "        loss = z.clamp(min=0) - z*t + torch.log(1 + torch.exp(-z.abs()))\n",
    "        loss = loss.sum()/len(t)  # w.sum()\n",
    "        return loss\n",
    "\n",
    "class RobustFocalLoss2d(nn.Module):\n",
    "    # assume top 10% is outliers\n",
    "    def __init__(self, gamma=2, size_average=True):\n",
    "        super(RobustFocalLoss2d, self).__init__()\n",
    "        self.gamma = gamma\n",
    "        self.size_average = size_average\n",
    "\n",
    "    def forward(self, logit, target, class_weight=None, type='sigmoid'):\n",
    "        target = target.view(-1, 1).long()\n",
    "\n",
    "        if type == 'sigmoid':\n",
    "            if class_weight is None:\n",
    "                class_weight = [1]*2  # [0.5, 0.5]\n",
    "\n",
    "            prob = F.sigmoid(logit)\n",
    "            prob = prob.view(-1, 1)\n",
    "            prob = torch.cat((1-prob, prob), 1)\n",
    "            select = Variable(torch.FloatTensor(len(prob), 2).zero_()).cuda()\n",
    "            select.scatter_(1, target, 1.)\n",
    "\n",
    "        elif type == 'softmax':\n",
    "            B, C, H, W = logit.size()\n",
    "            if class_weight is None:\n",
    "                class_weight = [1]*C  # [1/C]*C\n",
    "\n",
    "            logit = logit.permute(0, 2, 3, 1).contiguous().view(-1, C)\n",
    "            prob = F.softmax(logit, 1)\n",
    "            select = torch.FloatTensor(len(prob), C).zero_().cuda()\n",
    "            select.scatter_(1, target, 1.)\n",
    "\n",
    "        class_weight = Variable(torch.FloatTensor(class_weight)).cuda().view(-1, 1)\n",
    "        class_weight = torch.gather(class_weight, 0, target)\n",
    "\n",
    "        prob = (prob*select).sum(1).view(-1, 1)\n",
    "        prob = torch.clamp(prob, 1e-8, 1-1e-8)\n",
    "\n",
    "        focus = torch.pow((1-prob), self.gamma)\n",
    "        #focus = torch.where(focus < 2.0, focus, torch.zeros(prob.size()).cuda())\n",
    "        focus = torch.clamp(focus, 0, 2)\n",
    "\n",
    "        batch_loss = - class_weight * focus*prob.log()\n",
    "\n",
    "        if self.size_average:\n",
    "            loss = batch_loss.mean()\n",
    "        else:\n",
    "            loss = batch_loss\n",
    "\n",
    "        return loss"
   ]
  },
  {
   "cell_type": "markdown",
   "metadata": {
    "_uuid": "c565bb3e33865edf0e5748ac1d44326a18e83282"
   },
   "source": [
    "### 3.3 metrics"
   ]
  },
  {
   "cell_type": "code",
   "execution_count": 9,
   "metadata": {
    "_uuid": "68a135867ae61c07c53e3c766f9ea3bcd8f8c75d",
    "collapsed": true
   },
   "outputs": [],
   "source": [
    "import numpy as np\n",
    "\n",
    "# Score the model and do a threshold optimization by the best IoU.\n",
    "\n",
    "# src: https://www.kaggle.com/aglotero/another-iou-metric\n",
    "\n",
    "\n",
    "def iou_metric(y_true_in, y_pred_in, print_table=False):\n",
    "    labels = y_true_in\n",
    "    y_pred = y_pred_in\n",
    "\n",
    "    true_objects = 2\n",
    "    pred_objects = 2\n",
    "\n",
    "    temp1 = np.histogram2d(labels.flatten(), y_pred.flatten(),\n",
    "                           bins=([0, 0.5, 1], [0, 0.5, 1]))\n",
    "    intersection = temp1[0]\n",
    "    area_true = np.histogram(labels, bins=[0, 0.5, 1])[0]\n",
    "    area_pred = np.histogram(y_pred, bins=[0, 0.5, 1])[0]\n",
    "    area_true = np.expand_dims(area_true, -1)\n",
    "    area_pred = np.expand_dims(area_pred, 0)\n",
    "\n",
    "    # Compute union\n",
    "    union = area_true + area_pred - intersection\n",
    "\n",
    "    # Exclude background from the analysis\n",
    "    intersection = intersection[1:, 1:]\n",
    "    intersection[intersection == 0] = 1e-9\n",
    "\n",
    "    union = union[1:, 1:]\n",
    "    union[union == 0] = 1e-9\n",
    "\n",
    "    # Compute the intersection over union\n",
    "    iou = intersection / union\n",
    "\n",
    "    # Precision helper function\n",
    "    def precision_at(threshold, iou):\n",
    "        matches = iou > threshold\n",
    "        true_positives = np.sum(matches, axis=1) == 1   # Correct objects\n",
    "        false_positives = np.sum(matches, axis=0) == 0  # Missed objects\n",
    "        false_negatives = np.sum(matches, axis=1) == 0  # Extra objects\n",
    "        tp, fp, fn = np.sum(true_positives), np.sum(\n",
    "            false_positives), np.sum(false_negatives)\n",
    "        return tp, fp, fn\n",
    "\n",
    "    # Loop over IoU thresholds\n",
    "    prec = []\n",
    "    if print_table:\n",
    "        print(\"Thresh\\tTP\\tFP\\tFN\\tPrec.\")\n",
    "    for t in np.arange(0.5, 1.0, 0.05):\n",
    "        tp, fp, fn = precision_at(t, iou)\n",
    "        if (tp + fp + fn) > 0:\n",
    "            p = tp / (tp + fp + fn)\n",
    "        else:\n",
    "            p = 0\n",
    "        if print_table:\n",
    "            print(\"{:1.3f}\\t{}\\t{}\\t{}\\t{:1.3f}\".format(t, tp, fp, fn, p))\n",
    "        prec.append(p)\n",
    "\n",
    "    if print_table:\n",
    "        print(\"AP\\t-\\t-\\t-\\t{:1.3f}\".format(np.mean(prec)))\n",
    "    return np.mean(prec)\n",
    "\n",
    "\n",
    "def iou_metric_batch(y_true_in, y_pred_in, thred=0.5):\n",
    "    y_pred_in = np.int32(y_pred_in > thred)  # added by sgx 20180728\n",
    "    batch_size = y_true_in.shape[0]\n",
    "    metric = []\n",
    "    for batch in range(batch_size):\n",
    "        value = iou_metric(y_true_in[batch], y_pred_in[batch])\n",
    "        metric.append(value)\n",
    "    return np.mean(metric)\n",
    "\n",
    "\n",
    "def my_iou_metric(label, pred):\n",
    "    return iou_metric_batch(label, pred)\n",
    "\n",
    "\n",
    "def GetBestThred(y_valid_ori, preds_valid):\n",
    "    thresholds = np.arange(0.3,0.75,0.05)\n",
    "    ious = np.array([iou_metric_batch(y_valid_ori, \n",
    "        preds_valid, threshold) for threshold in thresholds])\n",
    "    maxindex = np.argmax(ious)\n",
    "    bestThred, bestIOU = thresholds[maxindex], ious[maxindex]\n",
    "    return bestThred, bestIOU"
   ]
  },
  {
   "cell_type": "markdown",
   "metadata": {
    "_uuid": "66aa42d86e817529cb3a34f84d29d175c5cfdfdd"
   },
   "source": [
    "### 3.4 utils"
   ]
  },
  {
   "cell_type": "code",
   "execution_count": 37,
   "metadata": {
    "_uuid": "42b1a952a4ff5e73718d460a4156985df90549fe"
   },
   "outputs": [
    {
     "name": "stderr",
     "output_type": "stream",
     "text": [
      "\n"
     ]
    }
   ],
   "source": [
    "import os\n",
    "import numpy as np\n",
    "from sklearn.metrics import jaccard_similarity_score\n",
    "import pandas as pd\n",
    "from skimage.transform import resize\n",
    "from sklearn.model_selection import BaseCrossValidator, train_test_split\n",
    "from PIL import Image\n",
    "import cv2\n",
    "\n",
    "def GenDataNameDict():\n",
    "    np.random.seed(opt.seed)\n",
    "    DataNameDict = {}\n",
    "    AllTrainNameList = [trainname.split(\n",
    "        '.')[-2] for trainname in os.listdir(os.path.join(opt.train_data_images_root))]\n",
    "    np.random.shuffle(AllTrainNameList)\n",
    "    AllTestNameList = [testname.split(\n",
    "        '.')[-2] for testname in os.listdir(os.path.join(opt.test_data_root))]\n",
    "    ValNameList = AllTrainNameList[:int(\n",
    "        opt.valPercent * len(AllTrainNameList))]  # 取百分之二十作为验证集\n",
    "    TrainNameList = AllTrainNameList[int(\n",
    "        opt.valPercent * len(AllTrainNameList)):]\n",
    "    DataNameDict['train'] = TrainNameList\n",
    "    DataNameDict['val'] = ValNameList\n",
    "    DataNameDict['test'] = AllTestNameList\n",
    "    return DataNameDict\n",
    "\n",
    "\n",
    "def CalMeanIOU(score, target):\n",
    "    metric_by_threshold = []\n",
    "    for threshold in np.linspace(0, 1, 11):\n",
    "        val_binary_prediction = (score > threshold).astype(int)\n",
    "\n",
    "        iou_values = []\n",
    "        for i in range(score.shape[0]):\n",
    "            y_mask = target[i]\n",
    "            p_mask = val_binary_prediction[i]\n",
    "            iou = jaccard_similarity_score(y_mask.flatten(), p_mask.flatten())\n",
    "            iou_values.append(iou)\n",
    "        iou_values = np.array(iou_values)\n",
    "\n",
    "        accuracies = [\n",
    "            np.mean(iou_values > iou_threshold)\n",
    "            for iou_threshold in np.linspace(0.5, 0.95, 10)\n",
    "        ]\n",
    "        metric_by_threshold.append((np.mean(accuracies), threshold))\n",
    "\n",
    "    best_metric, best_threshold = max(metric_by_threshold)\n",
    "    return best_metric, best_threshold\n",
    "\n",
    "\n",
    "def write_csv(results, file_name):\n",
    "    import csv\n",
    "    with open(file_name, 'w') as f:\n",
    "        writer = csv.writer(f)\n",
    "        writer.writerow(['id', 'rle_mask'])\n",
    "        writer.writerows(results)\n",
    "\n",
    "\n",
    "def run_length_encoding(x):\n",
    "    # https://www.kaggle.com/c/data-science-bowl-2018/discussion/48561#\n",
    "    bs = np.where(x.T.flatten())[0]\n",
    "\n",
    "    rle = []\n",
    "    prev = -2\n",
    "    for b in bs:\n",
    "        if (b > prev + 1):\n",
    "            rle.extend((b + 1, 0))\n",
    "        rle[-1] += 1\n",
    "        prev = b\n",
    "    return rle\n",
    "\n",
    "\n",
    "def encode_rle(predictions):\n",
    "    return [run_length_encoding(mask) for mask in predictions]\n",
    "\n",
    "\n",
    "def create_submission(predictions_name, predictions, opt, thred=0.5):\n",
    "    output = []\n",
    "    for image_id, mask in zip(predictions_name, predictions):\n",
    "        mask = resize(np.squeeze(mask),\n",
    "                      (opt.ori_image_h, opt.ori_image_w),\n",
    "                      mode='constant', preserve_range=True)\n",
    "        mask = (mask > thred).astype(np.uint8)\n",
    "        rle_encoded = ' '.join(str(rle) for rle in run_length_encoding(mask))\n",
    "        output.append([str(image_id), rle_encoded])\n",
    "\n",
    "    submission = pd.DataFrame(output, columns=['id', 'rle_mask']).astype(str)\n",
    "    return submission\n",
    "\n",
    "\n",
    "def get_mean_rle_mask(test_df):\n",
    "    pred_fold_list = test_df.filter(regex='thred_pred_fold*').columns.tolist()\n",
    "    for index in test_df.index:\n",
    "        mask = np.squeeze((np.sum(test_df.loc[index, pred_fold_list].values, axis=0)\n",
    "                           > (len(pred_fold_list)/2)).astype(np.uint8))\n",
    "        mask = resize(np.squeeze(mask),\n",
    "                      (opt.ori_image_h, opt.ori_image_w),\n",
    "                      mode='constant', preserve_range=True)\n",
    "        test_df.loc[index, 'rle_mask'] = ' '.join(\n",
    "            str(rle) for rle in run_length_encoding(mask))\n",
    "    return test_df\n",
    "\n",
    "def get_fold_rle_mask(test_df, fold_num):\n",
    "    pred_fold_list = test_df.filter(regex='thred_pred_fold%d*'%fold_num).columns.tolist()\n",
    "    for index in test_df.index:\n",
    "        mask = resize(np.squeeze(test_df.loc[index,pred_fold_list]),\n",
    "                      (opt.ori_image_h, opt.ori_image_w),\n",
    "                      mode='constant', preserve_range=True)\n",
    "        test_df.loc[index, 'rle_mask'] = ' '.join(\n",
    "            str(rle) for rle in run_length_encoding(mask))\n",
    "    return test_df\n",
    "\n",
    "\n",
    "def resize_image(image, target_size):\n",
    "    \"\"\"Resize image to target size\n",
    "\n",
    "    Args:\n",
    "        image (numpy.ndarray): Image of shape (C x H x W).\n",
    "        target_size (tuple): Target size (H, W).\n",
    "\n",
    "    Returns:\n",
    "        numpy.ndarray: Resized image of shape (C x H x W).\n",
    "\n",
    "    \"\"\"\n",
    "    n_channels = image.shape[0]\n",
    "    resized_image = resize(\n",
    "        image, (n_channels, target_size[0], target_size[1]), mode='constant')\n",
    "    return resized_image\n",
    "\n",
    "\n",
    "def get_crop_pad_sequence(vertical, horizontal):\n",
    "    top = int(vertical / 2)\n",
    "    bottom = vertical - top\n",
    "    right = int(horizontal / 2)\n",
    "    left = horizontal - right\n",
    "    return (top, right, bottom, left)\n",
    "\n",
    "\n",
    "def crop_image(image, target_size):\n",
    "    \"\"\"Crop image to target size. Image cropped symmetrically.\n",
    "\n",
    "    Args:\n",
    "        image (numpy.ndarray): Image of shape (C x H x W).\n",
    "        target_size (tuple): Target size (H, W).\n",
    "\n",
    "    Returns:\n",
    "        numpy.ndarray: Cropped image of shape (C x H x W).\n",
    "\n",
    "    \"\"\"\n",
    "    top_crop, right_crop, bottom_crop, left_crop = get_crop_pad_sequence(image.shape[1] - target_size[0],\n",
    "                                                                         image.shape[2] - target_size[1])\n",
    "    cropped_image = image[:, top_crop:image.shape[1] -\n",
    "                          bottom_crop, left_crop:image.shape[2] - right_crop]\n",
    "    return cropped_image\n",
    "\n",
    "\n",
    "def binarize(image, threshold):\n",
    "    image_binarized = (image[1, :, :] > threshold).astype(np.uint8)\n",
    "    return image_binarized\n",
    "\n",
    "\n",
    "def run_length_decoding(mask_rle, shape):\n",
    "    \"\"\"\n",
    "    Based on https://www.kaggle.com/msl23518/visualize-the-stage1-test-solution and modified\n",
    "    Args:\n",
    "        mask_rle: run-length as string formatted (start length)\n",
    "        shape: (height, width) of array to return\n",
    "\n",
    "    Returns:\n",
    "        numpy array, 1 - mask, 0 - background\n",
    "\n",
    "    \"\"\"\n",
    "    s = mask_rle.split()\n",
    "    starts, lengths = [np.asarray(x, dtype=int)\n",
    "                       for x in (s[0:][::2], s[1:][::2])]\n",
    "    starts -= 1\n",
    "    ends = starts + lengths\n",
    "    img = np.zeros(shape[1] * shape[0], dtype=np.uint8)\n",
    "    for lo, hi in zip(starts, ends):\n",
    "        img[lo:hi] = 1\n",
    "    return img.reshape((shape[1], shape[0])).T\n",
    "\n",
    "\n",
    "def upsample(img):\n",
    "    if opt.img_size_ori == opt.img_size_target:\n",
    "        return img\n",
    "    return resize(img, (opt.img_size_target, opt.img_size_target), mode='constant', preserve_range=True)\n",
    "    #res = np.zeros((img_size_target, img_size_target), dtype=img.dtype)\n",
    "    #res[:img_size_ori, :img_size_ori] = img\n",
    "    # return res\n",
    "\n",
    "\n",
    "def downsample(img):\n",
    "    if opt.img_size_ori == opt.img_size_target:\n",
    "        return img\n",
    "    return resize(img, (opt.img_size_ori, opt.img_size_ori), mode='constant', preserve_range=True)\n",
    "\n",
    "\n",
    "def GenTrainTest_df():\n",
    "    train_df = pd.read_csv(os.path.join(\n",
    "        opt.ori_data_dir, \"train.csv\"), index_col=\"id\", usecols=[0])\n",
    "    depths_df = pd.read_csv(os.path.join(\n",
    "        opt.ori_data_dir, \"depths.csv\"), index_col=\"id\")\n",
    "    train_df = train_df.join(depths_df)\n",
    "    test_df = depths_df[~depths_df.index.isin(train_df.index)]\n",
    "    train_df[\"images\"] = [Image.open(os.path.join(\n",
    "        opt.train_data_images_root, '%s.png' % idx)) for idx in train_df.index]\n",
    "    test_df[\"images\"] = [Image.open(os.path.join(\n",
    "        opt.test_data_root, '%s.png' % idx)) for idx in test_df.index]\n",
    "    train_df[\"masks\"] = [Image.open(os.path.join(\n",
    "        opt.train_data_masks_root, '%s.png' % idx)) for idx in train_df.index]\n",
    "    train_df[\"coverage\"] = train_df.masks.apply(lambda x:np.sum(np.array(x)>128)/(opt.ori_image_h**2))\n",
    "\n",
    "    def cov_to_class(val):\n",
    "        for i in range(0, 11):\n",
    "            if val * 10 <= i:\n",
    "                return i\n",
    "    train_df[\"coverage_class\"] = train_df.coverage.map(cov_to_class)\n",
    "    return test_df, train_df\n",
    "\n",
    "def GenTrainTest_df_cv2():\n",
    "    train_df = pd.read_csv(os.path.join(\n",
    "        opt.ori_data_dir, \"train.csv\"), index_col=\"id\", usecols=[0])\n",
    "    depths_df = pd.read_csv(os.path.join(\n",
    "        opt.ori_data_dir, \"depths.csv\"), index_col=\"id\")\n",
    "    train_df = train_df.join(depths_df)\n",
    "    test_df = depths_df[~depths_df.index.isin(train_df.index)]\n",
    "    train_df[\"images\"] = [cv2.imread(os.path.join(\n",
    "        opt.train_data_images_root, '%s.png' % idx),cv2.IMREAD_GRAYSCALE).astype(np.float32)/255 for idx in train_df.index]\n",
    "    test_df[\"images\"] = [cv2.imread(os.path.join(\n",
    "        opt.test_data_root, '%s.png' % idx),cv2.IMREAD_GRAYSCALE).astype(np.float32)/255 for idx in test_df.index]\n",
    "    train_df[\"masks\"] = [cv2.imread(os.path.join(\n",
    "        opt.train_data_masks_root, '%s.png' % idx),cv2.IMREAD_GRAYSCALE).astype(np.float32)/255 for idx in train_df.index]\n",
    "    train_df[\"coverage\"] = train_df.masks.apply(lambda x:np.sum(x>0.5)/(x.shape[0]*x.shape[1]))\n",
    "\n",
    "    def cov_to_class(val):\n",
    "        for i in range(0, 11):\n",
    "            if val * 10 <= i:\n",
    "                return i\n",
    "    train_df[\"coverage_class\"] = train_df.coverage.map(cov_to_class)\n",
    "    return test_df, train_df"
   ]
  },
  {
   "cell_type": "markdown",
   "metadata": {
    "_uuid": "2b55c322b77ba84cab5aa48ab657c4e3614a42aa"
   },
   "source": [
    "### 3.5 augumentation"
   ]
  },
  {
   "cell_type": "code",
   "execution_count": 11,
   "metadata": {
    "_uuid": "4e86eb6baafc86298796772a4c2c80d84a40bf5f",
    "collapsed": true
   },
   "outputs": [],
   "source": [
    "import numpy as np\n",
    "from PIL import Image\n",
    "import pandas as pd\n",
    "from itertools import combinations\n",
    "\n",
    "\n",
    "def train_df_aug(train_df, aub_num=5000):\n",
    "    train_df_new = pd.DataFrame(columns=train_df.columns.tolist())\n",
    "    train_df_new['images'] = train_df_new['images'].astype(object)\n",
    "    train_df_new['masks'] = train_df_new['masks'].astype(object)\n",
    "    for i in range(5):\n",
    "        train_df_small = train_df[(train_df.z > i*200) & (train_df.z < (1+i)*200)]\n",
    "        count = 0\n",
    "        for id1, id2 in combinations(train_df_small.index.tolist(),2):\n",
    "            print(count)\n",
    "            count += 1\n",
    "            img1 = np.asarray(train_df_small.loc[id1, 'images'])\n",
    "            img2 = np.asarray(train_df_small.loc[id2, 'images'])\n",
    "            mask1 = np.asarray(train_df_small.loc[id1, 'masks'])\n",
    "            mask2 = np.asarray(train_df_small.loc[id2, 'masks'])\n",
    "            id_new = id1+'_'+id2\n",
    "            img_new = np.zeros(img1.shape)\n",
    "            mask_new = np.zeros(mask1.shape)\n",
    "            z_new = 0\n",
    "            coverage_new = 0\n",
    "            coverage_class_new = 0\n",
    "            mask_union = np.logical_or(mask1,mask2)\n",
    "            mask_new[mask_union] = 255\n",
    "            alpha = np.random.rand()\n",
    "            img_new[np.tile(~mask_union[:,:,np.newaxis],(1,1,3))] = alpha*img1[np.tile(~mask_union[:,:,np.newaxis],(1,1,3))] + (1-alpha)*img2[np.tile(~mask_union[:,:,np.newaxis],(1,1,3))]\n",
    "            img_new[np.tile(np.logical_and(mask_union,mask1)[:,:,np.newaxis],(1,1,3))] = img1[np.tile(np.logical_and(mask_union,mask1)[:,:,np.newaxis],(1,1,3))]\n",
    "            img_new[np.tile(np.logical_and(mask_union,mask2)[:,:,np.newaxis],(1,1,3))] = img2[np.tile(np.logical_and(mask_union,mask2)[:,:,np.newaxis],(1,1,3))]\n",
    "            if np.sum(np.logical_and(mask_union,mask1))>np.sum(np.logical_and(mask_union,mask2)):  \n",
    "                z_new = train_df_small.loc[id1,'z']\n",
    "                coverage_new = train_df_small.loc[id1,'coverage']\n",
    "                coverage_class_new = train_df_small.loc[id1,'coverage_class']\n",
    "            else:\n",
    "                z_new = train_df_small.loc[id2,'z']\n",
    "                coverage_new = train_df_small.loc[id2,'coverage']\n",
    "                coverage_class_new = train_df_small.loc[id2,'coverage_class']\n",
    "            train_df_new.loc[id_new, 'z'] = z_new\n",
    "            train_df_new.loc[id_new, 'coverage'] = coverage_new\n",
    "            train_df_new.loc[id_new, 'coverage_class'] = coverage_class_new\n",
    "            train_df_new.loc[id_new, 'images'] = Image.fromarray(img_new.astype(np.uint8))\n",
    "            train_df_new.loc[id_new, 'masks'] = Image.fromarray(mask_new.astype(np.uint8))\n",
    "            if count>1000:\n",
    "                break\n",
    "    train_df = train_df.append(train_df_new)\n",
    "    return train_df\n"
   ]
  },
  {
   "cell_type": "markdown",
   "metadata": {
    "_uuid": "c6bf210288b2a8d52d57ec58cf6890dabf763d89"
   },
   "source": [
    "### 3.6 comm"
   ]
  },
  {
   "cell_type": "code",
   "execution_count": 12,
   "metadata": {
    "_uuid": "f914cad2290037d213a81d8509c2ee231cec53b4",
    "collapsed": true
   },
   "outputs": [],
   "source": [
    "# -*- coding: utf-8 -*-\n",
    "# File   : comm.py\n",
    "# Author : Jiayuan Mao\n",
    "# Email  : maojiayuan@gmail.com\n",
    "# Date   : 27/01/2018\n",
    "#\n",
    "# This file is part of Synchronized-BatchNorm-PyTorch.\n",
    "# https://github.com/vacancy/Synchronized-BatchNorm-PyTorch\n",
    "# Distributed under MIT License.\n",
    "\n",
    "import queue\n",
    "import collections\n",
    "import threading\n",
    "\n",
    "__all__ = ['FutureResult', 'SlavePipe', 'SyncMaster']\n",
    "\n",
    "\n",
    "class FutureResult(object):\n",
    "    \"\"\"A thread-safe future implementation. Used only as one-to-one pipe.\"\"\"\n",
    "\n",
    "    def __init__(self):\n",
    "        self._result = None\n",
    "        self._lock = threading.Lock()\n",
    "        self._cond = threading.Condition(self._lock)\n",
    "\n",
    "    def put(self, result):\n",
    "        with self._lock:\n",
    "            assert self._result is None, 'Previous result has\\'t been fetched.'\n",
    "            self._result = result\n",
    "            self._cond.notify()\n",
    "\n",
    "    def get(self):\n",
    "        with self._lock:\n",
    "            if self._result is None:\n",
    "                self._cond.wait()\n",
    "\n",
    "            res = self._result\n",
    "            self._result = None\n",
    "            return res\n",
    "\n",
    "\n",
    "_MasterRegistry = collections.namedtuple('MasterRegistry', ['result'])\n",
    "_SlavePipeBase = collections.namedtuple('_SlavePipeBase', ['identifier', 'queue', 'result'])\n",
    "\n",
    "\n",
    "class SlavePipe(_SlavePipeBase):\n",
    "    \"\"\"Pipe for master-slave communication.\"\"\"\n",
    "\n",
    "    def run_slave(self, msg):\n",
    "        self.queue.put((self.identifier, msg))\n",
    "        ret = self.result.get()\n",
    "        self.queue.put(True)\n",
    "        return ret\n",
    "\n",
    "\n",
    "class SyncMaster(object):\n",
    "    \"\"\"An abstract `SyncMaster` object.\n",
    "    - During the replication, as the data parallel will trigger an callback of each module, all slave devices should\n",
    "    call `register(id)` and obtain an `SlavePipe` to communicate with the master.\n",
    "    - During the forward pass, master device invokes `run_master`, all messages from slave devices will be collected,\n",
    "    and passed to a registered callback.\n",
    "    - After receiving the messages, the master device should gather the information and determine to message passed\n",
    "    back to each slave devices.\n",
    "    \"\"\"\n",
    "\n",
    "    def __init__(self, master_callback):\n",
    "        \"\"\"\n",
    "        Args:\n",
    "            master_callback: a callback to be invoked after having collected messages from slave devices.\n",
    "        \"\"\"\n",
    "        self._master_callback = master_callback\n",
    "        self._queue = queue.Queue()\n",
    "        self._registry = collections.OrderedDict()\n",
    "        self._activated = False\n",
    "\n",
    "    def register_slave(self, identifier):\n",
    "        \"\"\"\n",
    "        Register an slave device.\n",
    "        Args:\n",
    "            identifier: an identifier, usually is the device id.\n",
    "        Returns: a `SlavePipe` object which can be used to communicate with the master device.\n",
    "        \"\"\"\n",
    "        if self._activated:\n",
    "            assert self._queue.empty(), 'Queue is not clean before next initialization.'\n",
    "            self._activated = False\n",
    "            self._registry.clear()\n",
    "        future = FutureResult()\n",
    "        self._registry[identifier] = _MasterRegistry(future)\n",
    "        return SlavePipe(identifier, self._queue, future)\n",
    "\n",
    "    def run_master(self, master_msg):\n",
    "        \"\"\"\n",
    "        Main entry for the master device in each forward pass.\n",
    "        The messages were first collected from each devices (including the master device), and then\n",
    "        an callback will be invoked to compute the message to be sent back to each devices\n",
    "        (including the master device).\n",
    "        Args:\n",
    "            master_msg: the message that the master want to send to itself. This will be placed as the first\n",
    "            message when calling `master_callback`. For detailed usage, see `_SynchronizedBatchNorm` for an example.\n",
    "        Returns: the message to be sent back to the master device.\n",
    "        \"\"\"\n",
    "        self._activated = True\n",
    "\n",
    "        intermediates = [(0, master_msg)]\n",
    "        for i in range(self.nr_slaves):\n",
    "            intermediates.append(self._queue.get())\n",
    "\n",
    "        results = self._master_callback(intermediates)\n",
    "        assert results[0][0] == 0, 'The first result should belongs to the master.'\n",
    "\n",
    "        for i, res in results:\n",
    "            if i == 0:\n",
    "                continue\n",
    "            self._registry[i].result.put(res)\n",
    "\n",
    "        for i in range(self.nr_slaves):\n",
    "            assert self._queue.get() is True\n",
    "\n",
    "        return results[0][1]\n",
    "\n",
    "    @property\n",
    "    def nr_slaves(self):\n",
    "        return len(self._registry)"
   ]
  },
  {
   "cell_type": "markdown",
   "metadata": {
    "_uuid": "c83c85cbee526168b43c38f629d070e5e0c42088"
   },
   "source": [
    "### 3.7 replicate"
   ]
  },
  {
   "cell_type": "code",
   "execution_count": 13,
   "metadata": {
    "_uuid": "37ef22cc05218ba282d6433eb7c5b9635c82a97e",
    "collapsed": true
   },
   "outputs": [],
   "source": [
    "# -*- coding: utf-8 -*-\n",
    "# File   : replicate.py\n",
    "# Author : Jiayuan Mao\n",
    "# Email  : maojiayuan@gmail.com\n",
    "# Date   : 27/01/2018\n",
    "#\n",
    "# This file is part of Synchronized-BatchNorm-PyTorch.\n",
    "# https://github.com/vacancy/Synchronized-BatchNorm-PyTorch\n",
    "# Distributed under MIT License.\n",
    "\n",
    "import functools\n",
    "\n",
    "from torch.nn.parallel.data_parallel import DataParallel\n",
    "\n",
    "__all__ = [\n",
    "    'CallbackContext',\n",
    "    'execute_replication_callbacks',\n",
    "    'DataParallelWithCallback',\n",
    "    'patch_replication_callback'\n",
    "]\n",
    "\n",
    "\n",
    "class CallbackContext(object):\n",
    "    pass\n",
    "\n",
    "\n",
    "def execute_replication_callbacks(modules):\n",
    "    \"\"\"\n",
    "    Execute an replication callback `__data_parallel_replicate__` on each module created by original replication.\n",
    "    The callback will be invoked with arguments `__data_parallel_replicate__(ctx, copy_id)`\n",
    "    Note that, as all modules are isomorphism, we assign each sub-module with a context\n",
    "    (shared among multiple copies of this module on different devices).\n",
    "    Through this context, different copies can share some information.\n",
    "    We guarantee that the callback on the master copy (the first copy) will be called ahead of calling the callback\n",
    "    of any slave copies.\n",
    "    \"\"\"\n",
    "    master_copy = modules[0]\n",
    "    nr_modules = len(list(master_copy.modules()))\n",
    "    ctxs = [CallbackContext() for _ in range(nr_modules)]\n",
    "\n",
    "    for i, module in enumerate(modules):\n",
    "        for j, m in enumerate(module.modules()):\n",
    "            if hasattr(m, '__data_parallel_replicate__'):\n",
    "                m.__data_parallel_replicate__(ctxs[j], i)\n",
    "\n",
    "\n",
    "class DataParallelWithCallback(DataParallel):\n",
    "    \"\"\"\n",
    "    Data Parallel with a replication callback.\n",
    "    An replication callback `__data_parallel_replicate__` of each module will be invoked after being created by\n",
    "    original `replicate` function.\n",
    "    The callback will be invoked with arguments `__data_parallel_replicate__(ctx, copy_id)`\n",
    "    Examples:\n",
    "        > sync_bn = SynchronizedBatchNorm1d(10, eps=1e-5, affine=False)\n",
    "        > sync_bn = DataParallelWithCallback(sync_bn, device_ids=[0, 1])\n",
    "        # sync_bn.__data_parallel_replicate__ will be invoked.\n",
    "    \"\"\"\n",
    "\n",
    "    def replicate(self, module, device_ids):\n",
    "        modules = super(DataParallelWithCallback, self).replicate(module, device_ids)\n",
    "        execute_replication_callbacks(modules)\n",
    "        return modules\n",
    "\n",
    "\n",
    "def patch_replication_callback(data_parallel):\n",
    "    \"\"\"\n",
    "    Monkey-patch an existing `DataParallel` object. Add the replication callback.\n",
    "    Useful when you have customized `DataParallel` implementation.\n",
    "    Examples:\n",
    "        > sync_bn = SynchronizedBatchNorm1d(10, eps=1e-5, affine=False)\n",
    "        > sync_bn = DataParallel(sync_bn, device_ids=[0, 1])\n",
    "        > patch_replication_callback(sync_bn)\n",
    "        # this is equivalent to\n",
    "        > sync_bn = SynchronizedBatchNorm1d(10, eps=1e-5, affine=False)\n",
    "        > sync_bn = DataParallelWithCallback(sync_bn, device_ids=[0, 1])\n",
    "    \"\"\"\n",
    "\n",
    "    assert isinstance(data_parallel, DataParallel)\n",
    "\n",
    "    old_replicate = data_parallel.replicate\n",
    "\n",
    "    @functools.wraps(old_replicate)\n",
    "    def new_replicate(module, device_ids):\n",
    "        modules = old_replicate(module, device_ids)\n",
    "        execute_replication_callbacks(modules)\n",
    "        return modules\n",
    "\n",
    "    data_parallel.replicate = new_replicate"
   ]
  },
  {
   "cell_type": "markdown",
   "metadata": {
    "_uuid": "e6c0c1a82bba2c269d9c8a996fd33821b562cae8"
   },
   "source": [
    "### 3.8 batchnorm\n"
   ]
  },
  {
   "cell_type": "code",
   "execution_count": 14,
   "metadata": {
    "_uuid": "08e9977b4d8b5cdaced13042723e942e91d207b6",
    "collapsed": true
   },
   "outputs": [],
   "source": [
    "## https://github.com/zhanghang1989/PyTorch-Encoding/blob/master/encoding/nn/syncbn.py\n",
    "## https://github.com/zhanghang1989/PyTorch-Encoding\n",
    "## https://github.com/vacancy/Synchronized-BatchNorm-PyTorch\n",
    "\n",
    "\n",
    "# -*- coding: utf-8 -*-\n",
    "# File   : batchnorm.py\n",
    "# Author : Jiayuan Mao\n",
    "# Email  : maojiayuan@gmail.com\n",
    "# Date   : 27/01/2018\n",
    "#\n",
    "# This file is part of Synchronized-BatchNorm-PyTorch.\n",
    "# https://github.com/vacancy/Synchronized-BatchNorm-PyTorch\n",
    "# Distributed under MIT License.\n",
    "\n",
    "import collections\n",
    "\n",
    "import torch\n",
    "import torch.nn.functional as F\n",
    "\n",
    "from torch.nn.modules.batchnorm import _BatchNorm\n",
    "from torch.nn.parallel._functions import ReduceAddCoalesced, Broadcast\n",
    "\n",
    "\n",
    "__all__ = ['SynchronizedBatchNorm1d', 'SynchronizedBatchNorm2d', 'SynchronizedBatchNorm3d']\n",
    "\n",
    "\n",
    "def _sum_ft(tensor):\n",
    "    \"\"\"sum over the first and last dimention\"\"\"\n",
    "    return tensor.sum(dim=0).sum(dim=-1)\n",
    "\n",
    "\n",
    "def _unsqueeze_ft(tensor):\n",
    "    \"\"\"add new dementions at the front and the tail\"\"\"\n",
    "    return tensor.unsqueeze(0).unsqueeze(-1)\n",
    "\n",
    "\n",
    "_ChildMessage = collections.namedtuple('_ChildMessage', ['sum', 'ssum', 'sum_size'])\n",
    "_MasterMessage = collections.namedtuple('_MasterMessage', ['sum', 'inv_std'])\n",
    "\n",
    "\n",
    "class _SynchronizedBatchNorm(_BatchNorm):\n",
    "    def __init__(self, num_features, eps=1e-5, momentum=0.1, affine=True):\n",
    "        super(_SynchronizedBatchNorm, self).__init__(num_features, eps=eps, momentum=momentum, affine=affine)\n",
    "\n",
    "        self._sync_master = SyncMaster(self._data_parallel_master)\n",
    "\n",
    "        self._is_parallel = False\n",
    "        self._parallel_id = None\n",
    "        self._slave_pipe = None\n",
    "\n",
    "    def forward(self, input):\n",
    "        # If it is not parallel computation or is in evaluation mode, use PyTorch's implementation.\n",
    "        if not (self._is_parallel and self.training):\n",
    "            return F.batch_norm(\n",
    "                input, self.running_mean, self.running_var, self.weight, self.bias,\n",
    "                self.training, self.momentum, self.eps)\n",
    "\n",
    "        # Resize the input to (B, C, -1).\n",
    "        input_shape = input.size()\n",
    "        input = input.view(input.size(0), self.num_features, -1)\n",
    "\n",
    "        # Compute the sum and square-sum.\n",
    "        sum_size = input.size(0) * input.size(2)\n",
    "        input_sum = _sum_ft(input)\n",
    "        input_ssum = _sum_ft(input ** 2)\n",
    "\n",
    "        # Reduce-and-broadcast the statistics.\n",
    "        if self._parallel_id == 0:\n",
    "            mean, inv_std = self._sync_master.run_master(_ChildMessage(input_sum, input_ssum, sum_size))\n",
    "        else:\n",
    "            mean, inv_std = self._slave_pipe.run_slave(_ChildMessage(input_sum, input_ssum, sum_size))\n",
    "\n",
    "        # Compute the output.\n",
    "        if self.affine:\n",
    "            # MJY:: Fuse the multiplication for speed.\n",
    "            output = (input - _unsqueeze_ft(mean)) * _unsqueeze_ft(inv_std * self.weight) + _unsqueeze_ft(self.bias)\n",
    "        else:\n",
    "            output = (input - _unsqueeze_ft(mean)) * _unsqueeze_ft(inv_std)\n",
    "\n",
    "        # Reshape it.\n",
    "        return output.view(input_shape)\n",
    "\n",
    "    def __data_parallel_replicate__(self, ctx, copy_id):\n",
    "        self._is_parallel = True\n",
    "        self._parallel_id = copy_id\n",
    "\n",
    "        # parallel_id == 0 means master device.\n",
    "        if self._parallel_id == 0:\n",
    "            ctx.sync_master = self._sync_master\n",
    "        else:\n",
    "            self._slave_pipe = ctx.sync_master.register_slave(copy_id)\n",
    "\n",
    "    def _data_parallel_master(self, intermediates):\n",
    "        \"\"\"Reduce the sum and square-sum, compute the statistics, and broadcast it.\"\"\"\n",
    "\n",
    "        # Always using same \"device order\" makes the ReduceAdd operation faster.\n",
    "        # Thanks to:: Tete Xiao (http://tetexiao.com/)\n",
    "        intermediates = sorted(intermediates, key=lambda i: i[1].sum.get_device())\n",
    "\n",
    "        to_reduce = [i[1][:2] for i in intermediates]\n",
    "        to_reduce = [j for i in to_reduce for j in i]  # flatten\n",
    "        target_gpus = [i[1].sum.get_device() for i in intermediates]\n",
    "\n",
    "        sum_size = sum([i[1].sum_size for i in intermediates])\n",
    "        sum_, ssum = ReduceAddCoalesced.apply(target_gpus[0], 2, *to_reduce)\n",
    "        mean, inv_std = self._compute_mean_std(sum_, ssum, sum_size)\n",
    "\n",
    "        broadcasted = Broadcast.apply(target_gpus, mean, inv_std)\n",
    "\n",
    "        outputs = []\n",
    "        for i, rec in enumerate(intermediates):\n",
    "            outputs.append((rec[0], _MasterMessage(*broadcasted[i * 2:i * 2 + 2])))\n",
    "\n",
    "        return outputs\n",
    "\n",
    "    def _compute_mean_std(self, sum_, ssum, size):\n",
    "        \"\"\"Compute the mean and standard-deviation with sum and square-sum. This method\n",
    "        also maintains the moving average on the master device.\"\"\"\n",
    "        assert size > 1, 'BatchNorm computes unbiased standard-deviation, which requires size > 1.'\n",
    "        mean = sum_ / size\n",
    "        sumvar = ssum - sum_ * mean\n",
    "        unbias_var = sumvar / (size - 1)\n",
    "        bias_var = sumvar / size\n",
    "\n",
    "        self.running_mean = (1 - self.momentum) * self.running_mean + self.momentum * mean.data\n",
    "        self.running_var = (1 - self.momentum) * self.running_var + self.momentum * unbias_var.data\n",
    "\n",
    "        return mean, bias_var.clamp(self.eps) ** -0.5\n",
    "\n",
    "\n",
    "class SynchronizedBatchNorm1d(_SynchronizedBatchNorm):\n",
    "    r\"\"\"Applies Synchronized Batch Normalization over a 2d or 3d input that is seen as a\n",
    "    mini-batch.\n",
    "    .. math::\n",
    "        y = \\frac{x - mean[x]}{ \\sqrt{Var[x] + \\epsilon}} * gamma + beta\n",
    "    This module differs from the built-in PyTorch BatchNorm1d as the mean and\n",
    "    standard-deviation are reduced across all devices during training.\n",
    "    For example, when one uses `nn.DataParallel` to wrap the network during\n",
    "    training, PyTorch's implementation normalize the tensor on each device using\n",
    "    the statistics only on that device, which accelerated the computation and\n",
    "    is also easy to implement, but the statistics might be inaccurate.\n",
    "    Instead, in this synchronized version, the statistics will be computed\n",
    "    over all training samples distributed on multiple devices.\n",
    "\n",
    "    Note that, for one-GPU or CPU-only case, this module behaves exactly same\n",
    "    as the built-in PyTorch implementation.\n",
    "    The mean and standard-deviation are calculated per-dimension over\n",
    "    the mini-batches and gamma and beta are learnable parameter vectors\n",
    "    of size C (where C is the input size).\n",
    "    During training, this layer keeps a running estimate of its computed mean\n",
    "    and variance. The running sum is kept with a default momentum of 0.1.\n",
    "    During evaluation, this running mean/variance is used for normalization.\n",
    "    Because the BatchNorm is done over the `C` dimension, computing statistics\n",
    "    on `(N, L)` slices, it's common terminology to call this Temporal BatchNorm\n",
    "    Args:\n",
    "        num_features: num_features from an expected input of size\n",
    "            `batch_size x num_features [x width]`\n",
    "        eps: a value added to the denominator for numerical stability.\n",
    "            Default: 1e-5\n",
    "        momentum: the value used for the running_mean and running_var\n",
    "            computation. Default: 0.1\n",
    "        affine: a boolean value that when set to ``True``, gives the layer learnable\n",
    "            affine parameters. Default: ``True``\n",
    "    Shape:\n",
    "        - Input: :math:`(N, C)` or :math:`(N, C, L)`\n",
    "        - Output: :math:`(N, C)` or :math:`(N, C, L)` (same shape as input)\n",
    "    Examples:\n",
    "        >>> # With Learnable Parameters\n",
    "        >>> m = SynchronizedBatchNorm1d(100)\n",
    "        >>> # Without Learnable Parameters\n",
    "        >>> m = SynchronizedBatchNorm1d(100, affine=False)\n",
    "        >>> input = torch.autograd.Variable(torch.randn(20, 100))\n",
    "        >>> output = m(input)\n",
    "    \"\"\"\n",
    "\n",
    "    def _check_input_dim(self, input):\n",
    "        if input.dim() != 2 and input.dim() != 3:\n",
    "            raise ValueError('expected 2D or 3D input (got {}D input)'\n",
    "                             .format(input.dim()))\n",
    "        super(SynchronizedBatchNorm1d, self)._check_input_dim(input)\n",
    "\n",
    "\n",
    "class SynchronizedBatchNorm2d(_SynchronizedBatchNorm):\n",
    "    r\"\"\"Applies Batch Normalization over a 4d input that is seen as a mini-batch\n",
    "    of 3d inputs\n",
    "    .. math::\n",
    "        y = \\frac{x - mean[x]}{ \\sqrt{Var[x] + \\epsilon}} * gamma + beta\n",
    "    This module differs from the built-in PyTorch BatchNorm2d as the mean and\n",
    "    standard-deviation are reduced across all devices during training.\n",
    "    For example, when one uses `nn.DataParallel` to wrap the network during\n",
    "    training, PyTorch's implementation normalize the tensor on each device using\n",
    "    the statistics only on that device, which accelerated the computation and\n",
    "    is also easy to implement, but the statistics might be inaccurate.\n",
    "    Instead, in this synchronized version, the statistics will be computed\n",
    "    over all training samples distributed on multiple devices.\n",
    "\n",
    "    Note that, for one-GPU or CPU-only case, this module behaves exactly same\n",
    "    as the built-in PyTorch implementation.\n",
    "    The mean and standard-deviation are calculated per-dimension over\n",
    "    the mini-batches and gamma and beta are learnable parameter vectors\n",
    "    of size C (where C is the input size).\n",
    "    During training, this layer keeps a running estimate of its computed mean\n",
    "    and variance. The running sum is kept with a default momentum of 0.1.\n",
    "    During evaluation, this running mean/variance is used for normalization.\n",
    "    Because the BatchNorm is done over the `C` dimension, computing statistics\n",
    "    on `(N, H, W)` slices, it's common terminology to call this Spatial BatchNorm\n",
    "    Args:\n",
    "        num_features: num_features from an expected input of\n",
    "            size batch_size x num_features x height x width\n",
    "        eps: a value added to the denominator for numerical stability.\n",
    "            Default: 1e-5\n",
    "        momentum: the value used for the running_mean and running_var\n",
    "            computation. Default: 0.1\n",
    "        affine: a boolean value that when set to ``True``, gives the layer learnable\n",
    "            affine parameters. Default: ``True``\n",
    "    Shape:\n",
    "        - Input: :math:`(N, C, H, W)`\n",
    "        - Output: :math:`(N, C, H, W)` (same shape as input)\n",
    "    Examples:\n",
    "        >>> # With Learnable Parameters\n",
    "        >>> m = SynchronizedBatchNorm2d(100)\n",
    "        >>> # Without Learnable Parameters\n",
    "        >>> m = SynchronizedBatchNorm2d(100, affine=False)\n",
    "        >>> input = torch.autograd.Variable(torch.randn(20, 100, 35, 45))\n",
    "        >>> output = m(input)\n",
    "    \"\"\"\n",
    "\n",
    "    def _check_input_dim(self, input):\n",
    "        if input.dim() != 4:\n",
    "            raise ValueError('expected 4D input (got {}D input)'\n",
    "                             .format(input.dim()))\n",
    "        super(SynchronizedBatchNorm2d, self)._check_input_dim(input)\n",
    "\n",
    "\n",
    "class SynchronizedBatchNorm3d(_SynchronizedBatchNorm):\n",
    "    r\"\"\"Applies Batch Normalization over a 5d input that is seen as a mini-batch\n",
    "    of 4d inputs\n",
    "    .. math::\n",
    "        y = \\frac{x - mean[x]}{ \\sqrt{Var[x] + \\epsilon}} * gamma + beta\n",
    "    This module differs from the built-in PyTorch BatchNorm3d as the mean and\n",
    "    standard-deviation are reduced across all devices during training.\n",
    "    For example, when one uses `nn.DataParallel` to wrap the network during\n",
    "    training, PyTorch's implementation normalize the tensor on each device using\n",
    "    the statistics only on that device, which accelerated the computation and\n",
    "    is also easy to implement, but the statistics might be inaccurate.\n",
    "    Instead, in this synchronized version, the statistics will be computed\n",
    "    over all training samples distributed on multiple devices.\n",
    "\n",
    "    Note that, for one-GPU or CPU-only case, this module behaves exactly same\n",
    "    as the built-in PyTorch implementation.\n",
    "    The mean and standard-deviation are calculated per-dimension over\n",
    "    the mini-batches and gamma and beta are learnable parameter vectors\n",
    "    of size C (where C is the input size).\n",
    "    During training, this layer keeps a running estimate of its computed mean\n",
    "    and variance. The running sum is kept with a default momentum of 0.1.\n",
    "    During evaluation, this running mean/variance is used for normalization.\n",
    "    Because the BatchNorm is done over the `C` dimension, computing statistics\n",
    "    on `(N, D, H, W)` slices, it's common terminology to call this Volumetric BatchNorm\n",
    "    or Spatio-temporal BatchNorm\n",
    "    Args:\n",
    "        num_features: num_features from an expected input of\n",
    "            size batch_size x num_features x depth x height x width\n",
    "        eps: a value added to the denominator for numerical stability.\n",
    "            Default: 1e-5\n",
    "        momentum: the value used for the running_mean and running_var\n",
    "            computation. Default: 0.1\n",
    "        affine: a boolean value that when set to ``True``, gives the layer learnable\n",
    "            affine parameters. Default: ``True``\n",
    "    Shape:\n",
    "        - Input: :math:`(N, C, D, H, W)`\n",
    "        - Output: :math:`(N, C, D, H, W)` (same shape as input)\n",
    "    Examples:\n",
    "        >>> # With Learnable Parameters\n",
    "        >>> m = SynchronizedBatchNorm3d(100)\n",
    "        >>> # Without Learnable Parameters\n",
    "        >>> m = SynchronizedBatchNorm3d(100, affine=False)\n",
    "        >>> input = torch.autograd.Variable(torch.randn(20, 100, 35, 45, 10))\n",
    "        >>> output = m(input)\n",
    "    \"\"\"\n",
    "\n",
    "    def _check_input_dim(self, input):\n",
    "        if input.dim() != 5:\n",
    "            raise ValueError('expected 5D input (got {}D input)'\n",
    "                             .format(input.dim()))\n",
    "        super(SynchronizedBatchNorm3d, self)._check_input_dim(input)"
   ]
  },
  {
   "cell_type": "markdown",
   "metadata": {
    "_uuid": "a514ffd32da3b95a5e8639384603667a9136d163"
   },
   "source": [
    "### 3.9 transform\n"
   ]
  },
  {
   "cell_type": "code",
   "execution_count": 15,
   "metadata": {
    "_uuid": "db96679dd815cbd3c5bbdaf48a00cb31a0adf99b",
    "collapsed": true
   },
   "outputs": [],
   "source": [
    "import cv2\n",
    "import numpy as np\n",
    "from PIL import Image\n",
    "import math\n",
    "\n",
    "\n",
    "def do_resize(image, H, W):\n",
    "    image = cv2.resize(image, dsize=(W, H))\n",
    "    return image\n",
    "\n",
    "\n",
    "def do_resize2(image, mask, H, W):\n",
    "    image = cv2.resize(image, dsize=(W, H))\n",
    "    mask = cv2.resize(mask, dsize=(W, H))\n",
    "    mask = (mask > 0.5).astype(np.float32)\n",
    "\n",
    "    return image, mask\n",
    "#################################################################\n",
    "\n",
    "\n",
    "def compute_center_pad(H, W, factor=32):\n",
    "\n",
    "    if H % factor == 0:\n",
    "        dy0, dy1 = 0, 0\n",
    "    else:\n",
    "        dy = factor - H % factor\n",
    "        dy0 = dy//2\n",
    "        dy1 = dy - dy0\n",
    "\n",
    "    if W % factor == 0:\n",
    "        dx0, dx1 = 0, 0\n",
    "    else:\n",
    "        dx = factor - W % factor\n",
    "        dx0 = dx//2\n",
    "        dx1 = dx - dx0\n",
    "\n",
    "    return dy0, dy1, dx0, dx1\n",
    "\n",
    "\n",
    "def do_center_pad_to_factor(image, factor=32):\n",
    "    H, W = image.shape[:2]\n",
    "    dy0, dy1, dx0, dx1 = compute_center_pad(H, W, factor)\n",
    "\n",
    "    image = cv2.copyMakeBorder(\n",
    "        image, dy0, dy1, dx0, dx1, cv2.BORDER_REFLECT_101)\n",
    "    # cv2.BORDER_CONSTANT, 0)\n",
    "    return image\n",
    "\n",
    "\n",
    "def do_center_pad_to_factor2(image, mask, factor=32):\n",
    "    image = do_center_pad_to_factor(image, factor)\n",
    "    mask = do_center_pad_to_factor(mask, factor)\n",
    "    return image, mask\n",
    "\n",
    "def do_center_pad2(image, mask, PAD):\n",
    "    image = cv2.copyMakeBorder(\n",
    "        image, PAD, PAD, PAD, PAD, cv2.BORDER_REFLECT_101)\n",
    "    mask = cv2.copyMakeBorder(\n",
    "        mask, PAD, PAD, PAD, PAD, cv2.BORDER_REFLECT_101)\n",
    "    return image, mask \n",
    "\n",
    "def do_center_pad(image, PAD):\n",
    "    image = cv2.copyMakeBorder(\n",
    "        image, PAD, PAD, PAD, PAD, cv2.BORDER_REFLECT_101)\n",
    "    return image \n",
    "#---\n",
    "\n",
    "\n",
    "def do_horizontal_flip(image):\n",
    "    # flip left-right\n",
    "    image = cv2.flip(image, 1)\n",
    "    return image\n",
    "\n",
    "\n",
    "def do_horizontal_flip2(image, mask):\n",
    "    image = do_horizontal_flip(image)\n",
    "    mask = do_horizontal_flip(mask)\n",
    "    return image, mask\n",
    "\n",
    "#---\n",
    "\n",
    "\n",
    "def compute_random_pad(H, W, limit=(-4, 4), factor=32):\n",
    "\n",
    "    if H % factor == 0:\n",
    "        dy0, dy1 = 0, 0\n",
    "    else:\n",
    "        dy = factor - H % factor\n",
    "        # np.random.choice(dy)\n",
    "        dy0 = dy//2 + np.random.randint(limit[0], limit[1])\n",
    "        dy1 = dy - dy0\n",
    "\n",
    "    if W % factor == 0:\n",
    "        dx0, dx1 = 0, 0\n",
    "    else:\n",
    "        dx = factor - W % factor\n",
    "        # np.random.choice(dx)\n",
    "        dx0 = dx//2 + np.random.randint(limit[0], limit[1])\n",
    "        dx1 = dx - dx0\n",
    "\n",
    "    return dy0, dy1, dx0, dx1\n",
    "\n",
    "\n",
    "def do_random_pad_to_factor2(image, mask, limit=(-4, 4), factor=32):\n",
    "    H, W = image.shape[:2]\n",
    "    dy0, dy1, dx0, dx1 = compute_random_pad(H, W, limit, factor)\n",
    "\n",
    "    image = cv2.copyMakeBorder(\n",
    "        image, dy0, dy1, dx0, dx1, cv2.BORDER_REFLECT_101)\n",
    "    mask = cv2.copyMakeBorder(mask,  dy0, dy1, dx0,\n",
    "                              dx1, cv2.BORDER_REFLECT_101)\n",
    "\n",
    "    return image, mask\n",
    "\n",
    "#----\n",
    "\n",
    "\n",
    "def do_invert_intensity(image):\n",
    "    # flip left-right\n",
    "    image = np.clip(1-image, 0, 1)\n",
    "    return image\n",
    "\n",
    "\n",
    "def do_brightness_shift(image, alpha=0.125):\n",
    "    image = image + alpha\n",
    "    image = np.clip(image, 0, 1)\n",
    "    return image\n",
    "\n",
    "\n",
    "def do_brightness_multiply(image, alpha=1):\n",
    "    image = alpha*image\n",
    "    image = np.clip(image, 0, 1)\n",
    "    return image\n",
    "\n",
    "\n",
    "# https://www.pyimagesearch.com/2015/10/05/opencv-gamma-correction/\n",
    "def do_gamma(image, gamma=1.0):\n",
    "\n",
    "    image = image ** (1.0 / gamma)\n",
    "    image = np.clip(image, 0, 1)\n",
    "    return image\n",
    "\n",
    "\n",
    "def do_flip_transpose2(image, mask, type=0):\n",
    "    # choose one of the 8 cases\n",
    "\n",
    "    if type == 1:  # rotate90\n",
    "        image = image.transpose(1, 0)\n",
    "        image = cv2.flip(image, 1)\n",
    "\n",
    "        mask = mask.transpose(1, 0)\n",
    "        mask = cv2.flip(mask, 1)\n",
    "\n",
    "    if type == 2:  # rotate180\n",
    "        image = cv2.flip(image, -1)\n",
    "        mask = cv2.flip(mask, -1)\n",
    "\n",
    "    if type == 3:  # rotate270\n",
    "        image = image.transpose(1, 0)\n",
    "        image = cv2.flip(image, 0)\n",
    "\n",
    "        mask = mask.transpose(1, 0)\n",
    "        mask = cv2.flip(mask, 0)\n",
    "\n",
    "    if type == 4:  # flip left-right\n",
    "        image = cv2.flip(image, 1)\n",
    "        mask = cv2.flip(mask, 1)\n",
    "\n",
    "    if type == 5:  # flip up-down\n",
    "        image = cv2.flip(image, 0)\n",
    "        mask = cv2.flip(mask, 0)\n",
    "\n",
    "    if type == 6:\n",
    "        image = cv2.flip(image, 1)\n",
    "        image = image.transpose(1, 0)\n",
    "        image = cv2.flip(image, 1)\n",
    "\n",
    "        mask = cv2.flip(mask, 1)\n",
    "        mask = mask.transpose(1, 0)\n",
    "        mask = cv2.flip(mask, 1)\n",
    "\n",
    "    if type == 7:\n",
    "        image = cv2.flip(image, 0)\n",
    "        image = image.transpose(1, 0)\n",
    "        image = cv2.flip(image, 1)\n",
    "\n",
    "        mask = cv2.flip(mask, 0)\n",
    "        mask = mask.transpose(1, 0)\n",
    "        mask = cv2.flip(mask, 1)\n",
    "\n",
    "    return image, mask\n",
    "\n",
    "# ================================\n",
    "\n",
    "\n",
    "def do_shift_scale_crop(image, mask, x0=0, y0=0, x1=1, y1=1):\n",
    "    # cv2.BORDER_REFLECT_101\n",
    "    # cv2.BORDER_CONSTANT\n",
    "\n",
    "    height, width = image.shape[:2]\n",
    "    image = image[y0:y1, x0:x1]\n",
    "    mask = mask[y0:y1, x0:x1]\n",
    "\n",
    "    image = cv2.resize(image, dsize=(width, height))\n",
    "    mask = cv2.resize(mask, dsize=(width, height))\n",
    "    mask = (mask > 0.5).astype(np.float32)\n",
    "    return image, mask\n",
    "\n",
    "\n",
    "def do_random_shift_scale_crop_pad2(image, mask, limit=0.10):\n",
    "\n",
    "    H, W = image.shape[:2]\n",
    "\n",
    "    dy = int(H*limit)\n",
    "    y0 = np.random.randint(0, dy)\n",
    "    y1 = H-np.random.randint(0, dy)\n",
    "\n",
    "    dx = int(W*limit)\n",
    "    x0 = np.random.randint(0, dx)\n",
    "    x1 = W-np.random.randint(0, dx)\n",
    "\n",
    "    #y0, y1, x0, x1\n",
    "    image, mask = do_shift_scale_crop(image, mask, x0, y0, x1, y1)\n",
    "    return image, mask\n",
    "\n",
    "#===========================================================================\n",
    "\n",
    "\n",
    "def do_shift_scale_rotate2(image, mask, dx=0, dy=0, scale=1, angle=0):\n",
    "    borderMode = cv2.BORDER_REFLECT_101\n",
    "    # cv2.BORDER_REFLECT_101  cv2.BORDER_CONSTANT\n",
    "\n",
    "    height, width = image.shape[:2]\n",
    "    sx = scale\n",
    "    sy = scale\n",
    "    cc = math.cos(angle/180*math.pi)*(sx)\n",
    "    ss = math.sin(angle/180*math.pi)*(sy)\n",
    "    rotate_matrix = np.array([[cc, -ss], [ss, cc]])\n",
    "\n",
    "    box0 = np.array([[0, 0], [width, 0],  [width, height],\n",
    "                     [0, height], ], np.float32)\n",
    "    box1 = box0 - np.array([width/2, height/2])\n",
    "    box1 = np.dot(box1, rotate_matrix.T) + np.array([width/2+dx, height/2+dy])\n",
    "\n",
    "    box0 = box0.astype(np.float32)\n",
    "    box1 = box1.astype(np.float32)\n",
    "    mat = cv2.getPerspectiveTransform(box0, box1)\n",
    "\n",
    "    image = cv2.warpPerspective(image, mat, (width, height), flags=cv2.INTER_LINEAR,\n",
    "                                borderMode=borderMode, borderValue=(0, 0, 0,))  # cv2.BORDER_CONSTANT, borderValue = (0, 0, 0))  #cv2.BORDER_REFLECT_101\n",
    "    mask = cv2.warpPerspective(mask, mat, (width, height), flags=cv2.INTER_NEAREST,  # cv2.INTER_LINEAR\n",
    "                               borderMode=borderMode, borderValue=(0, 0, 0,))  # cv2.BORDER_CONSTANT, borderValue = (0, 0, 0))  #cv2.BORDER_REFLECT_101\n",
    "    mask = (mask > 0.5).astype(np.float32)\n",
    "    return image, mask\n",
    "\n",
    "# https://www.kaggle.com/ori226/data-augmentation-with-elastic-deformations\n",
    "# https://github.com/letmaik/lensfunpy/blob/master/lensfunpy/util.py\n",
    "\n",
    "\n",
    "def do_elastic_transform2(image, mask, grid=32, distort=0.2):\n",
    "    borderMode = cv2.BORDER_REFLECT_101\n",
    "    height, width = image.shape[:2]\n",
    "\n",
    "    x_step = int(grid)\n",
    "    xx = np.zeros(width, np.float32)\n",
    "    prev = 0\n",
    "    for x in range(0, width, x_step):\n",
    "        start = x\n",
    "        end = x + x_step\n",
    "        if end > width:\n",
    "            end = width\n",
    "            cur = width\n",
    "        else:\n",
    "            cur = prev + x_step*(1+random.uniform(-distort, distort))\n",
    "\n",
    "        xx[start:end] = np.linspace(prev, cur, end-start)\n",
    "        prev = cur\n",
    "\n",
    "    y_step = int(grid)\n",
    "    yy = np.zeros(height, np.float32)\n",
    "    prev = 0\n",
    "    for y in range(0, height, y_step):\n",
    "        start = y\n",
    "        end = y + y_step\n",
    "        if end > height:\n",
    "            end = height\n",
    "            cur = height\n",
    "        else:\n",
    "            cur = prev + y_step*(1+random.uniform(-distort, distort))\n",
    "\n",
    "        yy[start:end] = np.linspace(prev, cur, end-start)\n",
    "        prev = cur\n",
    "\n",
    "    # grid\n",
    "    map_x, map_y = np.meshgrid(xx, yy)\n",
    "    map_x = map_x.astype(np.float32)\n",
    "    map_y = map_y.astype(np.float32)\n",
    "\n",
    "    #image = map_coordinates(image, coords, order=1, mode='reflect').reshape(shape)\n",
    "    image = cv2.remap(image, map_x, map_y, interpolation=cv2.INTER_LINEAR,\n",
    "                      borderMode=borderMode, borderValue=(0, 0, 0,))\n",
    "\n",
    "    mask = cv2.remap(mask, map_x, map_y, interpolation=cv2.INTER_NEAREST,\n",
    "                     borderMode=borderMode, borderValue=(0, 0, 0,))\n",
    "    mask = (mask > 0.5).astype(np.float32)\n",
    "    return image, mask\n",
    "\n",
    "\n",
    "def do_horizontal_shear2(image, mask, dx=0):\n",
    "    borderMode = cv2.BORDER_REFLECT_101\n",
    "    # cv2.BORDER_REFLECT_101  cv2.BORDER_CONSTANT\n",
    "\n",
    "    height, width = image.shape[:2]\n",
    "    dx = int(dx*width)\n",
    "\n",
    "    box0 = np.array([[0, 0], [width, 0],  [width, height],\n",
    "                     [0, height], ], np.float32)\n",
    "    box1 = np.array([[+dx, 0], [width+dx, 0],  [width-dx,\n",
    "                                                height], [-dx, height], ], np.float32)\n",
    "\n",
    "    box0 = box0.astype(np.float32)\n",
    "    box1 = box1.astype(np.float32)\n",
    "    mat = cv2.getPerspectiveTransform(box0, box1)\n",
    "\n",
    "    image = cv2.warpPerspective(image, mat, (width, height), flags=cv2.INTER_LINEAR,\n",
    "                                borderMode=borderMode, borderValue=(0, 0, 0,))  # cv2.BORDER_CONSTANT, borderValue = (0, 0, 0))  #cv2.BORDER_REFLECT_101\n",
    "    mask = cv2.warpPerspective(mask, mat, (width, height), flags=cv2.INTER_NEAREST,  # cv2.INTER_LINEAR\n",
    "                               borderMode=borderMode, borderValue=(0, 0, 0,))  # cv2.BORDER_CONSTANT, borderValue = (0, 0, 0))  #cv2.BORDER_REFLECT_101\n",
    "    mask = (mask > 0.5).astype(np.float32)\n",
    "    return image, mask\n"
   ]
  },
  {
   "cell_type": "code",
   "execution_count": 16,
   "metadata": {
    "_uuid": "c12b94eead1ce741ba13ac70e54fcaf7e04a65dc"
   },
   "outputs": [
    {
     "name": "stderr",
     "output_type": "stream",
     "text": [
      "/opt/conda/lib/python3.6/site-packages/ipykernel_launcher.py:221: SettingWithCopyWarning: \n",
      "A value is trying to be set on a copy of a slice from a DataFrame.\n",
      "Try using .loc[row_indexer,col_indexer] = value instead\n",
      "\n",
      "See the caveats in the documentation: http://pandas.pydata.org/pandas-docs/stable/indexing.html#indexing-view-versus-copy\n"
     ]
    }
   ],
   "source": [
    "test_df, train_df = GenTrainTest_df_cv2()"
   ]
  },
  {
   "cell_type": "code",
   "execution_count": 17,
   "metadata": {
    "_uuid": "c9072529ea0c160dc5dd5e85832283f9ad46da41"
   },
   "outputs": [
    {
     "data": {
      "text/html": [
       "<div>\n",
       "<style scoped>\n",
       "    .dataframe tbody tr th:only-of-type {\n",
       "        vertical-align: middle;\n",
       "    }\n",
       "\n",
       "    .dataframe tbody tr th {\n",
       "        vertical-align: top;\n",
       "    }\n",
       "\n",
       "    .dataframe thead th {\n",
       "        text-align: right;\n",
       "    }\n",
       "</style>\n",
       "<table border=\"1\" class=\"dataframe\">\n",
       "  <thead>\n",
       "    <tr style=\"text-align: right;\">\n",
       "      <th></th>\n",
       "      <th>z</th>\n",
       "      <th>images</th>\n",
       "      <th>masks</th>\n",
       "      <th>coverage</th>\n",
       "      <th>coverage_class</th>\n",
       "    </tr>\n",
       "    <tr>\n",
       "      <th>id</th>\n",
       "      <th></th>\n",
       "      <th></th>\n",
       "      <th></th>\n",
       "      <th></th>\n",
       "      <th></th>\n",
       "    </tr>\n",
       "  </thead>\n",
       "  <tbody>\n",
       "    <tr>\n",
       "      <th>575d24d81d</th>\n",
       "      <td>843</td>\n",
       "      <td>[[0.5254902, 0.5137255, 0.5254902, 0.5372549, ...</td>\n",
       "      <td>[[0.0, 0.0, 0.0, 0.0, 0.0, 0.0, 0.0, 0.0, 0.0,...</td>\n",
       "      <td>0.000000</td>\n",
       "      <td>0</td>\n",
       "    </tr>\n",
       "    <tr>\n",
       "      <th>a266a2a9df</th>\n",
       "      <td>794</td>\n",
       "      <td>[[0.34117648, 0.3764706, 0.33333334, 0.2235294...</td>\n",
       "      <td>[[0.0, 0.0, 0.0, 0.0, 0.0, 0.0, 0.0, 0.0, 0.0,...</td>\n",
       "      <td>0.504950</td>\n",
       "      <td>6</td>\n",
       "    </tr>\n",
       "    <tr>\n",
       "      <th>75efad62c1</th>\n",
       "      <td>468</td>\n",
       "      <td>[[0.5686275, 0.46666667, 0.3254902, 0.2627451,...</td>\n",
       "      <td>[[0.0, 0.0, 0.0, 0.0, 0.0, 0.0, 0.0, 0.0, 0.0,...</td>\n",
       "      <td>0.993334</td>\n",
       "      <td>10</td>\n",
       "    </tr>\n",
       "    <tr>\n",
       "      <th>34e51dba6a</th>\n",
       "      <td>727</td>\n",
       "      <td>[[0.5411765, 0.4745098, 0.39607844, 0.30588236...</td>\n",
       "      <td>[[0.0, 0.0, 0.0, 0.0, 0.0, 0.0, 0.0, 0.0, 0.0,...</td>\n",
       "      <td>0.149201</td>\n",
       "      <td>2</td>\n",
       "    </tr>\n",
       "    <tr>\n",
       "      <th>4875705fb0</th>\n",
       "      <td>797</td>\n",
       "      <td>[[0.06666667, 0.078431375, 0.09019608, 0.10588...</td>\n",
       "      <td>[[0.0, 0.0, 0.0, 0.0, 0.0, 0.0, 0.0, 0.0, 0.0,...</td>\n",
       "      <td>0.042839</td>\n",
       "      <td>1</td>\n",
       "    </tr>\n",
       "  </tbody>\n",
       "</table>\n",
       "</div>"
      ],
      "text/plain": [
       "              z                                             images  \\\n",
       "id                                                                   \n",
       "575d24d81d  843  [[0.5254902, 0.5137255, 0.5254902, 0.5372549, ...   \n",
       "a266a2a9df  794  [[0.34117648, 0.3764706, 0.33333334, 0.2235294...   \n",
       "75efad62c1  468  [[0.5686275, 0.46666667, 0.3254902, 0.2627451,...   \n",
       "34e51dba6a  727  [[0.5411765, 0.4745098, 0.39607844, 0.30588236...   \n",
       "4875705fb0  797  [[0.06666667, 0.078431375, 0.09019608, 0.10588...   \n",
       "\n",
       "                                                        masks  coverage  \\\n",
       "id                                                                        \n",
       "575d24d81d  [[0.0, 0.0, 0.0, 0.0, 0.0, 0.0, 0.0, 0.0, 0.0,...  0.000000   \n",
       "a266a2a9df  [[0.0, 0.0, 0.0, 0.0, 0.0, 0.0, 0.0, 0.0, 0.0,...  0.504950   \n",
       "75efad62c1  [[0.0, 0.0, 0.0, 0.0, 0.0, 0.0, 0.0, 0.0, 0.0,...  0.993334   \n",
       "34e51dba6a  [[0.0, 0.0, 0.0, 0.0, 0.0, 0.0, 0.0, 0.0, 0.0,...  0.149201   \n",
       "4875705fb0  [[0.0, 0.0, 0.0, 0.0, 0.0, 0.0, 0.0, 0.0, 0.0,...  0.042839   \n",
       "\n",
       "            coverage_class  \n",
       "id                          \n",
       "575d24d81d               0  \n",
       "a266a2a9df               6  \n",
       "75efad62c1              10  \n",
       "34e51dba6a               2  \n",
       "4875705fb0               1  "
      ]
     },
     "execution_count": 17,
     "metadata": {},
     "output_type": "execute_result"
    }
   ],
   "source": [
    "train_df.head()"
   ]
  },
  {
   "cell_type": "markdown",
   "metadata": {
    "_uuid": "087a574fc07541d1cb2214fb6fe8eb73e2a5fd27"
   },
   "source": [
    "## main"
   ]
  },
  {
   "cell_type": "code",
   "execution_count": 18,
   "metadata": {
    "_uuid": "368b0affe9518ac4b433f08f05e35187a1c0d49b",
    "collapsed": true
   },
   "outputs": [],
   "source": [
    "import torch\n",
    "from sklearn.model_selection import KFold,StratifiedKFold\n",
    "from torch.utils.data import DataLoader\n",
    "from torch.autograd import Variable\n",
    "from tqdm import tqdm\n",
    "import gc"
   ]
  },
  {
   "cell_type": "code",
   "execution_count": 19,
   "metadata": {
    "_uuid": "5e8e578f43626c9cffc17a8f767ac140b57ff7b4",
    "collapsed": true
   },
   "outputs": [],
   "source": [
    "def val(model, dataloader):\n",
    "    \"\"\"\n",
    "    计算模型在验证集上的准确率等信息\n",
    "    \"\"\"\n",
    "    #val_loss = torch.nn.BCELoss()\n",
    "    #val_loss = torch.nn.BCEWithLogitsLoss()\n",
    "    #val_loss = mixed_dice_bce_loss(opt.dice_weight, opt.bce_weight)\n",
    "    print('fold validating...')\n",
    "    val_loss = RobustFocalLoss2d()\n",
    "    model.eval()\n",
    "    vallosslist = []\n",
    "    meanioulist = []\n",
    "    val_predictions = []\n",
    "    val_masks = []\n",
    "    for ii, data in tqdm(enumerate(dataloader)):\n",
    "        input, label = data\n",
    "        val_input = Variable(input, volatile=True)\n",
    "        val_target = Variable(label, volatile=True)\n",
    "        if opt.use_gpu:\n",
    "            val_input = val_input.cuda()\n",
    "            val_target = val_target.cuda()\n",
    "        score = model(val_input)\n",
    "        val_predictions.append(torch.squeeze(F.sigmoid(score)).cpu().data.numpy())\n",
    "        val_masks.append(val_target.cpu().data.numpy())\n",
    "        valloss = val_loss(score, val_target)\n",
    "        vallosslist.append(valloss.cpu().data[0])\n",
    "    val_predictions = np.vstack(val_predictions)\n",
    "    val_masks = np.vstack(val_masks)\n",
    "    bestThred, bestIOU = GetBestThred(val_masks, val_predictions)\n",
    "    model.train()\n",
    "    return np.mean(vallosslist), bestIOU, bestThred"
   ]
  },
  {
   "cell_type": "code",
   "execution_count": 20,
   "metadata": {
    "_uuid": "7ba6151fd337c276cb29f5b5eaeea2898cb90bd5",
    "collapsed": true
   },
   "outputs": [],
   "source": [
    "def test(model, bestThred, test_dataloader):\n",
    "    if opt.use_gpu:\n",
    "        model.cuda()\n",
    "    model.eval()\n",
    "    print('fold testing...')\n",
    "    test_df['pred_fold%d' %n_fold] = np.nan\n",
    "    test_df['pred_fold%d' %n_fold] = test_df['pred_fold%d' %n_fold].astype(object)\n",
    "    for ii, (data, img_ids) in tqdm(enumerate(test_dataloader)):\n",
    "        input = torch.autograd.Variable(data, volatile=True)\n",
    "        if opt.use_gpu:\n",
    "            input = input.cuda()\n",
    "        score = torch.squeeze(F.sigmoid(model(input)))\n",
    "        test_df.loc[list(img_ids), 'pred_fold%d' %\n",
    "                    n_fold] = list(score.cpu().data.numpy())\n",
    "    test_df['thred_pred_fold%d_%f' % (n_fold,bestThred)] = test_df['pred_fold%d' % n_fold].apply(lambda x:(x > bestThred).astype(np.int8))"
   ]
  },
  {
   "cell_type": "code",
   "execution_count": 21,
   "metadata": {
    "_uuid": "894339b765553aa266536074c4f2738932c973e0",
    "collapsed": true
   },
   "outputs": [],
   "source": [
    "def train(n_fold, train_idx, valid_idx):\n",
    "    # step1: configure model\n",
    "    BestModel = None\n",
    "    BestThred = opt.BestThred\n",
    "    BestIou = -1\n",
    "    print('loading model...')\n",
    "    model = UNetResNet34()\n",
    "    print('successfully loading model...')\n",
    "    if opt.load_model_path:\n",
    "        model.load(opt.load_model_path)\n",
    "    if opt.use_gpu:\n",
    "        model.cuda()\n",
    "    previous_loss = 1e100\n",
    "    lr = opt.lr\n",
    "    print('Fold:%d...' % n_fold)\n",
    "    train_data = TrainDataSet(train_df.iloc[train_idx].index.tolist(), opt)\n",
    "    val_data = ValDataSet(train_df.iloc[valid_idx].index.tolist(), opt)\n",
    "    train_dataloader = DataLoader(train_data, opt.batch_size,\n",
    "                                    shuffle=True)\n",
    "    val_dataloader = DataLoader(val_data, opt.batch_size,\n",
    "                                    shuffle=False)\n",
    "    #criterion = torch.nn.BCELoss()\n",
    "    #criterion = torch.nn.BCEWithLogitsLoss()\n",
    "    #criterion = mixed_dice_bce_loss(opt.dice_weight, opt.bce_weight)\n",
    "    criterion = RobustFocalLoss2d()\n",
    "    optimizer = torch.optim.Adam(model.parameters(), lr=lr, weight_decay=opt.weight_decay)\n",
    "    #optimizer = torch.optim.SGD(filter(lambda p: p.requires_grad, model.parameters()),lr=lr, momentum=0.9, weight_decay=0.0001)\n",
    "    # train\n",
    "    train_loss = []\n",
    "    val_loss = []\n",
    "    val_iou = []\n",
    "    val_bestthred_list = []\n",
    "    for epoch in range(opt.max_epoch):\n",
    "        print('Epoch:%d...' % epoch)\n",
    "        train_loss_batch = []\n",
    "        for ii, (data, label) in tqdm(enumerate(train_dataloader)):\n",
    "            # train model\n",
    "            input = Variable(data)\n",
    "            target = Variable(label)\n",
    "            if opt.use_gpu:\n",
    "                model = model.cuda()\n",
    "                input = input.cuda()\n",
    "                target = target.cuda()\n",
    "\n",
    "            optimizer.zero_grad()\n",
    "            score = model(input)\n",
    "            loss = criterion(score, target)\n",
    "            loss.backward()\n",
    "            optimizer.step()\n",
    "            if ii % opt.print_freq == opt.print_freq - 1:\n",
    "                print('Fold:%d\\t Epoch:%d\\t Batch:%d\\t loss:%f' %\n",
    "                        (n_fold, epoch, ii, loss.data[0]))\n",
    "            train_loss_batch.append(loss.data[0])\n",
    "            # validate and visualize\n",
    "        val_meanloss, val_meaniou, val_bestthred = val(model, val_dataloader)\n",
    "        print('Fold:%d\\t Epoch:%d\\t meanTrainLoss:%f\\t meanValLoss:%f\\t meanValIOU:%f\\t BestValThred:%f' %\n",
    "                (n_fold, epoch, np.mean(train_loss_batch), val_meanloss, val_meaniou, val_bestthred))\n",
    "        train_loss.append(np.mean(train_loss_batch))\n",
    "        val_loss.append(val_meanloss)\n",
    "        val_iou.append(val_meaniou)\n",
    "        val_bestthred_list.append(val_bestthred)\n",
    "        # update learning rate\n",
    "        if val_meanloss > previous_loss:\n",
    "            lr = lr * opt.lr_decay\n",
    "            # 第二种降低学习率的方法:不会有moment等信息的丢失\n",
    "            for param_group in optimizer.param_groups:\n",
    "                param_group['lr'] = lr\n",
    "        previous_loss = val_meanloss\n",
    "        #save the best model\n",
    "        if val_meaniou>BestIou:\n",
    "            BestIou = val_meaniou\n",
    "            BestModel = model\n",
    "            BestThred = val_bestthred\n",
    "    return BestModel,BestIou,BestThred,train_loss,val_loss,val_iou,val_bestthred_list"
   ]
  },
  {
   "cell_type": "code",
   "execution_count": 22,
   "metadata": {
    "_uuid": "3acaa0bbda5bf3143e4272a8e7fa1aa6af94123f",
    "collapsed": true
   },
   "outputs": [],
   "source": [
    "import matplotlib.pyplot as plt\n",
    "%matplotlib inline\n",
    "def plot_result(train_loss,val_loss,val_iou,val_bestthred):\n",
    "    plt.figure(1)\n",
    "    plt.title('train loss vs val loss')\n",
    "    plt.plot(train_loss,label='train loss')\n",
    "    plt.plot(val_loss,label='train loss')\n",
    "    plt.ylabel('loss')\n",
    "    plt.xlabel('epoch')\n",
    "    plt.legend()\n",
    "    plt.figure(2)\n",
    "    plt.title('val mean iou')\n",
    "    plt.plot(val_iou)\n",
    "    plt.ylabel('mean iou')\n",
    "    plt.xlabel('epoch')\n",
    "    plt.figure(3)\n",
    "    plt.title('best thred')\n",
    "    plt.plot(val_bestthred)\n",
    "    plt.ylabel('val_bestthred')\n",
    "    plt.xlabel('epoch')\n",
    "    plt.show()"
   ]
  },
  {
   "cell_type": "code",
   "execution_count": 31,
   "metadata": {
    "_uuid": "461ccf4aca7b3d468013140003aae465c0ebd538"
   },
   "outputs": [
    {
     "name": "stdout",
     "output_type": "stream",
     "text": [
      "------>StratifiedKFold:5...\n"
     ]
    }
   ],
   "source": [
    "if opt.stratified:\n",
    "    print('------>StratifiedKFold:%d...' % opt.num_folds)\n",
    "    folds = StratifiedKFold(\n",
    "        n_splits=opt.num_folds, shuffle=True, random_state=opt.seed)\n",
    "else:\n",
    "    print('------>KFold%d...' % opt.num_folds)\n",
    "    folds = KFold(n_splits=opt.num_folds,\n",
    "                    shuffle=True, random_state=opt.seed)\n",
    "fold_ = folds.split(train_df['images'], train_df['coverage_class'])"
   ]
  },
  {
   "cell_type": "code",
   "execution_count": 24,
   "metadata": {
    "_uuid": "52d919cbf17eefb29b01a2e9956be5e26495f8b9"
   },
   "outputs": [
    {
     "name": "stdout",
     "output_type": "stream",
     "text": [
      "loading model...\n"
     ]
    },
    {
     "name": "stderr",
     "output_type": "stream",
     "text": [
      "Downloading: \"https://download.pytorch.org/models/resnet34-333f7ec4.pth\" to /tmp/.torch/models/resnet34-333f7ec4.pth\n",
      "100%|██████████| 87306240/87306240 [00:02<00:00, 38672636.32it/s]\n",
      "0it [00:00, ?it/s]"
     ]
    },
    {
     "name": "stdout",
     "output_type": "stream",
     "text": [
      "successfully loading model...\n",
      "Fold:0...\n",
      "Epoch:0...\n"
     ]
    },
    {
     "name": "stderr",
     "output_type": "stream",
     "text": [
      "20it [00:31,  1.58s/it]"
     ]
    },
    {
     "name": "stdout",
     "output_type": "stream",
     "text": [
      "Fold:0\t Epoch:0\t Batch:19\t loss:0.089314\n"
     ]
    },
    {
     "name": "stderr",
     "output_type": "stream",
     "text": [
      "40it [01:02,  1.57s/it]"
     ]
    },
    {
     "name": "stdout",
     "output_type": "stream",
     "text": [
      "Fold:0\t Epoch:0\t Batch:39\t loss:0.141314\n"
     ]
    },
    {
     "name": "stderr",
     "output_type": "stream",
     "text": [
      "60it [01:34,  1.57s/it]"
     ]
    },
    {
     "name": "stdout",
     "output_type": "stream",
     "text": [
      "Fold:0\t Epoch:0\t Batch:59\t loss:0.107082\n"
     ]
    },
    {
     "name": "stderr",
     "output_type": "stream",
     "text": [
      "80it [02:05,  1.57s/it]"
     ]
    },
    {
     "name": "stdout",
     "output_type": "stream",
     "text": [
      "Fold:0\t Epoch:0\t Batch:79\t loss:0.127790\n"
     ]
    },
    {
     "name": "stderr",
     "output_type": "stream",
     "text": [
      "100it [02:36,  1.56s/it]\n",
      "0it [00:00, ?it/s]"
     ]
    },
    {
     "name": "stdout",
     "output_type": "stream",
     "text": [
      "Fold:0\t Epoch:0\t Batch:99\t loss:0.108303\n",
      "fold validating...\n"
     ]
    },
    {
     "name": "stderr",
     "output_type": "stream",
     "text": [
      "26it [00:11,  2.20it/s]\n",
      "0it [00:00, ?it/s]"
     ]
    },
    {
     "name": "stdout",
     "output_type": "stream",
     "text": [
      "Fold:0\t Epoch:0\t meanTrainLoss:0.119524\t meanValLoss:0.146957\t meanValIOU:0.441791\t BestValThred:0.500000\n",
      "Epoch:1...\n"
     ]
    },
    {
     "name": "stderr",
     "output_type": "stream",
     "text": [
      "20it [00:31,  1.57s/it]"
     ]
    },
    {
     "name": "stdout",
     "output_type": "stream",
     "text": [
      "Fold:0\t Epoch:1\t Batch:19\t loss:0.066590\n"
     ]
    },
    {
     "name": "stderr",
     "output_type": "stream",
     "text": [
      "40it [01:02,  1.56s/it]"
     ]
    },
    {
     "name": "stdout",
     "output_type": "stream",
     "text": [
      "Fold:0\t Epoch:1\t Batch:39\t loss:0.081300\n"
     ]
    },
    {
     "name": "stderr",
     "output_type": "stream",
     "text": [
      "60it [01:33,  1.56s/it]"
     ]
    },
    {
     "name": "stdout",
     "output_type": "stream",
     "text": [
      "Fold:0\t Epoch:1\t Batch:59\t loss:0.086146\n"
     ]
    },
    {
     "name": "stderr",
     "output_type": "stream",
     "text": [
      "80it [02:04,  1.56s/it]"
     ]
    },
    {
     "name": "stdout",
     "output_type": "stream",
     "text": [
      "Fold:0\t Epoch:1\t Batch:79\t loss:0.111380\n"
     ]
    },
    {
     "name": "stderr",
     "output_type": "stream",
     "text": [
      "100it [02:35,  1.56s/it]\n",
      "0it [00:00, ?it/s]"
     ]
    },
    {
     "name": "stdout",
     "output_type": "stream",
     "text": [
      "Fold:0\t Epoch:1\t Batch:99\t loss:0.139304\n",
      "fold validating...\n"
     ]
    },
    {
     "name": "stderr",
     "output_type": "stream",
     "text": [
      "26it [00:11,  2.20it/s]\n",
      "0it [00:00, ?it/s]"
     ]
    },
    {
     "name": "stdout",
     "output_type": "stream",
     "text": [
      "Fold:0\t Epoch:1\t meanTrainLoss:0.102716\t meanValLoss:0.160804\t meanValIOU:0.408458\t BestValThred:0.500000\n",
      "Epoch:2...\n"
     ]
    },
    {
     "name": "stderr",
     "output_type": "stream",
     "text": [
      "20it [00:31,  1.56s/it]"
     ]
    },
    {
     "name": "stdout",
     "output_type": "stream",
     "text": [
      "Fold:0\t Epoch:2\t Batch:19\t loss:0.120159\n"
     ]
    },
    {
     "name": "stderr",
     "output_type": "stream",
     "text": [
      "40it [01:02,  1.56s/it]"
     ]
    },
    {
     "name": "stdout",
     "output_type": "stream",
     "text": [
      "Fold:0\t Epoch:2\t Batch:39\t loss:0.102611\n"
     ]
    },
    {
     "name": "stderr",
     "output_type": "stream",
     "text": [
      "60it [01:33,  1.56s/it]"
     ]
    },
    {
     "name": "stdout",
     "output_type": "stream",
     "text": [
      "Fold:0\t Epoch:2\t Batch:59\t loss:0.124345\n"
     ]
    },
    {
     "name": "stderr",
     "output_type": "stream",
     "text": [
      "80it [02:04,  1.56s/it]"
     ]
    },
    {
     "name": "stdout",
     "output_type": "stream",
     "text": [
      "Fold:0\t Epoch:2\t Batch:79\t loss:0.091955\n"
     ]
    },
    {
     "name": "stderr",
     "output_type": "stream",
     "text": [
      "100it [02:35,  1.56s/it]\n",
      "0it [00:00, ?it/s]"
     ]
    },
    {
     "name": "stdout",
     "output_type": "stream",
     "text": [
      "Fold:0\t Epoch:2\t Batch:99\t loss:0.092659\n",
      "fold validating...\n"
     ]
    },
    {
     "name": "stderr",
     "output_type": "stream",
     "text": [
      "26it [00:11,  2.22it/s]\n",
      "0it [00:00, ?it/s]"
     ]
    },
    {
     "name": "stdout",
     "output_type": "stream",
     "text": [
      "Fold:0\t Epoch:2\t meanTrainLoss:0.098600\t meanValLoss:0.123705\t meanValIOU:0.462687\t BestValThred:0.450000\n",
      "Epoch:3...\n"
     ]
    },
    {
     "name": "stderr",
     "output_type": "stream",
     "text": [
      "20it [00:31,  1.56s/it]"
     ]
    },
    {
     "name": "stdout",
     "output_type": "stream",
     "text": [
      "Fold:0\t Epoch:3\t Batch:19\t loss:0.092532\n"
     ]
    },
    {
     "name": "stderr",
     "output_type": "stream",
     "text": [
      "40it [01:02,  1.56s/it]"
     ]
    },
    {
     "name": "stdout",
     "output_type": "stream",
     "text": [
      "Fold:0\t Epoch:3\t Batch:39\t loss:0.079371\n"
     ]
    },
    {
     "name": "stderr",
     "output_type": "stream",
     "text": [
      "60it [01:33,  1.56s/it]"
     ]
    },
    {
     "name": "stdout",
     "output_type": "stream",
     "text": [
      "Fold:0\t Epoch:3\t Batch:59\t loss:0.069954\n"
     ]
    },
    {
     "name": "stderr",
     "output_type": "stream",
     "text": [
      "80it [02:04,  1.56s/it]"
     ]
    },
    {
     "name": "stdout",
     "output_type": "stream",
     "text": [
      "Fold:0\t Epoch:3\t Batch:79\t loss:0.098896\n"
     ]
    },
    {
     "name": "stderr",
     "output_type": "stream",
     "text": [
      "100it [02:35,  1.56s/it]\n",
      "0it [00:00, ?it/s]"
     ]
    },
    {
     "name": "stdout",
     "output_type": "stream",
     "text": [
      "Fold:0\t Epoch:3\t Batch:99\t loss:0.120535\n",
      "fold validating...\n"
     ]
    },
    {
     "name": "stderr",
     "output_type": "stream",
     "text": [
      "26it [00:11,  2.22it/s]\n",
      "0it [00:00, ?it/s]"
     ]
    },
    {
     "name": "stdout",
     "output_type": "stream",
     "text": [
      "Fold:0\t Epoch:3\t meanTrainLoss:0.093593\t meanValLoss:0.118724\t meanValIOU:0.489303\t BestValThred:0.400000\n",
      "Epoch:4...\n"
     ]
    },
    {
     "name": "stderr",
     "output_type": "stream",
     "text": [
      "20it [00:31,  1.56s/it]"
     ]
    },
    {
     "name": "stdout",
     "output_type": "stream",
     "text": [
      "Fold:0\t Epoch:4\t Batch:19\t loss:0.083969\n"
     ]
    },
    {
     "name": "stderr",
     "output_type": "stream",
     "text": [
      "40it [01:02,  1.56s/it]"
     ]
    },
    {
     "name": "stdout",
     "output_type": "stream",
     "text": [
      "Fold:0\t Epoch:4\t Batch:39\t loss:0.088373\n"
     ]
    },
    {
     "name": "stderr",
     "output_type": "stream",
     "text": [
      "60it [01:33,  1.56s/it]"
     ]
    },
    {
     "name": "stdout",
     "output_type": "stream",
     "text": [
      "Fold:0\t Epoch:4\t Batch:59\t loss:0.079608\n"
     ]
    },
    {
     "name": "stderr",
     "output_type": "stream",
     "text": [
      "80it [02:04,  1.56s/it]"
     ]
    },
    {
     "name": "stdout",
     "output_type": "stream",
     "text": [
      "Fold:0\t Epoch:4\t Batch:79\t loss:0.061717\n"
     ]
    },
    {
     "name": "stderr",
     "output_type": "stream",
     "text": [
      "100it [02:35,  1.56s/it]\n",
      "0it [00:00, ?it/s]"
     ]
    },
    {
     "name": "stdout",
     "output_type": "stream",
     "text": [
      "Fold:0\t Epoch:4\t Batch:99\t loss:0.119181\n",
      "fold validating...\n"
     ]
    },
    {
     "name": "stderr",
     "output_type": "stream",
     "text": [
      "26it [00:11,  2.22it/s]\n",
      "0it [00:00, ?it/s]"
     ]
    },
    {
     "name": "stdout",
     "output_type": "stream",
     "text": [
      "Fold:0\t Epoch:4\t meanTrainLoss:0.090078\t meanValLoss:0.123544\t meanValIOU:0.415796\t BestValThred:0.450000\n",
      "Epoch:5...\n"
     ]
    },
    {
     "name": "stderr",
     "output_type": "stream",
     "text": [
      "20it [00:31,  1.56s/it]"
     ]
    },
    {
     "name": "stdout",
     "output_type": "stream",
     "text": [
      "Fold:0\t Epoch:5\t Batch:19\t loss:0.065250\n"
     ]
    },
    {
     "name": "stderr",
     "output_type": "stream",
     "text": [
      "40it [01:02,  1.56s/it]"
     ]
    },
    {
     "name": "stdout",
     "output_type": "stream",
     "text": [
      "Fold:0\t Epoch:5\t Batch:39\t loss:0.062819\n"
     ]
    },
    {
     "name": "stderr",
     "output_type": "stream",
     "text": [
      "60it [01:33,  1.56s/it]"
     ]
    },
    {
     "name": "stdout",
     "output_type": "stream",
     "text": [
      "Fold:0\t Epoch:5\t Batch:59\t loss:0.074951\n"
     ]
    },
    {
     "name": "stderr",
     "output_type": "stream",
     "text": [
      "80it [02:04,  1.56s/it]"
     ]
    },
    {
     "name": "stdout",
     "output_type": "stream",
     "text": [
      "Fold:0\t Epoch:5\t Batch:79\t loss:0.071441\n"
     ]
    },
    {
     "name": "stderr",
     "output_type": "stream",
     "text": [
      "100it [02:35,  1.56s/it]\n",
      "0it [00:00, ?it/s]"
     ]
    },
    {
     "name": "stdout",
     "output_type": "stream",
     "text": [
      "Fold:0\t Epoch:5\t Batch:99\t loss:0.088727\n",
      "fold validating...\n"
     ]
    },
    {
     "name": "stderr",
     "output_type": "stream",
     "text": [
      "26it [00:11,  2.21it/s]\n",
      "0it [00:00, ?it/s]"
     ]
    },
    {
     "name": "stdout",
     "output_type": "stream",
     "text": [
      "Fold:0\t Epoch:5\t meanTrainLoss:0.087563\t meanValLoss:0.231139\t meanValIOU:0.443408\t BestValThred:0.650000\n",
      "Epoch:6...\n"
     ]
    },
    {
     "name": "stderr",
     "output_type": "stream",
     "text": [
      "20it [00:31,  1.56s/it]"
     ]
    },
    {
     "name": "stdout",
     "output_type": "stream",
     "text": [
      "Fold:0\t Epoch:6\t Batch:19\t loss:0.102824\n"
     ]
    },
    {
     "name": "stderr",
     "output_type": "stream",
     "text": [
      "40it [01:02,  1.56s/it]"
     ]
    },
    {
     "name": "stdout",
     "output_type": "stream",
     "text": [
      "Fold:0\t Epoch:6\t Batch:39\t loss:0.095176\n"
     ]
    },
    {
     "name": "stderr",
     "output_type": "stream",
     "text": [
      "60it [01:33,  1.56s/it]"
     ]
    },
    {
     "name": "stdout",
     "output_type": "stream",
     "text": [
      "Fold:0\t Epoch:6\t Batch:59\t loss:0.063273\n"
     ]
    },
    {
     "name": "stderr",
     "output_type": "stream",
     "text": [
      "80it [02:04,  1.56s/it]"
     ]
    },
    {
     "name": "stdout",
     "output_type": "stream",
     "text": [
      "Fold:0\t Epoch:6\t Batch:79\t loss:0.070796\n"
     ]
    },
    {
     "name": "stderr",
     "output_type": "stream",
     "text": [
      "100it [02:35,  1.56s/it]\n",
      "0it [00:00, ?it/s]"
     ]
    },
    {
     "name": "stdout",
     "output_type": "stream",
     "text": [
      "Fold:0\t Epoch:6\t Batch:99\t loss:0.081430\n",
      "fold validating...\n"
     ]
    },
    {
     "name": "stderr",
     "output_type": "stream",
     "text": [
      "26it [00:11,  2.21it/s]\n",
      "0it [00:00, ?it/s]"
     ]
    },
    {
     "name": "stdout",
     "output_type": "stream",
     "text": [
      "Fold:0\t Epoch:6\t meanTrainLoss:0.085634\t meanValLoss:0.084414\t meanValIOU:0.551617\t BestValThred:0.450000\n",
      "Epoch:7...\n"
     ]
    },
    {
     "name": "stderr",
     "output_type": "stream",
     "text": [
      "20it [00:31,  1.56s/it]"
     ]
    },
    {
     "name": "stdout",
     "output_type": "stream",
     "text": [
      "Fold:0\t Epoch:7\t Batch:19\t loss:0.082875\n"
     ]
    },
    {
     "name": "stderr",
     "output_type": "stream",
     "text": [
      "40it [01:02,  1.56s/it]"
     ]
    },
    {
     "name": "stdout",
     "output_type": "stream",
     "text": [
      "Fold:0\t Epoch:7\t Batch:39\t loss:0.067094\n"
     ]
    },
    {
     "name": "stderr",
     "output_type": "stream",
     "text": [
      "60it [01:33,  1.56s/it]"
     ]
    },
    {
     "name": "stdout",
     "output_type": "stream",
     "text": [
      "Fold:0\t Epoch:7\t Batch:59\t loss:0.076523\n"
     ]
    },
    {
     "name": "stderr",
     "output_type": "stream",
     "text": [
      "80it [02:04,  1.56s/it]"
     ]
    },
    {
     "name": "stdout",
     "output_type": "stream",
     "text": [
      "Fold:0\t Epoch:7\t Batch:79\t loss:0.078600\n"
     ]
    },
    {
     "name": "stderr",
     "output_type": "stream",
     "text": [
      "100it [02:35,  1.56s/it]\n",
      "0it [00:00, ?it/s]"
     ]
    },
    {
     "name": "stdout",
     "output_type": "stream",
     "text": [
      "Fold:0\t Epoch:7\t Batch:99\t loss:0.087048\n",
      "fold validating...\n"
     ]
    },
    {
     "name": "stderr",
     "output_type": "stream",
     "text": [
      "26it [00:11,  2.22it/s]\n",
      "0it [00:00, ?it/s]"
     ]
    },
    {
     "name": "stdout",
     "output_type": "stream",
     "text": [
      "Fold:0\t Epoch:7\t meanTrainLoss:0.076469\t meanValLoss:0.076937\t meanValIOU:0.577114\t BestValThred:0.450000\n",
      "Epoch:8...\n"
     ]
    },
    {
     "name": "stderr",
     "output_type": "stream",
     "text": [
      "20it [00:31,  1.57s/it]"
     ]
    },
    {
     "name": "stdout",
     "output_type": "stream",
     "text": [
      "Fold:0\t Epoch:8\t Batch:19\t loss:0.086518\n"
     ]
    },
    {
     "name": "stderr",
     "output_type": "stream",
     "text": [
      "40it [01:02,  1.56s/it]"
     ]
    },
    {
     "name": "stdout",
     "output_type": "stream",
     "text": [
      "Fold:0\t Epoch:8\t Batch:39\t loss:0.075985\n"
     ]
    },
    {
     "name": "stderr",
     "output_type": "stream",
     "text": [
      "60it [01:33,  1.56s/it]"
     ]
    },
    {
     "name": "stdout",
     "output_type": "stream",
     "text": [
      "Fold:0\t Epoch:8\t Batch:59\t loss:0.054627\n"
     ]
    },
    {
     "name": "stderr",
     "output_type": "stream",
     "text": [
      "80it [02:04,  1.56s/it]"
     ]
    },
    {
     "name": "stdout",
     "output_type": "stream",
     "text": [
      "Fold:0\t Epoch:8\t Batch:79\t loss:0.120752\n"
     ]
    },
    {
     "name": "stderr",
     "output_type": "stream",
     "text": [
      "100it [02:35,  1.56s/it]\n",
      "0it [00:00, ?it/s]"
     ]
    },
    {
     "name": "stdout",
     "output_type": "stream",
     "text": [
      "Fold:0\t Epoch:8\t Batch:99\t loss:0.065768\n",
      "fold validating...\n"
     ]
    },
    {
     "name": "stderr",
     "output_type": "stream",
     "text": [
      "26it [00:11,  2.21it/s]\n",
      "0it [00:00, ?it/s]"
     ]
    },
    {
     "name": "stdout",
     "output_type": "stream",
     "text": [
      "Fold:0\t Epoch:8\t meanTrainLoss:0.075825\t meanValLoss:0.068509\t meanValIOU:0.613433\t BestValThred:0.550000\n",
      "Epoch:9...\n"
     ]
    },
    {
     "name": "stderr",
     "output_type": "stream",
     "text": [
      "20it [00:31,  1.56s/it]"
     ]
    },
    {
     "name": "stdout",
     "output_type": "stream",
     "text": [
      "Fold:0\t Epoch:9\t Batch:19\t loss:0.072930\n"
     ]
    },
    {
     "name": "stderr",
     "output_type": "stream",
     "text": [
      "40it [01:02,  1.56s/it]"
     ]
    },
    {
     "name": "stdout",
     "output_type": "stream",
     "text": [
      "Fold:0\t Epoch:9\t Batch:39\t loss:0.068376\n"
     ]
    },
    {
     "name": "stderr",
     "output_type": "stream",
     "text": [
      "60it [01:33,  1.56s/it]"
     ]
    },
    {
     "name": "stdout",
     "output_type": "stream",
     "text": [
      "Fold:0\t Epoch:9\t Batch:59\t loss:0.077763\n"
     ]
    },
    {
     "name": "stderr",
     "output_type": "stream",
     "text": [
      "80it [02:04,  1.56s/it]"
     ]
    },
    {
     "name": "stdout",
     "output_type": "stream",
     "text": [
      "Fold:0\t Epoch:9\t Batch:79\t loss:0.055559\n"
     ]
    },
    {
     "name": "stderr",
     "output_type": "stream",
     "text": [
      "100it [02:35,  1.56s/it]\n",
      "0it [00:00, ?it/s]"
     ]
    },
    {
     "name": "stdout",
     "output_type": "stream",
     "text": [
      "Fold:0\t Epoch:9\t Batch:99\t loss:0.095440\n",
      "fold validating...\n"
     ]
    },
    {
     "name": "stderr",
     "output_type": "stream",
     "text": [
      "26it [00:11,  2.21it/s]\n",
      "0it [00:00, ?it/s]"
     ]
    },
    {
     "name": "stdout",
     "output_type": "stream",
     "text": [
      "Fold:0\t Epoch:9\t meanTrainLoss:0.074803\t meanValLoss:0.069328\t meanValIOU:0.552114\t BestValThred:0.550000\n",
      "Epoch:10...\n"
     ]
    },
    {
     "name": "stderr",
     "output_type": "stream",
     "text": [
      "20it [00:31,  1.56s/it]"
     ]
    },
    {
     "name": "stdout",
     "output_type": "stream",
     "text": [
      "Fold:0\t Epoch:10\t Batch:19\t loss:0.052256\n"
     ]
    },
    {
     "name": "stderr",
     "output_type": "stream",
     "text": [
      "40it [01:02,  1.56s/it]"
     ]
    },
    {
     "name": "stdout",
     "output_type": "stream",
     "text": [
      "Fold:0\t Epoch:10\t Batch:39\t loss:0.066045\n"
     ]
    },
    {
     "name": "stderr",
     "output_type": "stream",
     "text": [
      "60it [01:33,  1.56s/it]"
     ]
    },
    {
     "name": "stdout",
     "output_type": "stream",
     "text": [
      "Fold:0\t Epoch:10\t Batch:59\t loss:0.106558\n"
     ]
    },
    {
     "name": "stderr",
     "output_type": "stream",
     "text": [
      "80it [02:04,  1.56s/it]"
     ]
    },
    {
     "name": "stdout",
     "output_type": "stream",
     "text": [
      "Fold:0\t Epoch:10\t Batch:79\t loss:0.053056\n"
     ]
    },
    {
     "name": "stderr",
     "output_type": "stream",
     "text": [
      "100it [02:35,  1.56s/it]\n",
      "0it [00:00, ?it/s]"
     ]
    },
    {
     "name": "stdout",
     "output_type": "stream",
     "text": [
      "Fold:0\t Epoch:10\t Batch:99\t loss:0.077193\n",
      "fold validating...\n"
     ]
    },
    {
     "name": "stderr",
     "output_type": "stream",
     "text": [
      "26it [00:11,  2.21it/s]\n",
      "0it [00:00, ?it/s]"
     ]
    },
    {
     "name": "stdout",
     "output_type": "stream",
     "text": [
      "Fold:0\t Epoch:10\t meanTrainLoss:0.069740\t meanValLoss:0.074331\t meanValIOU:0.579602\t BestValThred:0.450000\n",
      "Epoch:11...\n"
     ]
    },
    {
     "name": "stderr",
     "output_type": "stream",
     "text": [
      "20it [00:31,  1.56s/it]"
     ]
    },
    {
     "name": "stdout",
     "output_type": "stream",
     "text": [
      "Fold:0\t Epoch:11\t Batch:19\t loss:0.078223\n"
     ]
    },
    {
     "name": "stderr",
     "output_type": "stream",
     "text": [
      "40it [01:02,  1.56s/it]"
     ]
    },
    {
     "name": "stdout",
     "output_type": "stream",
     "text": [
      "Fold:0\t Epoch:11\t Batch:39\t loss:0.059776\n"
     ]
    },
    {
     "name": "stderr",
     "output_type": "stream",
     "text": [
      "60it [01:33,  1.56s/it]"
     ]
    },
    {
     "name": "stdout",
     "output_type": "stream",
     "text": [
      "Fold:0\t Epoch:11\t Batch:59\t loss:0.054538\n"
     ]
    },
    {
     "name": "stderr",
     "output_type": "stream",
     "text": [
      "80it [02:04,  1.56s/it]"
     ]
    },
    {
     "name": "stdout",
     "output_type": "stream",
     "text": [
      "Fold:0\t Epoch:11\t Batch:79\t loss:0.047594\n"
     ]
    },
    {
     "name": "stderr",
     "output_type": "stream",
     "text": [
      "100it [02:35,  1.56s/it]\n",
      "0it [00:00, ?it/s]"
     ]
    },
    {
     "name": "stdout",
     "output_type": "stream",
     "text": [
      "Fold:0\t Epoch:11\t Batch:99\t loss:0.064392\n",
      "fold validating...\n"
     ]
    },
    {
     "name": "stderr",
     "output_type": "stream",
     "text": [
      "26it [00:11,  2.21it/s]\n",
      "0it [00:00, ?it/s]"
     ]
    },
    {
     "name": "stdout",
     "output_type": "stream",
     "text": [
      "Fold:0\t Epoch:11\t meanTrainLoss:0.065395\t meanValLoss:0.067661\t meanValIOU:0.600746\t BestValThred:0.550000\n",
      "Epoch:12...\n"
     ]
    },
    {
     "name": "stderr",
     "output_type": "stream",
     "text": [
      "20it [00:31,  1.56s/it]"
     ]
    },
    {
     "name": "stdout",
     "output_type": "stream",
     "text": [
      "Fold:0\t Epoch:12\t Batch:19\t loss:0.045640\n"
     ]
    },
    {
     "name": "stderr",
     "output_type": "stream",
     "text": [
      "40it [01:02,  1.56s/it]"
     ]
    },
    {
     "name": "stdout",
     "output_type": "stream",
     "text": [
      "Fold:0\t Epoch:12\t Batch:39\t loss:0.087132\n"
     ]
    },
    {
     "name": "stderr",
     "output_type": "stream",
     "text": [
      "60it [01:33,  1.56s/it]"
     ]
    },
    {
     "name": "stdout",
     "output_type": "stream",
     "text": [
      "Fold:0\t Epoch:12\t Batch:59\t loss:0.087014\n"
     ]
    },
    {
     "name": "stderr",
     "output_type": "stream",
     "text": [
      "80it [02:04,  1.56s/it]"
     ]
    },
    {
     "name": "stdout",
     "output_type": "stream",
     "text": [
      "Fold:0\t Epoch:12\t Batch:79\t loss:0.048820\n"
     ]
    },
    {
     "name": "stderr",
     "output_type": "stream",
     "text": [
      "100it [02:35,  1.56s/it]\n",
      "0it [00:00, ?it/s]"
     ]
    },
    {
     "name": "stdout",
     "output_type": "stream",
     "text": [
      "Fold:0\t Epoch:12\t Batch:99\t loss:0.053783\n",
      "fold validating...\n"
     ]
    },
    {
     "name": "stderr",
     "output_type": "stream",
     "text": [
      "26it [00:11,  2.21it/s]\n",
      "0it [00:00, ?it/s]"
     ]
    },
    {
     "name": "stdout",
     "output_type": "stream",
     "text": [
      "Fold:0\t Epoch:12\t meanTrainLoss:0.068881\t meanValLoss:0.085213\t meanValIOU:0.565920\t BestValThred:0.450000\n",
      "Epoch:13...\n"
     ]
    },
    {
     "name": "stderr",
     "output_type": "stream",
     "text": [
      "20it [00:31,  1.56s/it]"
     ]
    },
    {
     "name": "stdout",
     "output_type": "stream",
     "text": [
      "Fold:0\t Epoch:13\t Batch:19\t loss:0.069467\n"
     ]
    },
    {
     "name": "stderr",
     "output_type": "stream",
     "text": [
      "40it [01:02,  1.56s/it]"
     ]
    },
    {
     "name": "stdout",
     "output_type": "stream",
     "text": [
      "Fold:0\t Epoch:13\t Batch:39\t loss:0.064655\n"
     ]
    },
    {
     "name": "stderr",
     "output_type": "stream",
     "text": [
      "60it [01:33,  1.56s/it]"
     ]
    },
    {
     "name": "stdout",
     "output_type": "stream",
     "text": [
      "Fold:0\t Epoch:13\t Batch:59\t loss:0.050488\n"
     ]
    },
    {
     "name": "stderr",
     "output_type": "stream",
     "text": [
      "80it [02:04,  1.56s/it]"
     ]
    },
    {
     "name": "stdout",
     "output_type": "stream",
     "text": [
      "Fold:0\t Epoch:13\t Batch:79\t loss:0.094251\n"
     ]
    },
    {
     "name": "stderr",
     "output_type": "stream",
     "text": [
      "100it [02:35,  1.56s/it]\n",
      "0it [00:00, ?it/s]"
     ]
    },
    {
     "name": "stdout",
     "output_type": "stream",
     "text": [
      "Fold:0\t Epoch:13\t Batch:99\t loss:0.163432\n",
      "fold validating...\n"
     ]
    },
    {
     "name": "stderr",
     "output_type": "stream",
     "text": [
      "26it [00:11,  2.21it/s]\n",
      "0it [00:00, ?it/s]"
     ]
    },
    {
     "name": "stdout",
     "output_type": "stream",
     "text": [
      "Fold:0\t Epoch:13\t meanTrainLoss:0.064228\t meanValLoss:0.089657\t meanValIOU:0.531095\t BestValThred:0.700000\n",
      "Epoch:14...\n"
     ]
    },
    {
     "name": "stderr",
     "output_type": "stream",
     "text": [
      "20it [00:31,  1.56s/it]"
     ]
    },
    {
     "name": "stdout",
     "output_type": "stream",
     "text": [
      "Fold:0\t Epoch:14\t Batch:19\t loss:0.075814\n"
     ]
    },
    {
     "name": "stderr",
     "output_type": "stream",
     "text": [
      "40it [01:02,  1.56s/it]"
     ]
    },
    {
     "name": "stdout",
     "output_type": "stream",
     "text": [
      "Fold:0\t Epoch:14\t Batch:39\t loss:0.074597\n"
     ]
    },
    {
     "name": "stderr",
     "output_type": "stream",
     "text": [
      "60it [01:33,  1.56s/it]"
     ]
    },
    {
     "name": "stdout",
     "output_type": "stream",
     "text": [
      "Fold:0\t Epoch:14\t Batch:59\t loss:0.054126\n"
     ]
    },
    {
     "name": "stderr",
     "output_type": "stream",
     "text": [
      "80it [02:04,  1.56s/it]"
     ]
    },
    {
     "name": "stdout",
     "output_type": "stream",
     "text": [
      "Fold:0\t Epoch:14\t Batch:79\t loss:0.041886\n"
     ]
    },
    {
     "name": "stderr",
     "output_type": "stream",
     "text": [
      "100it [02:35,  1.56s/it]\n",
      "0it [00:00, ?it/s]"
     ]
    },
    {
     "name": "stdout",
     "output_type": "stream",
     "text": [
      "Fold:0\t Epoch:14\t Batch:99\t loss:0.047608\n",
      "fold validating...\n"
     ]
    },
    {
     "name": "stderr",
     "output_type": "stream",
     "text": [
      "26it [00:11,  2.21it/s]\n",
      "0it [00:00, ?it/s]"
     ]
    },
    {
     "name": "stdout",
     "output_type": "stream",
     "text": [
      "Fold:0\t Epoch:14\t meanTrainLoss:0.062090\t meanValLoss:0.073223\t meanValIOU:0.613060\t BestValThred:0.500000\n",
      "Epoch:15...\n"
     ]
    },
    {
     "name": "stderr",
     "output_type": "stream",
     "text": [
      "20it [00:31,  1.56s/it]"
     ]
    },
    {
     "name": "stdout",
     "output_type": "stream",
     "text": [
      "Fold:0\t Epoch:15\t Batch:19\t loss:0.041434\n"
     ]
    },
    {
     "name": "stderr",
     "output_type": "stream",
     "text": [
      "40it [01:02,  1.56s/it]"
     ]
    },
    {
     "name": "stdout",
     "output_type": "stream",
     "text": [
      "Fold:0\t Epoch:15\t Batch:39\t loss:0.039781\n"
     ]
    },
    {
     "name": "stderr",
     "output_type": "stream",
     "text": [
      "60it [01:33,  1.56s/it]"
     ]
    },
    {
     "name": "stdout",
     "output_type": "stream",
     "text": [
      "Fold:0\t Epoch:15\t Batch:59\t loss:0.045729\n"
     ]
    },
    {
     "name": "stderr",
     "output_type": "stream",
     "text": [
      "80it [02:04,  1.56s/it]"
     ]
    },
    {
     "name": "stdout",
     "output_type": "stream",
     "text": [
      "Fold:0\t Epoch:15\t Batch:79\t loss:0.074654\n"
     ]
    },
    {
     "name": "stderr",
     "output_type": "stream",
     "text": [
      "100it [02:35,  1.56s/it]\n",
      "0it [00:00, ?it/s]"
     ]
    },
    {
     "name": "stdout",
     "output_type": "stream",
     "text": [
      "Fold:0\t Epoch:15\t Batch:99\t loss:0.079212\n",
      "fold validating...\n"
     ]
    },
    {
     "name": "stderr",
     "output_type": "stream",
     "text": [
      "26it [00:11,  2.21it/s]\n",
      "0it [00:00, ?it/s]"
     ]
    },
    {
     "name": "stdout",
     "output_type": "stream",
     "text": [
      "Fold:0\t Epoch:15\t meanTrainLoss:0.059500\t meanValLoss:0.067702\t meanValIOU:0.611816\t BestValThred:0.650000\n",
      "Epoch:16...\n"
     ]
    },
    {
     "name": "stderr",
     "output_type": "stream",
     "text": [
      "20it [00:31,  1.56s/it]"
     ]
    },
    {
     "name": "stdout",
     "output_type": "stream",
     "text": [
      "Fold:0\t Epoch:16\t Batch:19\t loss:0.056538\n"
     ]
    },
    {
     "name": "stderr",
     "output_type": "stream",
     "text": [
      "40it [01:02,  1.56s/it]"
     ]
    },
    {
     "name": "stdout",
     "output_type": "stream",
     "text": [
      "Fold:0\t Epoch:16\t Batch:39\t loss:0.063393\n"
     ]
    },
    {
     "name": "stderr",
     "output_type": "stream",
     "text": [
      "60it [01:33,  1.56s/it]"
     ]
    },
    {
     "name": "stdout",
     "output_type": "stream",
     "text": [
      "Fold:0\t Epoch:16\t Batch:59\t loss:0.040641\n"
     ]
    },
    {
     "name": "stderr",
     "output_type": "stream",
     "text": [
      "80it [02:04,  1.56s/it]"
     ]
    },
    {
     "name": "stdout",
     "output_type": "stream",
     "text": [
      "Fold:0\t Epoch:16\t Batch:79\t loss:0.064003\n"
     ]
    },
    {
     "name": "stderr",
     "output_type": "stream",
     "text": [
      "100it [02:35,  1.56s/it]\n",
      "0it [00:00, ?it/s]"
     ]
    },
    {
     "name": "stdout",
     "output_type": "stream",
     "text": [
      "Fold:0\t Epoch:16\t Batch:99\t loss:0.048117\n",
      "fold validating...\n"
     ]
    },
    {
     "name": "stderr",
     "output_type": "stream",
     "text": [
      "26it [00:11,  2.22it/s]\n",
      "0it [00:00, ?it/s]"
     ]
    },
    {
     "name": "stdout",
     "output_type": "stream",
     "text": [
      "Fold:0\t Epoch:16\t meanTrainLoss:0.056651\t meanValLoss:0.049430\t meanValIOU:0.706095\t BestValThred:0.500000\n",
      "Epoch:17...\n"
     ]
    },
    {
     "name": "stderr",
     "output_type": "stream",
     "text": [
      "20it [00:31,  1.56s/it]"
     ]
    },
    {
     "name": "stdout",
     "output_type": "stream",
     "text": [
      "Fold:0\t Epoch:17\t Batch:19\t loss:0.109954\n"
     ]
    },
    {
     "name": "stderr",
     "output_type": "stream",
     "text": [
      "40it [01:02,  1.56s/it]"
     ]
    },
    {
     "name": "stdout",
     "output_type": "stream",
     "text": [
      "Fold:0\t Epoch:17\t Batch:39\t loss:0.044130\n"
     ]
    },
    {
     "name": "stderr",
     "output_type": "stream",
     "text": [
      "60it [01:33,  1.56s/it]"
     ]
    },
    {
     "name": "stdout",
     "output_type": "stream",
     "text": [
      "Fold:0\t Epoch:17\t Batch:59\t loss:0.047643\n"
     ]
    },
    {
     "name": "stderr",
     "output_type": "stream",
     "text": [
      "80it [02:04,  1.56s/it]"
     ]
    },
    {
     "name": "stdout",
     "output_type": "stream",
     "text": [
      "Fold:0\t Epoch:17\t Batch:79\t loss:0.060596\n"
     ]
    },
    {
     "name": "stderr",
     "output_type": "stream",
     "text": [
      "100it [02:35,  1.56s/it]\n",
      "0it [00:00, ?it/s]"
     ]
    },
    {
     "name": "stdout",
     "output_type": "stream",
     "text": [
      "Fold:0\t Epoch:17\t Batch:99\t loss:0.046119\n",
      "fold validating...\n"
     ]
    },
    {
     "name": "stderr",
     "output_type": "stream",
     "text": [
      "26it [00:11,  2.21it/s]\n",
      "0it [00:00, ?it/s]"
     ]
    },
    {
     "name": "stdout",
     "output_type": "stream",
     "text": [
      "Fold:0\t Epoch:17\t meanTrainLoss:0.058305\t meanValLoss:0.047301\t meanValIOU:0.696766\t BestValThred:0.550000\n",
      "Epoch:18...\n"
     ]
    },
    {
     "name": "stderr",
     "output_type": "stream",
     "text": [
      "20it [00:31,  1.56s/it]"
     ]
    },
    {
     "name": "stdout",
     "output_type": "stream",
     "text": [
      "Fold:0\t Epoch:18\t Batch:19\t loss:0.052960\n"
     ]
    },
    {
     "name": "stderr",
     "output_type": "stream",
     "text": [
      "40it [01:02,  1.56s/it]"
     ]
    },
    {
     "name": "stdout",
     "output_type": "stream",
     "text": [
      "Fold:0\t Epoch:18\t Batch:39\t loss:0.033717\n"
     ]
    },
    {
     "name": "stderr",
     "output_type": "stream",
     "text": [
      "60it [01:33,  1.56s/it]"
     ]
    },
    {
     "name": "stdout",
     "output_type": "stream",
     "text": [
      "Fold:0\t Epoch:18\t Batch:59\t loss:0.059502\n"
     ]
    },
    {
     "name": "stderr",
     "output_type": "stream",
     "text": [
      "80it [02:04,  1.56s/it]"
     ]
    },
    {
     "name": "stdout",
     "output_type": "stream",
     "text": [
      "Fold:0\t Epoch:18\t Batch:79\t loss:0.059090\n"
     ]
    },
    {
     "name": "stderr",
     "output_type": "stream",
     "text": [
      "100it [02:35,  1.56s/it]\n",
      "0it [00:00, ?it/s]"
     ]
    },
    {
     "name": "stdout",
     "output_type": "stream",
     "text": [
      "Fold:0\t Epoch:18\t Batch:99\t loss:0.062566\n",
      "fold validating...\n"
     ]
    },
    {
     "name": "stderr",
     "output_type": "stream",
     "text": [
      "26it [00:11,  2.21it/s]\n",
      "0it [00:00, ?it/s]"
     ]
    },
    {
     "name": "stdout",
     "output_type": "stream",
     "text": [
      "Fold:0\t Epoch:18\t meanTrainLoss:0.058613\t meanValLoss:0.057778\t meanValIOU:0.651493\t BestValThred:0.600000\n",
      "Epoch:19...\n"
     ]
    },
    {
     "name": "stderr",
     "output_type": "stream",
     "text": [
      "20it [00:31,  1.56s/it]"
     ]
    },
    {
     "name": "stdout",
     "output_type": "stream",
     "text": [
      "Fold:0\t Epoch:19\t Batch:19\t loss:0.058581\n"
     ]
    },
    {
     "name": "stderr",
     "output_type": "stream",
     "text": [
      "40it [01:02,  1.56s/it]"
     ]
    },
    {
     "name": "stdout",
     "output_type": "stream",
     "text": [
      "Fold:0\t Epoch:19\t Batch:39\t loss:0.053674\n"
     ]
    },
    {
     "name": "stderr",
     "output_type": "stream",
     "text": [
      "60it [01:33,  1.56s/it]"
     ]
    },
    {
     "name": "stdout",
     "output_type": "stream",
     "text": [
      "Fold:0\t Epoch:19\t Batch:59\t loss:0.066509\n"
     ]
    },
    {
     "name": "stderr",
     "output_type": "stream",
     "text": [
      "80it [02:04,  1.56s/it]"
     ]
    },
    {
     "name": "stdout",
     "output_type": "stream",
     "text": [
      "Fold:0\t Epoch:19\t Batch:79\t loss:0.027601\n"
     ]
    },
    {
     "name": "stderr",
     "output_type": "stream",
     "text": [
      "100it [02:35,  1.56s/it]\n",
      "0it [00:00, ?it/s]"
     ]
    },
    {
     "name": "stdout",
     "output_type": "stream",
     "text": [
      "Fold:0\t Epoch:19\t Batch:99\t loss:0.060672\n",
      "fold validating...\n"
     ]
    },
    {
     "name": "stderr",
     "output_type": "stream",
     "text": [
      "26it [00:11,  2.21it/s]\n",
      "0it [00:00, ?it/s]"
     ]
    },
    {
     "name": "stdout",
     "output_type": "stream",
     "text": [
      "Fold:0\t Epoch:19\t meanTrainLoss:0.054586\t meanValLoss:0.062397\t meanValIOU:0.635075\t BestValThred:0.500000\n",
      "Epoch:20...\n"
     ]
    },
    {
     "name": "stderr",
     "output_type": "stream",
     "text": [
      "20it [00:31,  1.56s/it]"
     ]
    },
    {
     "name": "stdout",
     "output_type": "stream",
     "text": [
      "Fold:0\t Epoch:20\t Batch:19\t loss:0.073098\n"
     ]
    },
    {
     "name": "stderr",
     "output_type": "stream",
     "text": [
      "40it [01:02,  1.56s/it]"
     ]
    },
    {
     "name": "stdout",
     "output_type": "stream",
     "text": [
      "Fold:0\t Epoch:20\t Batch:39\t loss:0.047016\n"
     ]
    },
    {
     "name": "stderr",
     "output_type": "stream",
     "text": [
      "60it [01:33,  1.56s/it]"
     ]
    },
    {
     "name": "stdout",
     "output_type": "stream",
     "text": [
      "Fold:0\t Epoch:20\t Batch:59\t loss:0.065084\n"
     ]
    },
    {
     "name": "stderr",
     "output_type": "stream",
     "text": [
      "80it [02:04,  1.56s/it]"
     ]
    },
    {
     "name": "stdout",
     "output_type": "stream",
     "text": [
      "Fold:0\t Epoch:20\t Batch:79\t loss:0.031711\n"
     ]
    },
    {
     "name": "stderr",
     "output_type": "stream",
     "text": [
      "100it [02:35,  1.56s/it]\n",
      "0it [00:00, ?it/s]"
     ]
    },
    {
     "name": "stdout",
     "output_type": "stream",
     "text": [
      "Fold:0\t Epoch:20\t Batch:99\t loss:0.075204\n",
      "fold validating...\n"
     ]
    },
    {
     "name": "stderr",
     "output_type": "stream",
     "text": [
      "26it [00:11,  2.21it/s]\n",
      "0it [00:00, ?it/s]"
     ]
    },
    {
     "name": "stdout",
     "output_type": "stream",
     "text": [
      "Fold:0\t Epoch:20\t meanTrainLoss:0.053519\t meanValLoss:0.049462\t meanValIOU:0.684328\t BestValThred:0.500000\n",
      "Epoch:21...\n"
     ]
    },
    {
     "name": "stderr",
     "output_type": "stream",
     "text": [
      "20it [00:31,  1.56s/it]"
     ]
    },
    {
     "name": "stdout",
     "output_type": "stream",
     "text": [
      "Fold:0\t Epoch:21\t Batch:19\t loss:0.041405\n"
     ]
    },
    {
     "name": "stderr",
     "output_type": "stream",
     "text": [
      "40it [01:02,  1.56s/it]"
     ]
    },
    {
     "name": "stdout",
     "output_type": "stream",
     "text": [
      "Fold:0\t Epoch:21\t Batch:39\t loss:0.043604\n"
     ]
    },
    {
     "name": "stderr",
     "output_type": "stream",
     "text": [
      "60it [01:33,  1.56s/it]"
     ]
    },
    {
     "name": "stdout",
     "output_type": "stream",
     "text": [
      "Fold:0\t Epoch:21\t Batch:59\t loss:0.066264\n"
     ]
    },
    {
     "name": "stderr",
     "output_type": "stream",
     "text": [
      "80it [02:04,  1.56s/it]"
     ]
    },
    {
     "name": "stdout",
     "output_type": "stream",
     "text": [
      "Fold:0\t Epoch:21\t Batch:79\t loss:0.062819\n"
     ]
    },
    {
     "name": "stderr",
     "output_type": "stream",
     "text": [
      "100it [02:35,  1.56s/it]\n",
      "0it [00:00, ?it/s]"
     ]
    },
    {
     "name": "stdout",
     "output_type": "stream",
     "text": [
      "Fold:0\t Epoch:21\t Batch:99\t loss:0.033989\n",
      "fold validating...\n"
     ]
    },
    {
     "name": "stderr",
     "output_type": "stream",
     "text": [
      "26it [00:11,  2.21it/s]\n",
      "0it [00:00, ?it/s]"
     ]
    },
    {
     "name": "stdout",
     "output_type": "stream",
     "text": [
      "Fold:0\t Epoch:21\t meanTrainLoss:0.052625\t meanValLoss:0.046285\t meanValIOU:0.689303\t BestValThred:0.600000\n",
      "Epoch:22...\n"
     ]
    },
    {
     "name": "stderr",
     "output_type": "stream",
     "text": [
      "20it [00:31,  1.56s/it]"
     ]
    },
    {
     "name": "stdout",
     "output_type": "stream",
     "text": [
      "Fold:0\t Epoch:22\t Batch:19\t loss:0.074080\n"
     ]
    },
    {
     "name": "stderr",
     "output_type": "stream",
     "text": [
      "40it [01:02,  1.56s/it]"
     ]
    },
    {
     "name": "stdout",
     "output_type": "stream",
     "text": [
      "Fold:0\t Epoch:22\t Batch:39\t loss:0.037442\n"
     ]
    },
    {
     "name": "stderr",
     "output_type": "stream",
     "text": [
      "60it [01:33,  1.56s/it]"
     ]
    },
    {
     "name": "stdout",
     "output_type": "stream",
     "text": [
      "Fold:0\t Epoch:22\t Batch:59\t loss:0.050556\n"
     ]
    },
    {
     "name": "stderr",
     "output_type": "stream",
     "text": [
      "80it [02:04,  1.56s/it]"
     ]
    },
    {
     "name": "stdout",
     "output_type": "stream",
     "text": [
      "Fold:0\t Epoch:22\t Batch:79\t loss:0.047816\n"
     ]
    },
    {
     "name": "stderr",
     "output_type": "stream",
     "text": [
      "100it [02:35,  1.56s/it]\n",
      "0it [00:00, ?it/s]"
     ]
    },
    {
     "name": "stdout",
     "output_type": "stream",
     "text": [
      "Fold:0\t Epoch:22\t Batch:99\t loss:0.032823\n",
      "fold validating...\n"
     ]
    },
    {
     "name": "stderr",
     "output_type": "stream",
     "text": [
      "26it [00:11,  2.21it/s]\n",
      "0it [00:00, ?it/s]"
     ]
    },
    {
     "name": "stdout",
     "output_type": "stream",
     "text": [
      "Fold:0\t Epoch:22\t meanTrainLoss:0.050345\t meanValLoss:0.047361\t meanValIOU:0.694279\t BestValThred:0.550000\n",
      "Epoch:23...\n"
     ]
    },
    {
     "name": "stderr",
     "output_type": "stream",
     "text": [
      "20it [00:31,  1.56s/it]"
     ]
    },
    {
     "name": "stdout",
     "output_type": "stream",
     "text": [
      "Fold:0\t Epoch:23\t Batch:19\t loss:0.036553\n"
     ]
    },
    {
     "name": "stderr",
     "output_type": "stream",
     "text": [
      "40it [01:02,  1.56s/it]"
     ]
    },
    {
     "name": "stdout",
     "output_type": "stream",
     "text": [
      "Fold:0\t Epoch:23\t Batch:39\t loss:0.038986\n"
     ]
    },
    {
     "name": "stderr",
     "output_type": "stream",
     "text": [
      "60it [01:33,  1.56s/it]"
     ]
    },
    {
     "name": "stdout",
     "output_type": "stream",
     "text": [
      "Fold:0\t Epoch:23\t Batch:59\t loss:0.056054\n"
     ]
    },
    {
     "name": "stderr",
     "output_type": "stream",
     "text": [
      "80it [02:04,  1.56s/it]"
     ]
    },
    {
     "name": "stdout",
     "output_type": "stream",
     "text": [
      "Fold:0\t Epoch:23\t Batch:79\t loss:0.043586\n"
     ]
    },
    {
     "name": "stderr",
     "output_type": "stream",
     "text": [
      "100it [02:35,  1.56s/it]\n",
      "0it [00:00, ?it/s]"
     ]
    },
    {
     "name": "stdout",
     "output_type": "stream",
     "text": [
      "Fold:0\t Epoch:23\t Batch:99\t loss:0.096556\n",
      "fold validating...\n"
     ]
    },
    {
     "name": "stderr",
     "output_type": "stream",
     "text": [
      "26it [00:11,  2.21it/s]\n",
      "0it [00:00, ?it/s]"
     ]
    },
    {
     "name": "stdout",
     "output_type": "stream",
     "text": [
      "Fold:0\t Epoch:23\t meanTrainLoss:0.048390\t meanValLoss:0.057977\t meanValIOU:0.645025\t BestValThred:0.500000\n",
      "Epoch:24...\n"
     ]
    },
    {
     "name": "stderr",
     "output_type": "stream",
     "text": [
      "20it [00:31,  1.56s/it]"
     ]
    },
    {
     "name": "stdout",
     "output_type": "stream",
     "text": [
      "Fold:0\t Epoch:24\t Batch:19\t loss:0.044063\n"
     ]
    },
    {
     "name": "stderr",
     "output_type": "stream",
     "text": [
      "40it [01:02,  1.56s/it]"
     ]
    },
    {
     "name": "stdout",
     "output_type": "stream",
     "text": [
      "Fold:0\t Epoch:24\t Batch:39\t loss:0.051468\n"
     ]
    },
    {
     "name": "stderr",
     "output_type": "stream",
     "text": [
      "60it [01:33,  1.56s/it]"
     ]
    },
    {
     "name": "stdout",
     "output_type": "stream",
     "text": [
      "Fold:0\t Epoch:24\t Batch:59\t loss:0.040648\n"
     ]
    },
    {
     "name": "stderr",
     "output_type": "stream",
     "text": [
      "80it [02:04,  1.56s/it]"
     ]
    },
    {
     "name": "stdout",
     "output_type": "stream",
     "text": [
      "Fold:0\t Epoch:24\t Batch:79\t loss:0.050269\n"
     ]
    },
    {
     "name": "stderr",
     "output_type": "stream",
     "text": [
      "100it [02:35,  1.56s/it]\n",
      "0it [00:00, ?it/s]"
     ]
    },
    {
     "name": "stdout",
     "output_type": "stream",
     "text": [
      "Fold:0\t Epoch:24\t Batch:99\t loss:0.048176\n",
      "fold validating...\n"
     ]
    },
    {
     "name": "stderr",
     "output_type": "stream",
     "text": [
      "26it [00:11,  2.21it/s]\n",
      "0it [00:00, ?it/s]"
     ]
    },
    {
     "name": "stdout",
     "output_type": "stream",
     "text": [
      "Fold:0\t Epoch:24\t meanTrainLoss:0.048042\t meanValLoss:0.047551\t meanValIOU:0.714552\t BestValThred:0.600000\n",
      "Epoch:25...\n"
     ]
    },
    {
     "name": "stderr",
     "output_type": "stream",
     "text": [
      "20it [00:31,  1.56s/it]"
     ]
    },
    {
     "name": "stdout",
     "output_type": "stream",
     "text": [
      "Fold:0\t Epoch:25\t Batch:19\t loss:0.054309\n"
     ]
    },
    {
     "name": "stderr",
     "output_type": "stream",
     "text": [
      "40it [01:02,  1.56s/it]"
     ]
    },
    {
     "name": "stdout",
     "output_type": "stream",
     "text": [
      "Fold:0\t Epoch:25\t Batch:39\t loss:0.045621\n"
     ]
    },
    {
     "name": "stderr",
     "output_type": "stream",
     "text": [
      "60it [01:33,  1.56s/it]"
     ]
    },
    {
     "name": "stdout",
     "output_type": "stream",
     "text": [
      "Fold:0\t Epoch:25\t Batch:59\t loss:0.038584\n"
     ]
    },
    {
     "name": "stderr",
     "output_type": "stream",
     "text": [
      "80it [02:04,  1.56s/it]"
     ]
    },
    {
     "name": "stdout",
     "output_type": "stream",
     "text": [
      "Fold:0\t Epoch:25\t Batch:79\t loss:0.044073\n"
     ]
    },
    {
     "name": "stderr",
     "output_type": "stream",
     "text": [
      "100it [02:35,  1.56s/it]\n",
      "0it [00:00, ?it/s]"
     ]
    },
    {
     "name": "stdout",
     "output_type": "stream",
     "text": [
      "Fold:0\t Epoch:25\t Batch:99\t loss:0.035465\n",
      "fold validating...\n"
     ]
    },
    {
     "name": "stderr",
     "output_type": "stream",
     "text": [
      "26it [00:11,  2.21it/s]\n",
      "0it [00:00, ?it/s]"
     ]
    },
    {
     "name": "stdout",
     "output_type": "stream",
     "text": [
      "Fold:0\t Epoch:25\t meanTrainLoss:0.047888\t meanValLoss:0.049441\t meanValIOU:0.704478\t BestValThred:0.500000\n",
      "Epoch:26...\n"
     ]
    },
    {
     "name": "stderr",
     "output_type": "stream",
     "text": [
      "20it [00:31,  1.56s/it]"
     ]
    },
    {
     "name": "stdout",
     "output_type": "stream",
     "text": [
      "Fold:0\t Epoch:26\t Batch:19\t loss:0.040173\n"
     ]
    },
    {
     "name": "stderr",
     "output_type": "stream",
     "text": [
      "40it [01:02,  1.56s/it]"
     ]
    },
    {
     "name": "stdout",
     "output_type": "stream",
     "text": [
      "Fold:0\t Epoch:26\t Batch:39\t loss:0.035745\n"
     ]
    },
    {
     "name": "stderr",
     "output_type": "stream",
     "text": [
      "60it [01:33,  1.56s/it]"
     ]
    },
    {
     "name": "stdout",
     "output_type": "stream",
     "text": [
      "Fold:0\t Epoch:26\t Batch:59\t loss:0.033850\n"
     ]
    },
    {
     "name": "stderr",
     "output_type": "stream",
     "text": [
      "80it [02:04,  1.56s/it]"
     ]
    },
    {
     "name": "stdout",
     "output_type": "stream",
     "text": [
      "Fold:0\t Epoch:26\t Batch:79\t loss:0.073575\n"
     ]
    },
    {
     "name": "stderr",
     "output_type": "stream",
     "text": [
      "100it [02:35,  1.56s/it]\n",
      "0it [00:00, ?it/s]"
     ]
    },
    {
     "name": "stdout",
     "output_type": "stream",
     "text": [
      "Fold:0\t Epoch:26\t Batch:99\t loss:0.068866\n",
      "fold validating...\n"
     ]
    },
    {
     "name": "stderr",
     "output_type": "stream",
     "text": [
      "26it [00:11,  2.21it/s]\n",
      "0it [00:00, ?it/s]"
     ]
    },
    {
     "name": "stdout",
     "output_type": "stream",
     "text": [
      "Fold:0\t Epoch:26\t meanTrainLoss:0.048923\t meanValLoss:0.045929\t meanValIOU:0.721891\t BestValThred:0.500000\n",
      "Epoch:27...\n"
     ]
    },
    {
     "name": "stderr",
     "output_type": "stream",
     "text": [
      "20it [00:31,  1.56s/it]"
     ]
    },
    {
     "name": "stdout",
     "output_type": "stream",
     "text": [
      "Fold:0\t Epoch:27\t Batch:19\t loss:0.040637\n"
     ]
    },
    {
     "name": "stderr",
     "output_type": "stream",
     "text": [
      "40it [01:02,  1.56s/it]"
     ]
    },
    {
     "name": "stdout",
     "output_type": "stream",
     "text": [
      "Fold:0\t Epoch:27\t Batch:39\t loss:0.045837\n"
     ]
    },
    {
     "name": "stderr",
     "output_type": "stream",
     "text": [
      "60it [01:33,  1.56s/it]"
     ]
    },
    {
     "name": "stdout",
     "output_type": "stream",
     "text": [
      "Fold:0\t Epoch:27\t Batch:59\t loss:0.044262\n"
     ]
    },
    {
     "name": "stderr",
     "output_type": "stream",
     "text": [
      "80it [02:04,  1.56s/it]"
     ]
    },
    {
     "name": "stdout",
     "output_type": "stream",
     "text": [
      "Fold:0\t Epoch:27\t Batch:79\t loss:0.042813\n"
     ]
    },
    {
     "name": "stderr",
     "output_type": "stream",
     "text": [
      "100it [02:35,  1.56s/it]\n",
      "0it [00:00, ?it/s]"
     ]
    },
    {
     "name": "stdout",
     "output_type": "stream",
     "text": [
      "Fold:0\t Epoch:27\t Batch:99\t loss:0.054727\n",
      "fold validating...\n"
     ]
    },
    {
     "name": "stderr",
     "output_type": "stream",
     "text": [
      "26it [00:11,  2.21it/s]\n",
      "0it [00:00, ?it/s]"
     ]
    },
    {
     "name": "stdout",
     "output_type": "stream",
     "text": [
      "Fold:0\t Epoch:27\t meanTrainLoss:0.046036\t meanValLoss:0.054667\t meanValIOU:0.662065\t BestValThred:0.500000\n",
      "Epoch:28...\n"
     ]
    },
    {
     "name": "stderr",
     "output_type": "stream",
     "text": [
      "20it [00:31,  1.56s/it]"
     ]
    },
    {
     "name": "stdout",
     "output_type": "stream",
     "text": [
      "Fold:0\t Epoch:28\t Batch:19\t loss:0.028422\n"
     ]
    },
    {
     "name": "stderr",
     "output_type": "stream",
     "text": [
      "40it [01:02,  1.56s/it]"
     ]
    },
    {
     "name": "stdout",
     "output_type": "stream",
     "text": [
      "Fold:0\t Epoch:28\t Batch:39\t loss:0.020363\n"
     ]
    },
    {
     "name": "stderr",
     "output_type": "stream",
     "text": [
      "60it [01:33,  1.56s/it]"
     ]
    },
    {
     "name": "stdout",
     "output_type": "stream",
     "text": [
      "Fold:0\t Epoch:28\t Batch:59\t loss:0.028374\n"
     ]
    },
    {
     "name": "stderr",
     "output_type": "stream",
     "text": [
      "80it [02:04,  1.56s/it]"
     ]
    },
    {
     "name": "stdout",
     "output_type": "stream",
     "text": [
      "Fold:0\t Epoch:28\t Batch:79\t loss:0.054822\n"
     ]
    },
    {
     "name": "stderr",
     "output_type": "stream",
     "text": [
      "100it [02:35,  1.56s/it]\n",
      "0it [00:00, ?it/s]"
     ]
    },
    {
     "name": "stdout",
     "output_type": "stream",
     "text": [
      "Fold:0\t Epoch:28\t Batch:99\t loss:0.035377\n",
      "fold validating...\n"
     ]
    },
    {
     "name": "stderr",
     "output_type": "stream",
     "text": [
      "26it [00:11,  2.21it/s]\n",
      "0it [00:00, ?it/s]"
     ]
    },
    {
     "name": "stdout",
     "output_type": "stream",
     "text": [
      "Fold:0\t Epoch:28\t meanTrainLoss:0.043873\t meanValLoss:0.040829\t meanValIOU:0.724005\t BestValThred:0.500000\n",
      "Epoch:29...\n"
     ]
    },
    {
     "name": "stderr",
     "output_type": "stream",
     "text": [
      "20it [00:31,  1.56s/it]"
     ]
    },
    {
     "name": "stdout",
     "output_type": "stream",
     "text": [
      "Fold:0\t Epoch:29\t Batch:19\t loss:0.075826\n"
     ]
    },
    {
     "name": "stderr",
     "output_type": "stream",
     "text": [
      "40it [01:02,  1.56s/it]"
     ]
    },
    {
     "name": "stdout",
     "output_type": "stream",
     "text": [
      "Fold:0\t Epoch:29\t Batch:39\t loss:0.036972\n"
     ]
    },
    {
     "name": "stderr",
     "output_type": "stream",
     "text": [
      "60it [01:33,  1.56s/it]"
     ]
    },
    {
     "name": "stdout",
     "output_type": "stream",
     "text": [
      "Fold:0\t Epoch:29\t Batch:59\t loss:0.022398\n"
     ]
    },
    {
     "name": "stderr",
     "output_type": "stream",
     "text": [
      "80it [02:04,  1.56s/it]"
     ]
    },
    {
     "name": "stdout",
     "output_type": "stream",
     "text": [
      "Fold:0\t Epoch:29\t Batch:79\t loss:0.046329\n"
     ]
    },
    {
     "name": "stderr",
     "output_type": "stream",
     "text": [
      "100it [02:35,  1.56s/it]\n",
      "0it [00:00, ?it/s]"
     ]
    },
    {
     "name": "stdout",
     "output_type": "stream",
     "text": [
      "Fold:0\t Epoch:29\t Batch:99\t loss:0.029533\n",
      "fold validating...\n"
     ]
    },
    {
     "name": "stderr",
     "output_type": "stream",
     "text": [
      "26it [00:11,  2.21it/s]\n",
      "0it [00:00, ?it/s]"
     ]
    },
    {
     "name": "stdout",
     "output_type": "stream",
     "text": [
      "Fold:0\t Epoch:29\t meanTrainLoss:0.044421\t meanValLoss:0.051853\t meanValIOU:0.676368\t BestValThred:0.600000\n",
      "Epoch:30...\n"
     ]
    },
    {
     "name": "stderr",
     "output_type": "stream",
     "text": [
      "20it [00:31,  1.56s/it]"
     ]
    },
    {
     "name": "stdout",
     "output_type": "stream",
     "text": [
      "Fold:0\t Epoch:30\t Batch:19\t loss:0.070587\n"
     ]
    },
    {
     "name": "stderr",
     "output_type": "stream",
     "text": [
      "40it [01:02,  1.56s/it]"
     ]
    },
    {
     "name": "stdout",
     "output_type": "stream",
     "text": [
      "Fold:0\t Epoch:30\t Batch:39\t loss:0.032009\n"
     ]
    },
    {
     "name": "stderr",
     "output_type": "stream",
     "text": [
      "60it [01:33,  1.56s/it]"
     ]
    },
    {
     "name": "stdout",
     "output_type": "stream",
     "text": [
      "Fold:0\t Epoch:30\t Batch:59\t loss:0.037760\n"
     ]
    },
    {
     "name": "stderr",
     "output_type": "stream",
     "text": [
      "80it [02:04,  1.56s/it]"
     ]
    },
    {
     "name": "stdout",
     "output_type": "stream",
     "text": [
      "Fold:0\t Epoch:30\t Batch:79\t loss:0.058962\n"
     ]
    },
    {
     "name": "stderr",
     "output_type": "stream",
     "text": [
      "100it [02:35,  1.55s/it]\n",
      "0it [00:00, ?it/s]"
     ]
    },
    {
     "name": "stdout",
     "output_type": "stream",
     "text": [
      "Fold:0\t Epoch:30\t Batch:99\t loss:0.091323\n",
      "fold validating...\n"
     ]
    },
    {
     "name": "stderr",
     "output_type": "stream",
     "text": [
      "26it [00:11,  2.21it/s]\n",
      "0it [00:00, ?it/s]"
     ]
    },
    {
     "name": "stdout",
     "output_type": "stream",
     "text": [
      "Fold:0\t Epoch:30\t meanTrainLoss:0.041684\t meanValLoss:0.042890\t meanValIOU:0.737935\t BestValThred:0.550000\n",
      "Epoch:31...\n"
     ]
    },
    {
     "name": "stderr",
     "output_type": "stream",
     "text": [
      "20it [00:31,  1.56s/it]"
     ]
    },
    {
     "name": "stdout",
     "output_type": "stream",
     "text": [
      "Fold:0\t Epoch:31\t Batch:19\t loss:0.031594\n"
     ]
    },
    {
     "name": "stderr",
     "output_type": "stream",
     "text": [
      "40it [01:02,  1.56s/it]"
     ]
    },
    {
     "name": "stdout",
     "output_type": "stream",
     "text": [
      "Fold:0\t Epoch:31\t Batch:39\t loss:0.043447\n"
     ]
    },
    {
     "name": "stderr",
     "output_type": "stream",
     "text": [
      "60it [01:33,  1.56s/it]"
     ]
    },
    {
     "name": "stdout",
     "output_type": "stream",
     "text": [
      "Fold:0\t Epoch:31\t Batch:59\t loss:0.065154\n"
     ]
    },
    {
     "name": "stderr",
     "output_type": "stream",
     "text": [
      "80it [02:04,  1.56s/it]"
     ]
    },
    {
     "name": "stdout",
     "output_type": "stream",
     "text": [
      "Fold:0\t Epoch:31\t Batch:79\t loss:0.056994\n"
     ]
    },
    {
     "name": "stderr",
     "output_type": "stream",
     "text": [
      "100it [02:35,  1.56s/it]\n",
      "0it [00:00, ?it/s]"
     ]
    },
    {
     "name": "stdout",
     "output_type": "stream",
     "text": [
      "Fold:0\t Epoch:31\t Batch:99\t loss:0.038525\n",
      "fold validating...\n"
     ]
    },
    {
     "name": "stderr",
     "output_type": "stream",
     "text": [
      "26it [00:11,  2.21it/s]\n",
      "0it [00:00, ?it/s]"
     ]
    },
    {
     "name": "stdout",
     "output_type": "stream",
     "text": [
      "Fold:0\t Epoch:31\t meanTrainLoss:0.043303\t meanValLoss:0.043283\t meanValIOU:0.738806\t BestValThred:0.550000\n",
      "Epoch:32...\n"
     ]
    },
    {
     "name": "stderr",
     "output_type": "stream",
     "text": [
      "20it [00:31,  1.56s/it]"
     ]
    },
    {
     "name": "stdout",
     "output_type": "stream",
     "text": [
      "Fold:0\t Epoch:32\t Batch:19\t loss:0.030298\n"
     ]
    },
    {
     "name": "stderr",
     "output_type": "stream",
     "text": [
      "40it [01:02,  1.56s/it]"
     ]
    },
    {
     "name": "stdout",
     "output_type": "stream",
     "text": [
      "Fold:0\t Epoch:32\t Batch:39\t loss:0.030991\n"
     ]
    },
    {
     "name": "stderr",
     "output_type": "stream",
     "text": [
      "60it [01:33,  1.56s/it]"
     ]
    },
    {
     "name": "stdout",
     "output_type": "stream",
     "text": [
      "Fold:0\t Epoch:32\t Batch:59\t loss:0.038620\n"
     ]
    },
    {
     "name": "stderr",
     "output_type": "stream",
     "text": [
      "80it [02:04,  1.56s/it]"
     ]
    },
    {
     "name": "stdout",
     "output_type": "stream",
     "text": [
      "Fold:0\t Epoch:32\t Batch:79\t loss:0.036156\n"
     ]
    },
    {
     "name": "stderr",
     "output_type": "stream",
     "text": [
      "100it [02:35,  1.56s/it]\n",
      "0it [00:00, ?it/s]"
     ]
    },
    {
     "name": "stdout",
     "output_type": "stream",
     "text": [
      "Fold:0\t Epoch:32\t Batch:99\t loss:0.041706\n",
      "fold validating...\n"
     ]
    },
    {
     "name": "stderr",
     "output_type": "stream",
     "text": [
      "26it [00:11,  2.21it/s]\n",
      "0it [00:00, ?it/s]"
     ]
    },
    {
     "name": "stdout",
     "output_type": "stream",
     "text": [
      "Fold:0\t Epoch:32\t meanTrainLoss:0.040790\t meanValLoss:0.047353\t meanValIOU:0.683831\t BestValThred:0.550000\n",
      "Epoch:33...\n"
     ]
    },
    {
     "name": "stderr",
     "output_type": "stream",
     "text": [
      "20it [00:31,  1.56s/it]"
     ]
    },
    {
     "name": "stdout",
     "output_type": "stream",
     "text": [
      "Fold:0\t Epoch:33\t Batch:19\t loss:0.042544\n"
     ]
    },
    {
     "name": "stderr",
     "output_type": "stream",
     "text": [
      "40it [01:02,  1.56s/it]"
     ]
    },
    {
     "name": "stdout",
     "output_type": "stream",
     "text": [
      "Fold:0\t Epoch:33\t Batch:39\t loss:0.043289\n"
     ]
    },
    {
     "name": "stderr",
     "output_type": "stream",
     "text": [
      "60it [01:33,  1.56s/it]"
     ]
    },
    {
     "name": "stdout",
     "output_type": "stream",
     "text": [
      "Fold:0\t Epoch:33\t Batch:59\t loss:0.091157\n"
     ]
    },
    {
     "name": "stderr",
     "output_type": "stream",
     "text": [
      "80it [02:04,  1.56s/it]"
     ]
    },
    {
     "name": "stdout",
     "output_type": "stream",
     "text": [
      "Fold:0\t Epoch:33\t Batch:79\t loss:0.047066\n"
     ]
    },
    {
     "name": "stderr",
     "output_type": "stream",
     "text": [
      "100it [02:35,  1.56s/it]\n",
      "0it [00:00, ?it/s]"
     ]
    },
    {
     "name": "stdout",
     "output_type": "stream",
     "text": [
      "Fold:0\t Epoch:33\t Batch:99\t loss:0.069586\n",
      "fold validating...\n"
     ]
    },
    {
     "name": "stderr",
     "output_type": "stream",
     "text": [
      "26it [00:11,  2.22it/s]\n",
      "0it [00:00, ?it/s]"
     ]
    },
    {
     "name": "stdout",
     "output_type": "stream",
     "text": [
      "Fold:0\t Epoch:33\t meanTrainLoss:0.042045\t meanValLoss:0.043095\t meanValIOU:0.733458\t BestValThred:0.500000\n",
      "Epoch:34...\n"
     ]
    },
    {
     "name": "stderr",
     "output_type": "stream",
     "text": [
      "20it [00:31,  1.56s/it]"
     ]
    },
    {
     "name": "stdout",
     "output_type": "stream",
     "text": [
      "Fold:0\t Epoch:34\t Batch:19\t loss:0.039131\n"
     ]
    },
    {
     "name": "stderr",
     "output_type": "stream",
     "text": [
      "40it [01:02,  1.56s/it]"
     ]
    },
    {
     "name": "stdout",
     "output_type": "stream",
     "text": [
      "Fold:0\t Epoch:34\t Batch:39\t loss:0.025424\n"
     ]
    },
    {
     "name": "stderr",
     "output_type": "stream",
     "text": [
      "60it [01:33,  1.56s/it]"
     ]
    },
    {
     "name": "stdout",
     "output_type": "stream",
     "text": [
      "Fold:0\t Epoch:34\t Batch:59\t loss:0.035658\n"
     ]
    },
    {
     "name": "stderr",
     "output_type": "stream",
     "text": [
      "80it [02:04,  1.56s/it]"
     ]
    },
    {
     "name": "stdout",
     "output_type": "stream",
     "text": [
      "Fold:0\t Epoch:34\t Batch:79\t loss:0.080643\n"
     ]
    },
    {
     "name": "stderr",
     "output_type": "stream",
     "text": [
      "100it [02:35,  1.56s/it]\n",
      "0it [00:00, ?it/s]"
     ]
    },
    {
     "name": "stdout",
     "output_type": "stream",
     "text": [
      "Fold:0\t Epoch:34\t Batch:99\t loss:0.041484\n",
      "fold validating...\n"
     ]
    },
    {
     "name": "stderr",
     "output_type": "stream",
     "text": [
      "26it [00:11,  2.21it/s]\n",
      "0it [00:00, ?it/s]"
     ]
    },
    {
     "name": "stdout",
     "output_type": "stream",
     "text": [
      "Fold:0\t Epoch:34\t meanTrainLoss:0.039401\t meanValLoss:0.039669\t meanValIOU:0.742662\t BestValThred:0.550000\n",
      "Epoch:35...\n"
     ]
    },
    {
     "name": "stderr",
     "output_type": "stream",
     "text": [
      "20it [00:31,  1.56s/it]"
     ]
    },
    {
     "name": "stdout",
     "output_type": "stream",
     "text": [
      "Fold:0\t Epoch:35\t Batch:19\t loss:0.042969\n"
     ]
    },
    {
     "name": "stderr",
     "output_type": "stream",
     "text": [
      "40it [01:02,  1.56s/it]"
     ]
    },
    {
     "name": "stdout",
     "output_type": "stream",
     "text": [
      "Fold:0\t Epoch:35\t Batch:39\t loss:0.043009\n"
     ]
    },
    {
     "name": "stderr",
     "output_type": "stream",
     "text": [
      "60it [01:33,  1.56s/it]"
     ]
    },
    {
     "name": "stdout",
     "output_type": "stream",
     "text": [
      "Fold:0\t Epoch:35\t Batch:59\t loss:0.033076\n"
     ]
    },
    {
     "name": "stderr",
     "output_type": "stream",
     "text": [
      "80it [02:04,  1.56s/it]"
     ]
    },
    {
     "name": "stdout",
     "output_type": "stream",
     "text": [
      "Fold:0\t Epoch:35\t Batch:79\t loss:0.035305\n"
     ]
    },
    {
     "name": "stderr",
     "output_type": "stream",
     "text": [
      "100it [02:35,  1.55s/it]\n",
      "0it [00:00, ?it/s]"
     ]
    },
    {
     "name": "stdout",
     "output_type": "stream",
     "text": [
      "Fold:0\t Epoch:35\t Batch:99\t loss:0.085112\n",
      "fold validating...\n"
     ]
    },
    {
     "name": "stderr",
     "output_type": "stream",
     "text": [
      "26it [00:11,  2.21it/s]\n",
      "0it [00:00, ?it/s]"
     ]
    },
    {
     "name": "stdout",
     "output_type": "stream",
     "text": [
      "Fold:0\t Epoch:35\t meanTrainLoss:0.040834\t meanValLoss:0.048345\t meanValIOU:0.725622\t BestValThred:0.450000\n",
      "Epoch:36...\n"
     ]
    },
    {
     "name": "stderr",
     "output_type": "stream",
     "text": [
      "20it [00:31,  1.56s/it]"
     ]
    },
    {
     "name": "stdout",
     "output_type": "stream",
     "text": [
      "Fold:0\t Epoch:36\t Batch:19\t loss:0.041471\n"
     ]
    },
    {
     "name": "stderr",
     "output_type": "stream",
     "text": [
      "40it [01:02,  1.56s/it]"
     ]
    },
    {
     "name": "stdout",
     "output_type": "stream",
     "text": [
      "Fold:0\t Epoch:36\t Batch:39\t loss:0.051271\n"
     ]
    },
    {
     "name": "stderr",
     "output_type": "stream",
     "text": [
      "60it [01:33,  1.56s/it]"
     ]
    },
    {
     "name": "stdout",
     "output_type": "stream",
     "text": [
      "Fold:0\t Epoch:36\t Batch:59\t loss:0.032869\n"
     ]
    },
    {
     "name": "stderr",
     "output_type": "stream",
     "text": [
      "80it [02:04,  1.56s/it]"
     ]
    },
    {
     "name": "stdout",
     "output_type": "stream",
     "text": [
      "Fold:0\t Epoch:36\t Batch:79\t loss:0.034913\n"
     ]
    },
    {
     "name": "stderr",
     "output_type": "stream",
     "text": [
      "100it [02:35,  1.55s/it]\n",
      "0it [00:00, ?it/s]"
     ]
    },
    {
     "name": "stdout",
     "output_type": "stream",
     "text": [
      "Fold:0\t Epoch:36\t Batch:99\t loss:0.046958\n",
      "fold validating...\n"
     ]
    },
    {
     "name": "stderr",
     "output_type": "stream",
     "text": [
      "26it [00:11,  2.21it/s]\n",
      "0it [00:00, ?it/s]"
     ]
    },
    {
     "name": "stdout",
     "output_type": "stream",
     "text": [
      "Fold:0\t Epoch:36\t meanTrainLoss:0.039841\t meanValLoss:0.042383\t meanValIOU:0.726617\t BestValThred:0.450000\n",
      "Epoch:37...\n"
     ]
    },
    {
     "name": "stderr",
     "output_type": "stream",
     "text": [
      "20it [00:31,  1.56s/it]"
     ]
    },
    {
     "name": "stdout",
     "output_type": "stream",
     "text": [
      "Fold:0\t Epoch:37\t Batch:19\t loss:0.030858\n"
     ]
    },
    {
     "name": "stderr",
     "output_type": "stream",
     "text": [
      "40it [01:02,  1.56s/it]"
     ]
    },
    {
     "name": "stdout",
     "output_type": "stream",
     "text": [
      "Fold:0\t Epoch:37\t Batch:39\t loss:0.042508\n"
     ]
    },
    {
     "name": "stderr",
     "output_type": "stream",
     "text": [
      "60it [01:33,  1.56s/it]"
     ]
    },
    {
     "name": "stdout",
     "output_type": "stream",
     "text": [
      "Fold:0\t Epoch:37\t Batch:59\t loss:0.020426\n"
     ]
    },
    {
     "name": "stderr",
     "output_type": "stream",
     "text": [
      "80it [02:04,  1.56s/it]"
     ]
    },
    {
     "name": "stdout",
     "output_type": "stream",
     "text": [
      "Fold:0\t Epoch:37\t Batch:79\t loss:0.030580\n"
     ]
    },
    {
     "name": "stderr",
     "output_type": "stream",
     "text": [
      "100it [02:35,  1.55s/it]\n",
      "0it [00:00, ?it/s]"
     ]
    },
    {
     "name": "stdout",
     "output_type": "stream",
     "text": [
      "Fold:0\t Epoch:37\t Batch:99\t loss:0.013561\n",
      "fold validating...\n"
     ]
    },
    {
     "name": "stderr",
     "output_type": "stream",
     "text": [
      "26it [00:11,  2.21it/s]\n",
      "0it [00:00, ?it/s]"
     ]
    },
    {
     "name": "stdout",
     "output_type": "stream",
     "text": [
      "Fold:0\t Epoch:37\t meanTrainLoss:0.036789\t meanValLoss:0.042149\t meanValIOU:0.751493\t BestValThred:0.500000\n",
      "Epoch:38...\n"
     ]
    },
    {
     "name": "stderr",
     "output_type": "stream",
     "text": [
      "20it [00:31,  1.56s/it]"
     ]
    },
    {
     "name": "stdout",
     "output_type": "stream",
     "text": [
      "Fold:0\t Epoch:38\t Batch:19\t loss:0.024151\n"
     ]
    },
    {
     "name": "stderr",
     "output_type": "stream",
     "text": [
      "40it [01:02,  1.56s/it]"
     ]
    },
    {
     "name": "stdout",
     "output_type": "stream",
     "text": [
      "Fold:0\t Epoch:38\t Batch:39\t loss:0.020756\n"
     ]
    },
    {
     "name": "stderr",
     "output_type": "stream",
     "text": [
      "60it [01:33,  1.56s/it]"
     ]
    },
    {
     "name": "stdout",
     "output_type": "stream",
     "text": [
      "Fold:0\t Epoch:38\t Batch:59\t loss:0.036151\n"
     ]
    },
    {
     "name": "stderr",
     "output_type": "stream",
     "text": [
      "80it [02:04,  1.56s/it]"
     ]
    },
    {
     "name": "stdout",
     "output_type": "stream",
     "text": [
      "Fold:0\t Epoch:38\t Batch:79\t loss:0.032137\n"
     ]
    },
    {
     "name": "stderr",
     "output_type": "stream",
     "text": [
      "100it [02:35,  1.55s/it]\n",
      "0it [00:00, ?it/s]"
     ]
    },
    {
     "name": "stdout",
     "output_type": "stream",
     "text": [
      "Fold:0\t Epoch:38\t Batch:99\t loss:0.029790\n",
      "fold validating...\n"
     ]
    },
    {
     "name": "stderr",
     "output_type": "stream",
     "text": [
      "26it [00:11,  2.21it/s]\n",
      "0it [00:00, ?it/s]"
     ]
    },
    {
     "name": "stdout",
     "output_type": "stream",
     "text": [
      "Fold:0\t Epoch:38\t meanTrainLoss:0.036197\t meanValLoss:0.050787\t meanValIOU:0.708458\t BestValThred:0.550000\n",
      "Epoch:39...\n"
     ]
    },
    {
     "name": "stderr",
     "output_type": "stream",
     "text": [
      "20it [00:31,  1.56s/it]"
     ]
    },
    {
     "name": "stdout",
     "output_type": "stream",
     "text": [
      "Fold:0\t Epoch:39\t Batch:19\t loss:0.030177\n"
     ]
    },
    {
     "name": "stderr",
     "output_type": "stream",
     "text": [
      "40it [01:02,  1.56s/it]"
     ]
    },
    {
     "name": "stdout",
     "output_type": "stream",
     "text": [
      "Fold:0\t Epoch:39\t Batch:39\t loss:0.029723\n"
     ]
    },
    {
     "name": "stderr",
     "output_type": "stream",
     "text": [
      "60it [01:33,  1.56s/it]"
     ]
    },
    {
     "name": "stdout",
     "output_type": "stream",
     "text": [
      "Fold:0\t Epoch:39\t Batch:59\t loss:0.030992\n"
     ]
    },
    {
     "name": "stderr",
     "output_type": "stream",
     "text": [
      "80it [02:04,  1.56s/it]"
     ]
    },
    {
     "name": "stdout",
     "output_type": "stream",
     "text": [
      "Fold:0\t Epoch:39\t Batch:79\t loss:0.037738\n"
     ]
    },
    {
     "name": "stderr",
     "output_type": "stream",
     "text": [
      "100it [02:35,  1.56s/it]\n",
      "0it [00:00, ?it/s]"
     ]
    },
    {
     "name": "stdout",
     "output_type": "stream",
     "text": [
      "Fold:0\t Epoch:39\t Batch:99\t loss:0.043427\n",
      "fold validating...\n"
     ]
    },
    {
     "name": "stderr",
     "output_type": "stream",
     "text": [
      "26it [00:11,  2.21it/s]\n",
      "0it [00:00, ?it/s]"
     ]
    },
    {
     "name": "stdout",
     "output_type": "stream",
     "text": [
      "Fold:0\t Epoch:39\t meanTrainLoss:0.035112\t meanValLoss:0.041986\t meanValIOU:0.730473\t BestValThred:0.500000\n",
      "Epoch:40...\n"
     ]
    },
    {
     "name": "stderr",
     "output_type": "stream",
     "text": [
      "20it [00:31,  1.56s/it]"
     ]
    },
    {
     "name": "stdout",
     "output_type": "stream",
     "text": [
      "Fold:0\t Epoch:40\t Batch:19\t loss:0.032917\n"
     ]
    },
    {
     "name": "stderr",
     "output_type": "stream",
     "text": [
      "40it [01:02,  1.56s/it]"
     ]
    },
    {
     "name": "stdout",
     "output_type": "stream",
     "text": [
      "Fold:0\t Epoch:40\t Batch:39\t loss:0.057720\n"
     ]
    },
    {
     "name": "stderr",
     "output_type": "stream",
     "text": [
      "60it [01:33,  1.56s/it]"
     ]
    },
    {
     "name": "stdout",
     "output_type": "stream",
     "text": [
      "Fold:0\t Epoch:40\t Batch:59\t loss:0.030004\n"
     ]
    },
    {
     "name": "stderr",
     "output_type": "stream",
     "text": [
      "80it [02:04,  1.56s/it]"
     ]
    },
    {
     "name": "stdout",
     "output_type": "stream",
     "text": [
      "Fold:0\t Epoch:40\t Batch:79\t loss:0.060698\n"
     ]
    },
    {
     "name": "stderr",
     "output_type": "stream",
     "text": [
      "100it [02:35,  1.55s/it]\n",
      "0it [00:00, ?it/s]"
     ]
    },
    {
     "name": "stdout",
     "output_type": "stream",
     "text": [
      "Fold:0\t Epoch:40\t Batch:99\t loss:0.043243\n",
      "fold validating...\n"
     ]
    },
    {
     "name": "stderr",
     "output_type": "stream",
     "text": [
      "26it [00:11,  2.21it/s]\n",
      "0it [00:00, ?it/s]"
     ]
    },
    {
     "name": "stdout",
     "output_type": "stream",
     "text": [
      "Fold:0\t Epoch:40\t meanTrainLoss:0.035902\t meanValLoss:0.046503\t meanValIOU:0.731965\t BestValThred:0.500000\n",
      "Epoch:41...\n"
     ]
    },
    {
     "name": "stderr",
     "output_type": "stream",
     "text": [
      "20it [00:31,  1.56s/it]"
     ]
    },
    {
     "name": "stdout",
     "output_type": "stream",
     "text": [
      "Fold:0\t Epoch:41\t Batch:19\t loss:0.029422\n"
     ]
    },
    {
     "name": "stderr",
     "output_type": "stream",
     "text": [
      "40it [01:02,  1.56s/it]"
     ]
    },
    {
     "name": "stdout",
     "output_type": "stream",
     "text": [
      "Fold:0\t Epoch:41\t Batch:39\t loss:0.045332\n"
     ]
    },
    {
     "name": "stderr",
     "output_type": "stream",
     "text": [
      "60it [01:33,  1.56s/it]"
     ]
    },
    {
     "name": "stdout",
     "output_type": "stream",
     "text": [
      "Fold:0\t Epoch:41\t Batch:59\t loss:0.067185\n"
     ]
    },
    {
     "name": "stderr",
     "output_type": "stream",
     "text": [
      "80it [02:04,  1.56s/it]"
     ]
    },
    {
     "name": "stdout",
     "output_type": "stream",
     "text": [
      "Fold:0\t Epoch:41\t Batch:79\t loss:0.042635\n"
     ]
    },
    {
     "name": "stderr",
     "output_type": "stream",
     "text": [
      "100it [02:35,  1.55s/it]\n",
      "0it [00:00, ?it/s]"
     ]
    },
    {
     "name": "stdout",
     "output_type": "stream",
     "text": [
      "Fold:0\t Epoch:41\t Batch:99\t loss:0.030033\n",
      "fold validating...\n"
     ]
    },
    {
     "name": "stderr",
     "output_type": "stream",
     "text": [
      "26it [00:11,  2.21it/s]\n",
      "0it [00:00, ?it/s]"
     ]
    },
    {
     "name": "stdout",
     "output_type": "stream",
     "text": [
      "Fold:0\t Epoch:41\t meanTrainLoss:0.037742\t meanValLoss:0.046504\t meanValIOU:0.725871\t BestValThred:0.500000\n",
      "Epoch:42...\n"
     ]
    },
    {
     "name": "stderr",
     "output_type": "stream",
     "text": [
      "20it [00:31,  1.56s/it]"
     ]
    },
    {
     "name": "stdout",
     "output_type": "stream",
     "text": [
      "Fold:0\t Epoch:42\t Batch:19\t loss:0.030891\n"
     ]
    },
    {
     "name": "stderr",
     "output_type": "stream",
     "text": [
      "40it [01:02,  1.56s/it]"
     ]
    },
    {
     "name": "stdout",
     "output_type": "stream",
     "text": [
      "Fold:0\t Epoch:42\t Batch:39\t loss:0.023953\n"
     ]
    },
    {
     "name": "stderr",
     "output_type": "stream",
     "text": [
      "60it [01:33,  1.56s/it]"
     ]
    },
    {
     "name": "stdout",
     "output_type": "stream",
     "text": [
      "Fold:0\t Epoch:42\t Batch:59\t loss:0.036405\n"
     ]
    },
    {
     "name": "stderr",
     "output_type": "stream",
     "text": [
      "80it [02:04,  1.56s/it]"
     ]
    },
    {
     "name": "stdout",
     "output_type": "stream",
     "text": [
      "Fold:0\t Epoch:42\t Batch:79\t loss:0.063172\n"
     ]
    },
    {
     "name": "stderr",
     "output_type": "stream",
     "text": [
      "100it [02:35,  1.55s/it]\n",
      "0it [00:00, ?it/s]"
     ]
    },
    {
     "name": "stdout",
     "output_type": "stream",
     "text": [
      "Fold:0\t Epoch:42\t Batch:99\t loss:0.032372\n",
      "fold validating...\n"
     ]
    },
    {
     "name": "stderr",
     "output_type": "stream",
     "text": [
      "26it [00:11,  2.21it/s]\n",
      "0it [00:00, ?it/s]"
     ]
    },
    {
     "name": "stdout",
     "output_type": "stream",
     "text": [
      "Fold:0\t Epoch:42\t meanTrainLoss:0.034192\t meanValLoss:0.042986\t meanValIOU:0.743408\t BestValThred:0.600000\n",
      "Epoch:43...\n"
     ]
    },
    {
     "name": "stderr",
     "output_type": "stream",
     "text": [
      "20it [00:31,  1.56s/it]"
     ]
    },
    {
     "name": "stdout",
     "output_type": "stream",
     "text": [
      "Fold:0\t Epoch:43\t Batch:19\t loss:0.030372\n"
     ]
    },
    {
     "name": "stderr",
     "output_type": "stream",
     "text": [
      "40it [01:02,  1.56s/it]"
     ]
    },
    {
     "name": "stdout",
     "output_type": "stream",
     "text": [
      "Fold:0\t Epoch:43\t Batch:39\t loss:0.054101\n"
     ]
    },
    {
     "name": "stderr",
     "output_type": "stream",
     "text": [
      "60it [01:33,  1.56s/it]"
     ]
    },
    {
     "name": "stdout",
     "output_type": "stream",
     "text": [
      "Fold:0\t Epoch:43\t Batch:59\t loss:0.063442\n"
     ]
    },
    {
     "name": "stderr",
     "output_type": "stream",
     "text": [
      "80it [02:04,  1.56s/it]"
     ]
    },
    {
     "name": "stdout",
     "output_type": "stream",
     "text": [
      "Fold:0\t Epoch:43\t Batch:79\t loss:0.031725\n"
     ]
    },
    {
     "name": "stderr",
     "output_type": "stream",
     "text": [
      "100it [02:35,  1.55s/it]\n",
      "0it [00:00, ?it/s]"
     ]
    },
    {
     "name": "stdout",
     "output_type": "stream",
     "text": [
      "Fold:0\t Epoch:43\t Batch:99\t loss:0.056199\n",
      "fold validating...\n"
     ]
    },
    {
     "name": "stderr",
     "output_type": "stream",
     "text": [
      "26it [00:11,  2.21it/s]\n",
      "0it [00:00, ?it/s]"
     ]
    },
    {
     "name": "stdout",
     "output_type": "stream",
     "text": [
      "Fold:0\t Epoch:43\t meanTrainLoss:0.034345\t meanValLoss:0.047891\t meanValIOU:0.737313\t BestValThred:0.500000\n",
      "Epoch:44...\n"
     ]
    },
    {
     "name": "stderr",
     "output_type": "stream",
     "text": [
      "20it [00:31,  1.56s/it]"
     ]
    },
    {
     "name": "stdout",
     "output_type": "stream",
     "text": [
      "Fold:0\t Epoch:44\t Batch:19\t loss:0.015113\n"
     ]
    },
    {
     "name": "stderr",
     "output_type": "stream",
     "text": [
      "40it [01:02,  1.56s/it]"
     ]
    },
    {
     "name": "stdout",
     "output_type": "stream",
     "text": [
      "Fold:0\t Epoch:44\t Batch:39\t loss:0.022621\n"
     ]
    },
    {
     "name": "stderr",
     "output_type": "stream",
     "text": [
      "60it [01:33,  1.56s/it]"
     ]
    },
    {
     "name": "stdout",
     "output_type": "stream",
     "text": [
      "Fold:0\t Epoch:44\t Batch:59\t loss:0.033718\n"
     ]
    },
    {
     "name": "stderr",
     "output_type": "stream",
     "text": [
      "80it [02:04,  1.56s/it]"
     ]
    },
    {
     "name": "stdout",
     "output_type": "stream",
     "text": [
      "Fold:0\t Epoch:44\t Batch:79\t loss:0.036310\n"
     ]
    },
    {
     "name": "stderr",
     "output_type": "stream",
     "text": [
      "100it [02:35,  1.56s/it]\n",
      "0it [00:00, ?it/s]"
     ]
    },
    {
     "name": "stdout",
     "output_type": "stream",
     "text": [
      "Fold:0\t Epoch:44\t Batch:99\t loss:0.021328\n",
      "fold validating...\n"
     ]
    },
    {
     "name": "stderr",
     "output_type": "stream",
     "text": [
      "26it [00:11,  2.21it/s]\n",
      "0it [00:00, ?it/s]"
     ]
    },
    {
     "name": "stdout",
     "output_type": "stream",
     "text": [
      "Fold:0\t Epoch:44\t meanTrainLoss:0.030611\t meanValLoss:0.042053\t meanValIOU:0.749005\t BestValThred:0.550000\n",
      "Epoch:45...\n"
     ]
    },
    {
     "name": "stderr",
     "output_type": "stream",
     "text": [
      "20it [00:31,  1.56s/it]"
     ]
    },
    {
     "name": "stdout",
     "output_type": "stream",
     "text": [
      "Fold:0\t Epoch:45\t Batch:19\t loss:0.017570\n"
     ]
    },
    {
     "name": "stderr",
     "output_type": "stream",
     "text": [
      "40it [01:02,  1.56s/it]"
     ]
    },
    {
     "name": "stdout",
     "output_type": "stream",
     "text": [
      "Fold:0\t Epoch:45\t Batch:39\t loss:0.030368\n"
     ]
    },
    {
     "name": "stderr",
     "output_type": "stream",
     "text": [
      "60it [01:33,  1.56s/it]"
     ]
    },
    {
     "name": "stdout",
     "output_type": "stream",
     "text": [
      "Fold:0\t Epoch:45\t Batch:59\t loss:0.022774\n"
     ]
    },
    {
     "name": "stderr",
     "output_type": "stream",
     "text": [
      "80it [02:04,  1.56s/it]"
     ]
    },
    {
     "name": "stdout",
     "output_type": "stream",
     "text": [
      "Fold:0\t Epoch:45\t Batch:79\t loss:0.041894\n"
     ]
    },
    {
     "name": "stderr",
     "output_type": "stream",
     "text": [
      "100it [02:35,  1.55s/it]\n",
      "0it [00:00, ?it/s]"
     ]
    },
    {
     "name": "stdout",
     "output_type": "stream",
     "text": [
      "Fold:0\t Epoch:45\t Batch:99\t loss:0.052282\n",
      "fold validating...\n"
     ]
    },
    {
     "name": "stderr",
     "output_type": "stream",
     "text": [
      "26it [00:11,  2.21it/s]\n",
      "0it [00:00, ?it/s]"
     ]
    },
    {
     "name": "stdout",
     "output_type": "stream",
     "text": [
      "Fold:0\t Epoch:45\t meanTrainLoss:0.032322\t meanValLoss:0.056643\t meanValIOU:0.680846\t BestValThred:0.600000\n",
      "Epoch:46...\n"
     ]
    },
    {
     "name": "stderr",
     "output_type": "stream",
     "text": [
      "20it [00:31,  1.56s/it]"
     ]
    },
    {
     "name": "stdout",
     "output_type": "stream",
     "text": [
      "Fold:0\t Epoch:46\t Batch:19\t loss:0.040368\n"
     ]
    },
    {
     "name": "stderr",
     "output_type": "stream",
     "text": [
      "40it [01:02,  1.56s/it]"
     ]
    },
    {
     "name": "stdout",
     "output_type": "stream",
     "text": [
      "Fold:0\t Epoch:46\t Batch:39\t loss:0.041909\n"
     ]
    },
    {
     "name": "stderr",
     "output_type": "stream",
     "text": [
      "60it [01:33,  1.55s/it]"
     ]
    },
    {
     "name": "stdout",
     "output_type": "stream",
     "text": [
      "Fold:0\t Epoch:46\t Batch:59\t loss:0.028586\n"
     ]
    },
    {
     "name": "stderr",
     "output_type": "stream",
     "text": [
      "80it [02:04,  1.55s/it]"
     ]
    },
    {
     "name": "stdout",
     "output_type": "stream",
     "text": [
      "Fold:0\t Epoch:46\t Batch:79\t loss:0.017310\n"
     ]
    },
    {
     "name": "stderr",
     "output_type": "stream",
     "text": [
      "100it [02:35,  1.55s/it]\n",
      "0it [00:00, ?it/s]"
     ]
    },
    {
     "name": "stdout",
     "output_type": "stream",
     "text": [
      "Fold:0\t Epoch:46\t Batch:99\t loss:0.034076\n",
      "fold validating...\n"
     ]
    },
    {
     "name": "stderr",
     "output_type": "stream",
     "text": [
      "26it [00:11,  2.21it/s]\n",
      "0it [00:00, ?it/s]"
     ]
    },
    {
     "name": "stdout",
     "output_type": "stream",
     "text": [
      "Fold:0\t Epoch:46\t meanTrainLoss:0.031065\t meanValLoss:0.041332\t meanValIOU:0.742413\t BestValThred:0.500000\n",
      "Epoch:47...\n"
     ]
    },
    {
     "name": "stderr",
     "output_type": "stream",
     "text": [
      "20it [00:31,  1.56s/it]"
     ]
    },
    {
     "name": "stdout",
     "output_type": "stream",
     "text": [
      "Fold:0\t Epoch:47\t Batch:19\t loss:0.027703\n"
     ]
    },
    {
     "name": "stderr",
     "output_type": "stream",
     "text": [
      "40it [01:02,  1.56s/it]"
     ]
    },
    {
     "name": "stdout",
     "output_type": "stream",
     "text": [
      "Fold:0\t Epoch:47\t Batch:39\t loss:0.035049\n"
     ]
    },
    {
     "name": "stderr",
     "output_type": "stream",
     "text": [
      "60it [01:33,  1.56s/it]"
     ]
    },
    {
     "name": "stdout",
     "output_type": "stream",
     "text": [
      "Fold:0\t Epoch:47\t Batch:59\t loss:0.043887\n"
     ]
    },
    {
     "name": "stderr",
     "output_type": "stream",
     "text": [
      "80it [02:04,  1.55s/it]"
     ]
    },
    {
     "name": "stdout",
     "output_type": "stream",
     "text": [
      "Fold:0\t Epoch:47\t Batch:79\t loss:0.034325\n"
     ]
    },
    {
     "name": "stderr",
     "output_type": "stream",
     "text": [
      "100it [02:35,  1.55s/it]\n",
      "0it [00:00, ?it/s]"
     ]
    },
    {
     "name": "stdout",
     "output_type": "stream",
     "text": [
      "Fold:0\t Epoch:47\t Batch:99\t loss:0.032907\n",
      "fold validating...\n"
     ]
    },
    {
     "name": "stderr",
     "output_type": "stream",
     "text": [
      "26it [00:11,  2.21it/s]\n",
      "0it [00:00, ?it/s]"
     ]
    },
    {
     "name": "stdout",
     "output_type": "stream",
     "text": [
      "Fold:0\t Epoch:47\t meanTrainLoss:0.034539\t meanValLoss:0.044009\t meanValIOU:0.749378\t BestValThred:0.500000\n",
      "Epoch:48...\n"
     ]
    },
    {
     "name": "stderr",
     "output_type": "stream",
     "text": [
      "20it [00:31,  1.56s/it]"
     ]
    },
    {
     "name": "stdout",
     "output_type": "stream",
     "text": [
      "Fold:0\t Epoch:48\t Batch:19\t loss:0.024646\n"
     ]
    },
    {
     "name": "stderr",
     "output_type": "stream",
     "text": [
      "40it [01:02,  1.56s/it]"
     ]
    },
    {
     "name": "stdout",
     "output_type": "stream",
     "text": [
      "Fold:0\t Epoch:48\t Batch:39\t loss:0.028184\n"
     ]
    },
    {
     "name": "stderr",
     "output_type": "stream",
     "text": [
      "60it [01:33,  1.56s/it]"
     ]
    },
    {
     "name": "stdout",
     "output_type": "stream",
     "text": [
      "Fold:0\t Epoch:48\t Batch:59\t loss:0.039615\n"
     ]
    },
    {
     "name": "stderr",
     "output_type": "stream",
     "text": [
      "80it [02:04,  1.55s/it]"
     ]
    },
    {
     "name": "stdout",
     "output_type": "stream",
     "text": [
      "Fold:0\t Epoch:48\t Batch:79\t loss:0.020755\n"
     ]
    },
    {
     "name": "stderr",
     "output_type": "stream",
     "text": [
      "100it [02:35,  1.55s/it]\n",
      "0it [00:00, ?it/s]"
     ]
    },
    {
     "name": "stdout",
     "output_type": "stream",
     "text": [
      "Fold:0\t Epoch:48\t Batch:99\t loss:0.038761\n",
      "fold validating...\n"
     ]
    },
    {
     "name": "stderr",
     "output_type": "stream",
     "text": [
      "26it [00:11,  2.21it/s]\n",
      "0it [00:00, ?it/s]"
     ]
    },
    {
     "name": "stdout",
     "output_type": "stream",
     "text": [
      "Fold:0\t Epoch:48\t meanTrainLoss:0.030985\t meanValLoss:0.043688\t meanValIOU:0.750622\t BestValThred:0.500000\n",
      "Epoch:49...\n"
     ]
    },
    {
     "name": "stderr",
     "output_type": "stream",
     "text": [
      "20it [00:31,  1.56s/it]"
     ]
    },
    {
     "name": "stdout",
     "output_type": "stream",
     "text": [
      "Fold:0\t Epoch:49\t Batch:19\t loss:0.029802\n"
     ]
    },
    {
     "name": "stderr",
     "output_type": "stream",
     "text": [
      "40it [01:02,  1.55s/it]"
     ]
    },
    {
     "name": "stdout",
     "output_type": "stream",
     "text": [
      "Fold:0\t Epoch:49\t Batch:39\t loss:0.043773\n"
     ]
    },
    {
     "name": "stderr",
     "output_type": "stream",
     "text": [
      "60it [01:33,  1.55s/it]"
     ]
    },
    {
     "name": "stdout",
     "output_type": "stream",
     "text": [
      "Fold:0\t Epoch:49\t Batch:59\t loss:0.053561\n"
     ]
    },
    {
     "name": "stderr",
     "output_type": "stream",
     "text": [
      "80it [02:04,  1.56s/it]"
     ]
    },
    {
     "name": "stdout",
     "output_type": "stream",
     "text": [
      "Fold:0\t Epoch:49\t Batch:79\t loss:0.041743\n"
     ]
    },
    {
     "name": "stderr",
     "output_type": "stream",
     "text": [
      "100it [02:35,  1.55s/it]\n",
      "0it [00:00, ?it/s]"
     ]
    },
    {
     "name": "stdout",
     "output_type": "stream",
     "text": [
      "Fold:0\t Epoch:49\t Batch:99\t loss:0.034069\n",
      "fold validating...\n"
     ]
    },
    {
     "name": "stderr",
     "output_type": "stream",
     "text": [
      "26it [00:11,  2.22it/s]\n"
     ]
    },
    {
     "name": "stdout",
     "output_type": "stream",
     "text": [
      "Fold:0\t Epoch:49\t meanTrainLoss:0.031859\t meanValLoss:0.042040\t meanValIOU:0.751617\t BestValThred:0.550000\n"
     ]
    }
   ],
   "source": [
    "n_fold = opt.fold_iter_num\n",
    "for i in range(n_fold):\n",
    "    (train_idx, valid_idx) = next(fold_)\n",
    "BestModel,BestIou,BestThred,train_loss,val_loss,val_iou,val_bestthred = train(n_fold,train_idx, valid_idx)"
   ]
  },
  {
   "cell_type": "code",
   "execution_count": 25,
   "metadata": {
    "_uuid": "0c95359bd204766cf81bece024a7c4b2c8198b70"
   },
   "outputs": [
    {
     "data": {
      "image/png": "[encoded data removed]",
      "text/plain": [
       "<matplotlib.figure.Figure at 0x7f19e0b7e588>"
      ]
     },
     "metadata": {},
     "output_type": "display_data"
    },
    {
     "data": {
      "image/png": "[encoded data removed]",
      "text/plain": [
       "<matplotlib.figure.Figure at 0x7f19e0763470>"
      ]
     },
     "metadata": {},
     "output_type": "display_data"
    },
    {
     "data": {
      "image/png": "[encoded data removed]",
      "text/plain": [
       "<matplotlib.figure.Figure at 0x7f19e072b860>"
      ]
     },
     "metadata": {},
     "output_type": "display_data"
    }
   ],
   "source": [
    "#画出结果图\n",
    "plot_result(train_loss,val_loss,val_iou,val_bestthred)"
   ]
  },
  {
   "cell_type": "code",
   "execution_count": 27,
   "metadata": {
    "_uuid": "f9f3f7801fe62c9dc00dcde036862b18630d14ad"
   },
   "outputs": [
    {
     "data": {
      "text/plain": [
       "'fold0_iou0.751617_thred0.550000.pth'"
      ]
     },
     "execution_count": 27,
     "metadata": {},
     "output_type": "execute_result"
    }
   ],
   "source": [
    "#保存模型\n",
    "BestModel.save('fold%d_iou%f_thred%f.pth'%(n_fold,BestIou,BestThred))"
   ]
  },
  {
   "cell_type": "code",
   "execution_count": 32,
   "metadata": {
    "_uuid": "97f07732403efc410a52cec814e867106df7a24c",
    "collapsed": true
   },
   "outputs": [],
   "source": [
    "# loading data\n",
    "test_data = TestDataSet(test_df.index.tolist(), opt)\n",
    "test_dataloader = DataLoader(\n",
    "    test_data, batch_size=opt.batch_size, shuffle=False)"
   ]
  },
  {
   "cell_type": "code",
   "execution_count": 33,
   "metadata": {
    "_uuid": "f8390c7736a5493e4cdf02d478fbc758c88bbc6c",
    "scrolled": true
   },
   "outputs": [
    {
     "name": "stderr",
     "output_type": "stream",
     "text": [
      "\n",
      "\n",
      "0it [00:00, ?it/s]\u001b[A\u001b[A"
     ]
    },
    {
     "name": "stdout",
     "output_type": "stream",
     "text": [
      "fold testing...\n"
     ]
    },
    {
     "name": "stderr",
     "output_type": "stream",
     "text": [
      "\n",
      "\n",
      "1it [00:00,  1.89it/s]\u001b[A\u001b[A\n",
      "\n",
      "2it [00:00,  2.02it/s]\u001b[A\u001b[A\n",
      "\n",
      "3it [00:01,  2.06it/s]\u001b[A\u001b[A\n",
      "\n",
      "4it [00:01,  2.08it/s]\u001b[A\u001b[A\n",
      "\n",
      "5it [00:02,  2.09it/s]\u001b[A\u001b[A\n",
      "\n",
      "6it [00:02,  2.10it/s]\u001b[A\u001b[A\n",
      "\n",
      "7it [00:03,  2.11it/s]\u001b[A\u001b[A\n",
      "\n",
      "8it [00:03,  2.12it/s]\u001b[A\u001b[A\n",
      "\n",
      "9it [00:04,  2.12it/s]\u001b[A\u001b[A\n",
      "\n",
      "10it [00:04,  2.12it/s]\u001b[A\u001b[A\n",
      "\n",
      "11it [00:05,  2.12it/s]\u001b[A\u001b[A\n",
      "\n",
      "12it [00:05,  2.12it/s]\u001b[A\u001b[A\n",
      "\n",
      "13it [00:06,  2.12it/s]\u001b[A\u001b[A\n",
      "\n",
      "14it [00:06,  2.12it/s]\u001b[A\u001b[A\n",
      "\n",
      "15it [00:07,  2.13it/s]\u001b[A\u001b[A\n",
      "\n",
      "16it [00:07,  2.13it/s]\u001b[A\u001b[A\n",
      "\n",
      "17it [00:07,  2.13it/s]\u001b[A\u001b[A\n",
      "\n",
      "18it [00:08,  2.13it/s]\u001b[A\u001b[A\n",
      "\n",
      "19it [00:08,  2.13it/s]\u001b[A\u001b[A\n",
      "\n",
      "20it [00:09,  2.13it/s]\u001b[A\u001b[A\n",
      "\n",
      "21it [00:09,  2.13it/s]\u001b[A\u001b[A\n",
      "\n",
      "22it [00:10,  2.13it/s]\u001b[A\u001b[A\n",
      "\n",
      "23it [00:10,  2.13it/s]\u001b[A\u001b[A\n",
      "\n",
      "24it [00:11,  2.13it/s]\u001b[A\u001b[A\n",
      "\n",
      "25it [00:11,  2.13it/s]\u001b[A\u001b[A\n",
      "\n",
      "26it [00:12,  2.13it/s]\u001b[A\u001b[A\n",
      "\n",
      "27it [00:12,  2.13it/s]\u001b[A\u001b[A\n",
      "\n",
      "28it [00:13,  2.13it/s]\u001b[A\u001b[A\n",
      "\n",
      "29it [00:13,  2.13it/s]\u001b[A\u001b[A\n",
      "\n",
      "30it [00:14,  2.13it/s]\u001b[A\u001b[A\n",
      "\n",
      "31it [00:14,  2.14it/s]\u001b[A\u001b[A\n",
      "\n",
      "32it [00:14,  2.14it/s]\u001b[A\u001b[A\n",
      "\n",
      "33it [00:15,  2.14it/s]\u001b[A\u001b[A\n",
      "\n",
      "34it [00:15,  2.14it/s]\u001b[A\u001b[A\n",
      "\n",
      "35it [00:16,  2.14it/s]\u001b[A\u001b[A\n",
      "\n",
      "36it [00:16,  2.14it/s]\u001b[A\u001b[A\n",
      "\n",
      "37it [00:17,  2.14it/s]\u001b[A\u001b[A\n",
      "\n",
      "38it [00:17,  2.14it/s]\u001b[A\u001b[A\n",
      "\n",
      "39it [00:18,  2.14it/s]\u001b[A\u001b[A\n",
      "\n",
      "40it [00:18,  2.14it/s]\u001b[A\u001b[A\n",
      "\n",
      "41it [00:19,  2.14it/s]\u001b[A\u001b[A\n",
      "\n",
      "42it [00:19,  2.14it/s]\u001b[A\u001b[A\n",
      "\n",
      "43it [00:20,  2.14it/s]\u001b[A\u001b[A\n",
      "\n",
      "44it [00:20,  2.14it/s]\u001b[A\u001b[A\n",
      "\n",
      "45it [00:21,  2.14it/s]\u001b[A\u001b[A\n",
      "\n",
      "46it [00:21,  2.14it/s]\u001b[A\u001b[A\n",
      "\n",
      "47it [00:21,  2.14it/s]\u001b[A\u001b[A\n",
      "\n",
      "48it [00:22,  2.14it/s]\u001b[A\u001b[A\n",
      "\n",
      "49it [00:22,  2.14it/s]\u001b[A\u001b[A\n",
      "\n",
      "50it [00:23,  2.14it/s]\u001b[A\u001b[A\n",
      "\n",
      "51it [00:23,  2.14it/s]\u001b[A\u001b[A\n",
      "\n",
      "52it [00:24,  2.14it/s]\u001b[A\u001b[A\n",
      "\n",
      "53it [00:24,  2.14it/s]\u001b[A\u001b[A\n",
      "\n",
      "54it [00:25,  2.14it/s]\u001b[A\u001b[A\n",
      "\n",
      "55it [00:25,  2.14it/s]\u001b[A\u001b[A\n",
      "\n",
      "56it [00:26,  2.14it/s]\u001b[A\u001b[A\n",
      "\n",
      "57it [00:26,  2.14it/s]\u001b[A\u001b[A\n",
      "\n",
      "58it [00:27,  2.14it/s]\u001b[A\u001b[A\n",
      "\n",
      "59it [00:27,  2.14it/s]\u001b[A\u001b[A\n",
      "\n",
      "60it [00:28,  2.14it/s]\u001b[A\u001b[A\n",
      "\n",
      "61it [00:28,  2.14it/s]\u001b[A\u001b[A\n",
      "\n",
      "62it [00:28,  2.14it/s]\u001b[A\u001b[A\n",
      "\n",
      "63it [00:29,  2.14it/s]\u001b[A\u001b[A\n",
      "\n",
      "64it [00:29,  2.14it/s]\u001b[A\u001b[A\n",
      "\n",
      "65it [00:30,  2.14it/s]\u001b[A\u001b[A\n",
      "\n",
      "66it [00:30,  2.14it/s]\u001b[A\u001b[A\n",
      "\n",
      "67it [00:31,  2.14it/s]\u001b[A\u001b[A\n",
      "\n",
      "68it [00:31,  2.14it/s]\u001b[A\u001b[A\n",
      "\n",
      "69it [00:32,  2.14it/s]\u001b[A\u001b[A\n",
      "\n",
      "70it [00:32,  2.14it/s]\u001b[A\u001b[A\n",
      "\n",
      "71it [00:33,  2.14it/s]\u001b[A\u001b[A\n",
      "\n",
      "72it [00:33,  2.14it/s]\u001b[A\u001b[A\n",
      "\n",
      "73it [00:34,  2.14it/s]\u001b[A\u001b[A\n",
      "\n",
      "74it [00:34,  2.14it/s]\u001b[A\u001b[A\n",
      "\n",
      "75it [00:35,  2.14it/s]\u001b[A\u001b[A\n",
      "\n",
      "76it [00:35,  2.14it/s]\u001b[A\u001b[A\n",
      "\n",
      "77it [00:35,  2.14it/s]\u001b[A\u001b[A\n",
      "\n",
      "78it [00:36,  2.14it/s]\u001b[A\u001b[A\n",
      "\n",
      "79it [00:36,  2.14it/s]\u001b[A\u001b[A\n",
      "\n",
      "80it [00:37,  2.14it/s]\u001b[A\u001b[A\n",
      "\n",
      "81it [00:37,  2.14it/s]\u001b[A\u001b[A\n",
      "\n",
      "82it [00:38,  2.14it/s]\u001b[A\u001b[A\n",
      "\n",
      "83it [00:38,  2.14it/s]\u001b[A\u001b[A\n",
      "\n",
      "84it [00:39,  2.14it/s]\u001b[A\u001b[A\n",
      "\n",
      "85it [00:39,  2.14it/s]\u001b[A\u001b[A\n",
      "\n",
      "86it [00:40,  2.14it/s]\u001b[A\u001b[A\n",
      "\n",
      "87it [00:40,  2.14it/s]\u001b[A\u001b[A\n",
      "\n",
      "88it [00:41,  2.14it/s]\u001b[A\u001b[A\n",
      "\n",
      "89it [00:41,  2.14it/s]\u001b[A\u001b[A\n",
      "\n",
      "90it [00:41,  2.14it/s]\u001b[A\u001b[A\n",
      "\n",
      "91it [00:42,  2.14it/s]\u001b[A\u001b[A\n",
      "\n",
      "92it [00:42,  2.14it/s]\u001b[A\u001b[A\n",
      "\n",
      "93it [00:43,  2.14it/s]\u001b[A\u001b[A\n",
      "\n",
      "94it [00:43,  2.14it/s]\u001b[A\u001b[A\n",
      "\n",
      "95it [00:44,  2.14it/s]\u001b[A\u001b[A\n",
      "\n",
      "96it [00:44,  2.14it/s]\u001b[A\u001b[A\n",
      "\n",
      "97it [00:45,  2.14it/s]\u001b[A\u001b[A\n",
      "\n",
      "98it [00:45,  2.14it/s]\u001b[A\u001b[A\n",
      "\n",
      "99it [00:46,  2.14it/s]\u001b[A\u001b[A\n",
      "\n",
      "100it [00:46,  2.14it/s]\u001b[A\u001b[A\n",
      "\n",
      "101it [00:47,  2.14it/s]\u001b[A\u001b[A\n",
      "\n",
      "102it [00:47,  2.14it/s]\u001b[A\u001b[A\n",
      "\n",
      "103it [00:48,  2.14it/s]\u001b[A\u001b[A\n",
      "\n",
      "104it [00:48,  2.14it/s]\u001b[A\u001b[A\n",
      "\n",
      "105it [00:48,  2.15it/s]\u001b[A\u001b[A\n",
      "\n",
      "106it [00:49,  2.15it/s]\u001b[A\u001b[A\n",
      "\n",
      "107it [00:49,  2.15it/s]\u001b[A\u001b[A\n",
      "\n",
      "108it [00:50,  2.15it/s]\u001b[A\u001b[A\n",
      "\n",
      "109it [00:50,  2.15it/s]\u001b[A\u001b[A\n",
      "\n",
      "110it [00:51,  2.15it/s]\u001b[A\u001b[A\n",
      "\n",
      "111it [00:51,  2.15it/s]\u001b[A\u001b[A\n",
      "\n",
      "112it [00:52,  2.15it/s]\u001b[A\u001b[A\n",
      "\n",
      "113it [00:52,  2.15it/s]\u001b[A\u001b[A\n",
      "\n",
      "114it [00:53,  2.15it/s]\u001b[A\u001b[A\n",
      "\n",
      "115it [00:53,  2.15it/s]\u001b[A\u001b[A\n",
      "\n",
      "116it [00:54,  2.15it/s]\u001b[A\u001b[A\n",
      "\n",
      "117it [00:54,  2.15it/s]\u001b[A\u001b[A\n",
      "\n",
      "118it [00:54,  2.15it/s]\u001b[A\u001b[A\n",
      "\n",
      "119it [00:55,  2.15it/s]\u001b[A\u001b[A\n",
      "\n",
      "120it [00:55,  2.15it/s]\u001b[A\u001b[A\n",
      "\n",
      "121it [00:56,  2.15it/s]\u001b[A\u001b[A\n",
      "\n",
      "122it [00:56,  2.15it/s]\u001b[A\u001b[A\n",
      "\n",
      "123it [00:57,  2.15it/s]\u001b[A\u001b[A\n",
      "\n",
      "124it [00:57,  2.15it/s]\u001b[A\u001b[A\n",
      "\n",
      "125it [00:58,  2.15it/s]\u001b[A\u001b[A\n",
      "\n",
      "126it [00:58,  2.15it/s]\u001b[A\u001b[A\n",
      "\n",
      "127it [00:59,  2.15it/s]\u001b[A\u001b[A\n",
      "\n",
      "128it [00:59,  2.15it/s]\u001b[A\u001b[A\n",
      "\n",
      "129it [01:00,  2.15it/s]\u001b[A\u001b[A\n",
      "\n",
      "130it [01:00,  2.15it/s]\u001b[A\u001b[A\n",
      "\n",
      "131it [01:01,  2.15it/s]\u001b[A\u001b[A\n",
      "\n",
      "132it [01:01,  2.15it/s]\u001b[A\u001b[A\n",
      "\n",
      "133it [01:01,  2.15it/s]\u001b[A\u001b[A\n",
      "\n",
      "134it [01:02,  2.15it/s]\u001b[A\u001b[A\n",
      "\n",
      "135it [01:02,  2.15it/s]\u001b[A\u001b[A\n",
      "\n",
      "136it [01:03,  2.15it/s]\u001b[A\u001b[A\n",
      "\n",
      "137it [01:03,  2.15it/s]\u001b[A\u001b[A\n",
      "\n",
      "138it [01:04,  2.15it/s]\u001b[A\u001b[A\n",
      "\n",
      "139it [01:04,  2.15it/s]\u001b[A\u001b[A\n",
      "\n",
      "140it [01:05,  2.15it/s]\u001b[A\u001b[A\n",
      "\n",
      "141it [01:05,  2.15it/s]\u001b[A\u001b[A\n",
      "\n",
      "142it [01:06,  2.15it/s]\u001b[A\u001b[A\n",
      "\n",
      "143it [01:06,  2.15it/s]\u001b[A\u001b[A\n",
      "\n",
      "144it [01:07,  2.15it/s]\u001b[A\u001b[A\n",
      "\n",
      "145it [01:07,  2.15it/s]\u001b[A\u001b[A\n",
      "\n",
      "146it [01:07,  2.15it/s]\u001b[A\u001b[A\n",
      "\n",
      "147it [01:08,  2.15it/s]\u001b[A\u001b[A\n",
      "\n",
      "148it [01:08,  2.15it/s]\u001b[A\u001b[A\n",
      "\n",
      "149it [01:09,  2.15it/s]\u001b[A\u001b[A\n",
      "\n",
      "150it [01:09,  2.15it/s]\u001b[A\u001b[A\n",
      "\n",
      "151it [01:10,  2.15it/s]\u001b[A\u001b[A\n",
      "\n",
      "152it [01:10,  2.15it/s]\u001b[A\u001b[A\n",
      "\n",
      "153it [01:11,  2.15it/s]\u001b[A\u001b[A\n",
      "\n",
      "154it [01:11,  2.15it/s]\u001b[A\u001b[A\n",
      "\n",
      "155it [01:12,  2.15it/s]\u001b[A\u001b[A\n",
      "\n",
      "156it [01:12,  2.15it/s]\u001b[A\u001b[A\n",
      "\n",
      "157it [01:13,  2.15it/s]\u001b[A\u001b[A\n",
      "\n",
      "158it [01:13,  2.15it/s]\u001b[A\u001b[A\n",
      "\n",
      "159it [01:14,  2.15it/s]\u001b[A\u001b[A\n",
      "\n",
      "160it [01:14,  2.15it/s]\u001b[A\u001b[A\n",
      "\n",
      "161it [01:14,  2.15it/s]\u001b[A\u001b[A\n",
      "\n",
      "162it [01:15,  2.15it/s]\u001b[A\u001b[A\n",
      "\n",
      "163it [01:15,  2.15it/s]\u001b[A\u001b[A\n",
      "\n",
      "164it [01:16,  2.15it/s]\u001b[A\u001b[A\n",
      "\n",
      "165it [01:16,  2.15it/s]\u001b[A\u001b[A\n",
      "\n",
      "166it [01:17,  2.15it/s]\u001b[A\u001b[A\n",
      "\n",
      "167it [01:17,  2.15it/s]\u001b[A\u001b[A\n",
      "\n",
      "168it [01:18,  2.15it/s]\u001b[A\u001b[A\n",
      "\n",
      "169it [01:18,  2.15it/s]\u001b[A\u001b[A\n",
      "\n",
      "170it [01:19,  2.15it/s]\u001b[A\u001b[A\n",
      "\n",
      "171it [01:19,  2.15it/s]\u001b[A\u001b[A\n",
      "\n",
      "172it [01:20,  2.15it/s]\u001b[A\u001b[A\n",
      "\n",
      "173it [01:20,  2.15it/s]\u001b[A\u001b[A\n",
      "\n",
      "174it [01:20,  2.15it/s]\u001b[A\u001b[A\n",
      "\n",
      "175it [01:21,  2.15it/s]\u001b[A\u001b[A\n",
      "\n",
      "176it [01:21,  2.15it/s]\u001b[A\u001b[A\n",
      "\n",
      "177it [01:22,  2.15it/s]\u001b[A\u001b[A\n",
      "\n",
      "178it [01:22,  2.15it/s]\u001b[A\u001b[A\n",
      "\n",
      "179it [01:23,  2.15it/s]\u001b[A\u001b[A\n",
      "\n",
      "180it [01:23,  2.15it/s]\u001b[A\u001b[A\n",
      "\n",
      "181it [01:24,  2.15it/s]\u001b[A\u001b[A\n",
      "\n",
      "182it [01:24,  2.15it/s]\u001b[A\u001b[A\n",
      "\n",
      "183it [01:25,  2.15it/s]\u001b[A\u001b[A\n",
      "\n",
      "184it [01:25,  2.15it/s]\u001b[A\u001b[A\n",
      "\n",
      "185it [01:26,  2.15it/s]\u001b[A\u001b[A\n",
      "\n",
      "186it [01:26,  2.15it/s]\u001b[A\u001b[A\n",
      "\n",
      "187it [01:27,  2.15it/s]\u001b[A\u001b[A\n",
      "\n",
      "188it [01:27,  2.15it/s]\u001b[A\u001b[A\n",
      "\n",
      "189it [01:27,  2.15it/s]\u001b[A\u001b[A\n",
      "\n",
      "190it [01:28,  2.15it/s]\u001b[A\u001b[A\n",
      "\n",
      "191it [01:28,  2.15it/s]\u001b[A\u001b[A\n",
      "\n",
      "192it [01:29,  2.15it/s]\u001b[A\u001b[A\n",
      "\n",
      "193it [01:29,  2.15it/s]\u001b[A\u001b[A\n",
      "\n",
      "194it [01:30,  2.15it/s]\u001b[A\u001b[A\n",
      "\n",
      "195it [01:30,  2.15it/s]\u001b[A\u001b[A\n",
      "\n",
      "196it [01:31,  2.15it/s]\u001b[A\u001b[A\n",
      "\n",
      "197it [01:31,  2.15it/s]\u001b[A\u001b[A\n",
      "\n",
      "198it [01:32,  2.15it/s]\u001b[A\u001b[A\n",
      "\n",
      "199it [01:32,  2.15it/s]\u001b[A\u001b[A\n",
      "\n",
      "200it [01:33,  2.15it/s]\u001b[A\u001b[A\n",
      "\n",
      "201it [01:33,  2.15it/s]\u001b[A\u001b[A\n",
      "\n",
      "202it [01:33,  2.15it/s]\u001b[A\u001b[A\n",
      "\n",
      "203it [01:34,  2.15it/s]\u001b[A\u001b[A\n",
      "\n",
      "204it [01:34,  2.15it/s]\u001b[A\u001b[A\n",
      "\n",
      "205it [01:35,  2.15it/s]\u001b[A\u001b[A\n",
      "\n",
      "206it [01:35,  2.15it/s]\u001b[A\u001b[A\n",
      "\n",
      "207it [01:36,  2.15it/s]\u001b[A\u001b[A\n",
      "\n",
      "208it [01:36,  2.15it/s]\u001b[A\u001b[A\n",
      "\n",
      "209it [01:37,  2.15it/s]\u001b[A\u001b[A\n",
      "\n",
      "210it [01:37,  2.15it/s]\u001b[A\u001b[A\n",
      "\n",
      "211it [01:38,  2.15it/s]\u001b[A\u001b[A\n",
      "\n",
      "212it [01:38,  2.15it/s]\u001b[A\u001b[A\n",
      "\n",
      "213it [01:39,  2.15it/s]\u001b[A\u001b[A\n",
      "\n",
      "214it [01:39,  2.15it/s]\u001b[A\u001b[A\n",
      "\n",
      "215it [01:40,  2.15it/s]\u001b[A\u001b[A\n",
      "\n",
      "216it [01:40,  2.15it/s]\u001b[A\u001b[A\n",
      "\n",
      "217it [01:40,  2.15it/s]\u001b[A\u001b[A\n",
      "\n",
      "218it [01:41,  2.15it/s]\u001b[A\u001b[A\n",
      "\n",
      "219it [01:41,  2.15it/s]\u001b[A\u001b[A\n",
      "\n",
      "220it [01:42,  2.15it/s]\u001b[A\u001b[A\n",
      "\n",
      "221it [01:42,  2.15it/s]\u001b[A\u001b[A\n",
      "\n",
      "222it [01:43,  2.15it/s]\u001b[A\u001b[A\n",
      "\n",
      "223it [01:43,  2.15it/s]\u001b[A\u001b[A\n",
      "\n",
      "224it [01:44,  2.15it/s]\u001b[A\u001b[A\n",
      "\n",
      "225it [01:44,  2.15it/s]\u001b[A\u001b[A\n",
      "\n",
      "226it [01:45,  2.15it/s]\u001b[A\u001b[A\n",
      "\n",
      "227it [01:45,  2.15it/s]\u001b[A\u001b[A\n",
      "\n",
      "228it [01:46,  2.15it/s]\u001b[A\u001b[A\n",
      "\n",
      "229it [01:46,  2.15it/s]\u001b[A\u001b[A\n",
      "\n",
      "230it [01:46,  2.15it/s]\u001b[A\u001b[A\n",
      "\n",
      "231it [01:47,  2.15it/s]\u001b[A\u001b[A\n",
      "\n",
      "232it [01:47,  2.15it/s]\u001b[A\u001b[A\n",
      "\n",
      "233it [01:48,  2.15it/s]\u001b[A\u001b[A\n",
      "\n",
      "234it [01:48,  2.15it/s]\u001b[A\u001b[A\n",
      "\n",
      "235it [01:49,  2.15it/s]\u001b[A\u001b[A\n",
      "\n",
      "236it [01:49,  2.15it/s]\u001b[A\u001b[A\n",
      "\n",
      "237it [01:50,  2.15it/s]\u001b[A\u001b[A\n",
      "\n",
      "238it [01:50,  2.15it/s]\u001b[A\u001b[A\n",
      "\n",
      "239it [01:51,  2.15it/s]\u001b[A\u001b[A\n",
      "\n",
      "240it [01:51,  2.15it/s]\u001b[A\u001b[A\n",
      "\n",
      "241it [01:52,  2.15it/s]\u001b[A\u001b[A\n",
      "\n",
      "242it [01:52,  2.15it/s]\u001b[A\u001b[A\n",
      "\n",
      "243it [01:53,  2.15it/s]\u001b[A\u001b[A\n",
      "\n",
      "244it [01:53,  2.15it/s]\u001b[A\u001b[A\n",
      "\n",
      "245it [01:53,  2.15it/s]\u001b[A\u001b[A\n",
      "\n",
      "246it [01:54,  2.15it/s]\u001b[A\u001b[A\n",
      "\n",
      "247it [01:54,  2.15it/s]\u001b[A\u001b[A\n",
      "\n",
      "248it [01:55,  2.15it/s]\u001b[A\u001b[A\n",
      "\n",
      "249it [01:55,  2.15it/s]\u001b[A\u001b[A\n",
      "\n",
      "250it [01:56,  2.15it/s]\u001b[A\u001b[A\n",
      "\n",
      "251it [01:56,  2.15it/s]\u001b[A\u001b[A\n",
      "\n",
      "252it [01:57,  2.15it/s]\u001b[A\u001b[A\n",
      "\n",
      "253it [01:57,  2.15it/s]\u001b[A\u001b[A\n",
      "\n",
      "254it [01:58,  2.15it/s]\u001b[A\u001b[A\n",
      "\n",
      "255it [01:58,  2.15it/s]\u001b[A\u001b[A\n",
      "\n",
      "256it [01:59,  2.15it/s]\u001b[A\u001b[A\n",
      "\n",
      "257it [01:59,  2.15it/s]\u001b[A\u001b[A\n",
      "\n",
      "258it [02:00,  2.15it/s]\u001b[A\u001b[A\n",
      "\n",
      "259it [02:00,  2.15it/s]\u001b[A\u001b[A\n",
      "\n",
      "260it [02:00,  2.15it/s]\u001b[A\u001b[A\n",
      "\n",
      "261it [02:01,  2.15it/s]\u001b[A\u001b[A\n",
      "\n",
      "262it [02:01,  2.15it/s]\u001b[A\u001b[A\n",
      "\n",
      "263it [02:02,  2.15it/s]\u001b[A\u001b[A\n",
      "\n",
      "264it [02:02,  2.15it/s]\u001b[A\u001b[A\n",
      "\n",
      "265it [02:03,  2.15it/s]\u001b[A\u001b[A\n",
      "\n",
      "266it [02:03,  2.15it/s]\u001b[A\u001b[A\n",
      "\n",
      "267it [02:04,  2.15it/s]\u001b[A\u001b[A\n",
      "\n",
      "268it [02:04,  2.15it/s]\u001b[A\u001b[A\n",
      "\n",
      "269it [02:05,  2.15it/s]\u001b[A\u001b[A\n",
      "\n",
      "270it [02:05,  2.15it/s]\u001b[A\u001b[A\n",
      "\n",
      "271it [02:06,  2.15it/s]\u001b[A\u001b[A\n",
      "\n",
      "272it [02:06,  2.15it/s]\u001b[A\u001b[A\n",
      "\n",
      "273it [02:06,  2.15it/s]\u001b[A\u001b[A\n",
      "\n",
      "274it [02:07,  2.15it/s]\u001b[A\u001b[A\n",
      "\n",
      "275it [02:07,  2.15it/s]\u001b[A\u001b[A\n",
      "\n",
      "276it [02:08,  2.15it/s]\u001b[A\u001b[A\n",
      "\n",
      "277it [02:08,  2.15it/s]\u001b[A\u001b[A\n",
      "\n",
      "278it [02:09,  2.15it/s]\u001b[A\u001b[A\n",
      "\n",
      "279it [02:09,  2.15it/s]\u001b[A\u001b[A\n",
      "\n",
      "280it [02:10,  2.15it/s]\u001b[A\u001b[A\n",
      "\n",
      "281it [02:10,  2.15it/s]\u001b[A\u001b[A\n",
      "\n",
      "282it [02:11,  2.15it/s]\u001b[A\u001b[A\n",
      "\n",
      "283it [02:11,  2.15it/s]\u001b[A\u001b[A\n",
      "\n",
      "284it [02:12,  2.15it/s]\u001b[A\u001b[A\n",
      "\n",
      "285it [02:12,  2.15it/s]\u001b[A\u001b[A\n",
      "\n",
      "286it [02:13,  2.15it/s]\u001b[A\u001b[A\n",
      "\n",
      "287it [02:13,  2.15it/s]\u001b[A\u001b[A\n",
      "\n",
      "288it [02:13,  2.15it/s]\u001b[A\u001b[A\n",
      "\n",
      "289it [02:14,  2.15it/s]\u001b[A\u001b[A\n",
      "\n",
      "290it [02:14,  2.15it/s]\u001b[A\u001b[A\n",
      "\n",
      "291it [02:15,  2.15it/s]\u001b[A\u001b[A\n",
      "\n",
      "292it [02:15,  2.15it/s]\u001b[A\u001b[A\n",
      "\n",
      "293it [02:16,  2.15it/s]\u001b[A\u001b[A\n",
      "\n",
      "294it [02:16,  2.15it/s]\u001b[A\u001b[A\n",
      "\n",
      "295it [02:17,  2.15it/s]\u001b[A\u001b[A\n",
      "\n",
      "296it [02:17,  2.15it/s]\u001b[A\u001b[A\n",
      "\n",
      "297it [02:18,  2.15it/s]\u001b[A\u001b[A\n",
      "\n",
      "298it [02:18,  2.15it/s]\u001b[A\u001b[A\n",
      "\n",
      "299it [02:19,  2.15it/s]\u001b[A\u001b[A\n",
      "\n",
      "300it [02:19,  2.15it/s]\u001b[A\u001b[A\n",
      "\n",
      "301it [02:20,  2.15it/s]\u001b[A\u001b[A\n",
      "\n",
      "302it [02:20,  2.15it/s]\u001b[A\u001b[A\n",
      "\n",
      "303it [02:20,  2.15it/s]\u001b[A\u001b[A\n",
      "\n",
      "304it [02:21,  2.15it/s]\u001b[A\u001b[A\n",
      "\n",
      "305it [02:21,  2.15it/s]\u001b[A\u001b[A\n",
      "\n",
      "306it [02:22,  2.15it/s]\u001b[A\u001b[A\n",
      "\n",
      "307it [02:22,  2.15it/s]\u001b[A\u001b[A\n",
      "\n",
      "308it [02:23,  2.15it/s]\u001b[A\u001b[A\n",
      "\n",
      "309it [02:23,  2.15it/s]\u001b[A\u001b[A\n",
      "\n",
      "310it [02:24,  2.15it/s]\u001b[A\u001b[A\n",
      "\n",
      "311it [02:24,  2.15it/s]\u001b[A\u001b[A\n",
      "\n",
      "312it [02:25,  2.15it/s]\u001b[A\u001b[A\n",
      "\n",
      "313it [02:25,  2.15it/s]\u001b[A\u001b[A\n",
      "\n",
      "314it [02:26,  2.15it/s]\u001b[A\u001b[A\n",
      "\n",
      "315it [02:26,  2.15it/s]\u001b[A\u001b[A\n",
      "\n",
      "316it [02:26,  2.15it/s]\u001b[A\u001b[A\n",
      "\n",
      "317it [02:27,  2.15it/s]\u001b[A\u001b[A\n",
      "\n",
      "318it [02:27,  2.15it/s]\u001b[A\u001b[A\n",
      "\n",
      "319it [02:28,  2.15it/s]\u001b[A\u001b[A\n",
      "\n",
      "320it [02:28,  2.15it/s]\u001b[A\u001b[A\n",
      "\n",
      "321it [02:29,  2.15it/s]\u001b[A\u001b[A\n",
      "\n",
      "322it [02:29,  2.15it/s]\u001b[A\u001b[A\n",
      "\n",
      "323it [02:30,  2.15it/s]\u001b[A\u001b[A\n",
      "\n",
      "324it [02:30,  2.15it/s]\u001b[A\u001b[A\n",
      "\n",
      "325it [02:31,  2.15it/s]\u001b[A\u001b[A\n",
      "\n",
      "326it [02:31,  2.15it/s]\u001b[A\u001b[A\n",
      "\n",
      "327it [02:32,  2.15it/s]\u001b[A\u001b[A\n",
      "\n",
      "328it [02:32,  2.15it/s]\u001b[A\u001b[A\n",
      "\n",
      "329it [02:33,  2.15it/s]\u001b[A\u001b[A\n",
      "\n",
      "330it [02:33,  2.15it/s]\u001b[A\u001b[A\n",
      "\n",
      "331it [02:33,  2.15it/s]\u001b[A\u001b[A\n",
      "\n",
      "332it [02:34,  2.15it/s]\u001b[A\u001b[A\n",
      "\n",
      "333it [02:34,  2.15it/s]\u001b[A\u001b[A\n",
      "\n",
      "334it [02:35,  2.15it/s]\u001b[A\u001b[A\n",
      "\n",
      "335it [02:35,  2.15it/s]\u001b[A\u001b[A\n",
      "\n",
      "336it [02:36,  2.15it/s]\u001b[A\u001b[A\n",
      "\n",
      "337it [02:36,  2.15it/s]\u001b[A\u001b[A\n",
      "\n",
      "338it [02:37,  2.15it/s]\u001b[A\u001b[A\n",
      "\n",
      "339it [02:37,  2.15it/s]\u001b[A\u001b[A\n",
      "\n",
      "340it [02:38,  2.15it/s]\u001b[A\u001b[A\n",
      "\n",
      "341it [02:38,  2.15it/s]\u001b[A\u001b[A\n",
      "\n",
      "342it [02:39,  2.15it/s]\u001b[A\u001b[A\n",
      "\n",
      "343it [02:39,  2.15it/s]\u001b[A\u001b[A\n",
      "\n",
      "344it [02:39,  2.15it/s]\u001b[A\u001b[A\n",
      "\n",
      "345it [02:40,  2.15it/s]\u001b[A\u001b[A\n",
      "\n",
      "346it [02:40,  2.15it/s]\u001b[A\u001b[A\n",
      "\n",
      "347it [02:41,  2.15it/s]\u001b[A\u001b[A\n",
      "\n",
      "348it [02:41,  2.15it/s]\u001b[A\u001b[A\n",
      "\n",
      "349it [02:42,  2.15it/s]\u001b[A\u001b[A\n",
      "\n",
      "350it [02:42,  2.15it/s]\u001b[A\u001b[A\n",
      "\n",
      "351it [02:43,  2.15it/s]\u001b[A\u001b[A\n",
      "\n",
      "352it [02:43,  2.15it/s]\u001b[A\u001b[A\n",
      "\n",
      "353it [02:44,  2.15it/s]\u001b[A\u001b[A\n",
      "\n",
      "354it [02:44,  2.15it/s]\u001b[A\u001b[A\n",
      "\n",
      "355it [02:45,  2.15it/s]\u001b[A\u001b[A\n",
      "\n",
      "356it [02:45,  2.15it/s]\u001b[A\u001b[A\n",
      "\n",
      "357it [02:46,  2.15it/s]\u001b[A\u001b[A\n",
      "\n",
      "358it [02:46,  2.15it/s]\u001b[A\u001b[A\n",
      "\n",
      "359it [02:46,  2.15it/s]\u001b[A\u001b[A\n",
      "\n",
      "360it [02:47,  2.15it/s]\u001b[A\u001b[A\n",
      "\n",
      "361it [02:47,  2.15it/s]\u001b[A\u001b[A\n",
      "\n",
      "362it [02:48,  2.15it/s]\u001b[A\u001b[A\n",
      "\n",
      "363it [02:48,  2.15it/s]\u001b[A\u001b[A\n",
      "\n",
      "364it [02:49,  2.15it/s]\u001b[A\u001b[A\n",
      "\n",
      "365it [02:49,  2.15it/s]\u001b[A\u001b[A\n",
      "\n",
      "366it [02:50,  2.15it/s]\u001b[A\u001b[A\n",
      "\n",
      "367it [02:50,  2.15it/s]\u001b[A\u001b[A\n",
      "\n",
      "368it [02:51,  2.15it/s]\u001b[A\u001b[A\n",
      "\n",
      "369it [02:51,  2.15it/s]\u001b[A\u001b[A\n",
      "\n",
      "370it [02:52,  2.15it/s]\u001b[A\u001b[A\n",
      "\n",
      "371it [02:52,  2.15it/s]\u001b[A\u001b[A\n",
      "\n",
      "372it [02:52,  2.15it/s]\u001b[A\u001b[A\n",
      "\n",
      "373it [02:53,  2.15it/s]\u001b[A\u001b[A\n",
      "\n",
      "374it [02:53,  2.15it/s]\u001b[A\u001b[A\n",
      "\n",
      "375it [02:54,  2.15it/s]\u001b[A\u001b[A\n",
      "\n",
      "376it [02:54,  2.15it/s]\u001b[A\u001b[A\n",
      "\n",
      "377it [02:55,  2.15it/s]\u001b[A\u001b[A\n",
      "\n",
      "378it [02:55,  2.15it/s]\u001b[A\u001b[A\n",
      "\n",
      "379it [02:56,  2.15it/s]\u001b[A\u001b[A\n",
      "\n",
      "380it [02:56,  2.15it/s]\u001b[A\u001b[A\n",
      "\n",
      "381it [02:57,  2.15it/s]\u001b[A\u001b[A\n",
      "\n",
      "382it [02:57,  2.15it/s]\u001b[A\u001b[A\n",
      "\n",
      "383it [02:58,  2.15it/s]\u001b[A\u001b[A\n",
      "\n",
      "384it [02:58,  2.15it/s]\u001b[A\u001b[A\n",
      "\n",
      "385it [02:59,  2.15it/s]\u001b[A\u001b[A\n",
      "\n",
      "386it [02:59,  2.15it/s]\u001b[A\u001b[A\n",
      "\n",
      "387it [02:59,  2.15it/s]\u001b[A\u001b[A\n",
      "\n",
      "388it [03:00,  2.15it/s]\u001b[A\u001b[A\n",
      "\n",
      "389it [03:00,  2.15it/s]\u001b[A\u001b[A\n",
      "\n",
      "390it [03:01,  2.15it/s]\u001b[A\u001b[A\n",
      "\n",
      "391it [03:01,  2.15it/s]\u001b[A\u001b[A\n",
      "\n",
      "392it [03:02,  2.15it/s]\u001b[A\u001b[A\n",
      "\n",
      "393it [03:02,  2.15it/s]\u001b[A\u001b[A\n",
      "\n",
      "394it [03:03,  2.15it/s]\u001b[A\u001b[A\n",
      "\n",
      "395it [03:03,  2.15it/s]\u001b[A\u001b[A\n",
      "\n",
      "396it [03:04,  2.15it/s]\u001b[A\u001b[A\n",
      "\n",
      "397it [03:04,  2.15it/s]\u001b[A\u001b[A\n",
      "\n",
      "398it [03:05,  2.15it/s]\u001b[A\u001b[A\n",
      "\n",
      "399it [03:05,  2.15it/s]\u001b[A\u001b[A\n",
      "\n",
      "400it [03:05,  2.15it/s]\u001b[A\u001b[A\n",
      "\n",
      "401it [03:06,  2.15it/s]\u001b[A\u001b[A\n",
      "\n",
      "402it [03:06,  2.15it/s]\u001b[A\u001b[A\n",
      "\n",
      "403it [03:07,  2.15it/s]\u001b[A\u001b[A\n",
      "\n",
      "404it [03:07,  2.15it/s]\u001b[A\u001b[A\n",
      "\n",
      "405it [03:08,  2.15it/s]\u001b[A\u001b[A\n",
      "\n",
      "406it [03:08,  2.15it/s]\u001b[A\u001b[A\n",
      "\n",
      "407it [03:09,  2.15it/s]\u001b[A\u001b[A\n",
      "\n",
      "408it [03:09,  2.15it/s]\u001b[A\u001b[A\n",
      "\n",
      "409it [03:10,  2.15it/s]\u001b[A\u001b[A\n",
      "\n",
      "410it [03:10,  2.15it/s]\u001b[A\u001b[A\n",
      "\n",
      "411it [03:11,  2.15it/s]\u001b[A\u001b[A\n",
      "\n",
      "412it [03:11,  2.15it/s]\u001b[A\u001b[A\n",
      "\n",
      "413it [03:12,  2.15it/s]\u001b[A\u001b[A\n",
      "\n",
      "414it [03:12,  2.15it/s]\u001b[A\u001b[A\n",
      "\n",
      "415it [03:12,  2.15it/s]\u001b[A\u001b[A\n",
      "\n",
      "416it [03:13,  2.15it/s]\u001b[A\u001b[A\n",
      "\n",
      "417it [03:13,  2.15it/s]\u001b[A\u001b[A\n",
      "\n",
      "418it [03:14,  2.15it/s]\u001b[A\u001b[A\n",
      "\n",
      "419it [03:14,  2.15it/s]\u001b[A\u001b[A\n",
      "\n",
      "420it [03:15,  2.15it/s]\u001b[A\u001b[A\n",
      "\n",
      "421it [03:15,  2.15it/s]\u001b[A\u001b[A\n",
      "\n",
      "422it [03:16,  2.15it/s]\u001b[A\u001b[A\n",
      "\n",
      "423it [03:16,  2.15it/s]\u001b[A\u001b[A\n",
      "\n",
      "424it [03:17,  2.15it/s]\u001b[A\u001b[A\n",
      "\n",
      "425it [03:17,  2.15it/s]\u001b[A\u001b[A\n",
      "\n",
      "426it [03:18,  2.15it/s]\u001b[A\u001b[A\n",
      "\n",
      "427it [03:18,  2.15it/s]\u001b[A\u001b[A\n",
      "\n",
      "428it [03:19,  2.15it/s]\u001b[A\u001b[A\n",
      "\n",
      "429it [03:19,  2.15it/s]\u001b[A\u001b[A\n",
      "\n",
      "430it [03:19,  2.15it/s]\u001b[A\u001b[A\n",
      "\n",
      "431it [03:20,  2.15it/s]\u001b[A\u001b[A\n",
      "\n",
      "432it [03:20,  2.15it/s]\u001b[A\u001b[A\n",
      "\n",
      "433it [03:21,  2.15it/s]\u001b[A\u001b[A\n",
      "\n",
      "434it [03:21,  2.15it/s]\u001b[A\u001b[A\n",
      "\n",
      "435it [03:22,  2.15it/s]\u001b[A\u001b[A\n",
      "\n",
      "436it [03:22,  2.15it/s]\u001b[A\u001b[A\n",
      "\n",
      "437it [03:23,  2.15it/s]\u001b[A\u001b[A\n",
      "\n",
      "438it [03:23,  2.15it/s]\u001b[A\u001b[A\n",
      "\n",
      "439it [03:24,  2.15it/s]\u001b[A\u001b[A\n",
      "\n",
      "440it [03:24,  2.15it/s]\u001b[A\u001b[A\n",
      "\n",
      "441it [03:25,  2.15it/s]\u001b[A\u001b[A\n",
      "\n",
      "442it [03:25,  2.15it/s]\u001b[A\u001b[A\n",
      "\n",
      "443it [03:25,  2.15it/s]\u001b[A\u001b[A\n",
      "\n",
      "444it [03:26,  2.15it/s]\u001b[A\u001b[A\n",
      "\n",
      "445it [03:26,  2.15it/s]\u001b[A\u001b[A\n",
      "\n",
      "446it [03:27,  2.15it/s]\u001b[A\u001b[A\n",
      "\n",
      "447it [03:27,  2.15it/s]\u001b[A\u001b[A\n",
      "\n",
      "448it [03:28,  2.15it/s]\u001b[A\u001b[A\n",
      "\n",
      "449it [03:28,  2.15it/s]\u001b[A\u001b[A\n",
      "\n",
      "450it [03:29,  2.15it/s]\u001b[A\u001b[A\n",
      "\n",
      "451it [03:29,  2.15it/s]\u001b[A\u001b[A\n",
      "\n",
      "452it [03:30,  2.15it/s]\u001b[A\u001b[A\n",
      "\n",
      "453it [03:30,  2.15it/s]\u001b[A\u001b[A\n",
      "\n",
      "454it [03:31,  2.15it/s]\u001b[A\u001b[A\n",
      "\n",
      "455it [03:31,  2.15it/s]\u001b[A\u001b[A\n",
      "\n",
      "456it [03:31,  2.15it/s]\u001b[A\u001b[A\n",
      "\n",
      "457it [03:32,  2.15it/s]\u001b[A\u001b[A\n",
      "\n",
      "458it [03:32,  2.15it/s]\u001b[A\u001b[A\n",
      "\n",
      "459it [03:33,  2.15it/s]\u001b[A\u001b[A\n",
      "\n",
      "460it [03:33,  2.15it/s]\u001b[A\u001b[A\n",
      "\n",
      "461it [03:34,  2.15it/s]\u001b[A\u001b[A\n",
      "\n",
      "462it [03:34,  2.15it/s]\u001b[A\u001b[A\n",
      "\n",
      "463it [03:35,  2.15it/s]\u001b[A\u001b[A\n",
      "\n",
      "464it [03:35,  2.15it/s]\u001b[A\u001b[A\n",
      "\n",
      "465it [03:36,  2.15it/s]\u001b[A\u001b[A\n",
      "\n",
      "466it [03:36,  2.15it/s]\u001b[A\u001b[A\n",
      "\n",
      "467it [03:37,  2.15it/s]\u001b[A\u001b[A\n",
      "\n",
      "468it [03:37,  2.15it/s]\u001b[A\u001b[A\n",
      "\n",
      "469it [03:38,  2.15it/s]\u001b[A\u001b[A\n",
      "\n",
      "470it [03:38,  2.15it/s]\u001b[A\u001b[A\n",
      "\n",
      "471it [03:38,  2.15it/s]\u001b[A\u001b[A\n",
      "\n",
      "472it [03:39,  2.15it/s]\u001b[A\u001b[A\n",
      "\n",
      "473it [03:39,  2.15it/s]\u001b[A\u001b[A\n",
      "\n",
      "474it [03:40,  2.15it/s]\u001b[A\u001b[A\n",
      "\n",
      "475it [03:40,  2.15it/s]\u001b[A\u001b[A\n",
      "\n",
      "476it [03:41,  2.15it/s]\u001b[A\u001b[A\n",
      "\n",
      "477it [03:41,  2.15it/s]\u001b[A\u001b[A\n",
      "\n",
      "478it [03:42,  2.15it/s]\u001b[A\u001b[A\n",
      "\n",
      "479it [03:42,  2.15it/s]\u001b[A\u001b[A\n",
      "\n",
      "480it [03:43,  2.15it/s]\u001b[A\u001b[A\n",
      "\n",
      "481it [03:43,  2.15it/s]\u001b[A\u001b[A\n",
      "\n",
      "482it [03:44,  2.15it/s]\u001b[A\u001b[A\n",
      "\n",
      "483it [03:44,  2.15it/s]\u001b[A\u001b[A\n",
      "\n",
      "484it [03:44,  2.15it/s]\u001b[A\u001b[A\n",
      "\n",
      "485it [03:45,  2.15it/s]\u001b[A\u001b[A\n",
      "\n",
      "486it [03:45,  2.15it/s]\u001b[A\u001b[A\n",
      "\n",
      "487it [03:46,  2.15it/s]\u001b[A\u001b[A\n",
      "\n",
      "488it [03:46,  2.15it/s]\u001b[A\u001b[A\n",
      "\n",
      "489it [03:47,  2.15it/s]\u001b[A\u001b[A\n",
      "\n",
      "490it [03:47,  2.15it/s]\u001b[A\u001b[A\n",
      "\n",
      "491it [03:48,  2.15it/s]\u001b[A\u001b[A\n",
      "\n",
      "492it [03:48,  2.15it/s]\u001b[A\u001b[A\n",
      "\n",
      "493it [03:49,  2.15it/s]\u001b[A\u001b[A\n",
      "\n",
      "494it [03:49,  2.15it/s]\u001b[A\u001b[A\n",
      "\n",
      "495it [03:50,  2.15it/s]\u001b[A\u001b[A\n",
      "\n",
      "496it [03:50,  2.15it/s]\u001b[A\u001b[A\n",
      "\n",
      "497it [03:51,  2.15it/s]\u001b[A\u001b[A\n",
      "\n",
      "498it [03:51,  2.15it/s]\u001b[A\u001b[A\n",
      "\n",
      "499it [03:51,  2.15it/s]\u001b[A\u001b[A\n",
      "\n",
      "500it [03:52,  2.15it/s]\u001b[A\u001b[A\n",
      "\n",
      "501it [03:52,  2.15it/s]\u001b[A\u001b[A\n",
      "\n",
      "502it [03:53,  2.15it/s]\u001b[A\u001b[A\n",
      "\n",
      "503it [03:53,  2.15it/s]\u001b[A\u001b[A\n",
      "\n",
      "504it [03:54,  2.15it/s]\u001b[A\u001b[A\n",
      "\n",
      "505it [03:54,  2.15it/s]\u001b[A\u001b[A\n",
      "\n",
      "506it [03:55,  2.15it/s]\u001b[A\u001b[A\n",
      "\n",
      "507it [03:55,  2.15it/s]\u001b[A\u001b[A\n",
      "\n",
      "508it [03:56,  2.15it/s]\u001b[A\u001b[A\n",
      "\n",
      "509it [03:56,  2.15it/s]\u001b[A\u001b[A\n",
      "\n",
      "510it [03:57,  2.15it/s]\u001b[A\u001b[A\n",
      "\n",
      "511it [03:57,  2.15it/s]\u001b[A\u001b[A\n",
      "\n",
      "512it [03:58,  2.15it/s]\u001b[A\u001b[A\n",
      "\n",
      "513it [03:58,  2.15it/s]\u001b[A\u001b[A\n",
      "\n",
      "514it [03:58,  2.15it/s]\u001b[A\u001b[A\n",
      "\n",
      "515it [03:59,  2.15it/s]\u001b[A\u001b[A\n",
      "\n"
     ]
    },
    {
     "name": "stderr",
     "output_type": "stream",
     "text": [
      "516it [03:59,  2.15it/s]\u001b[A\u001b[A\n",
      "\n",
      "517it [04:00,  2.15it/s]\u001b[A\u001b[A\n",
      "\n",
      "518it [04:00,  2.15it/s]\u001b[A\u001b[A\n",
      "\n",
      "519it [04:01,  2.15it/s]\u001b[A\u001b[A\n",
      "\n",
      "520it [04:01,  2.15it/s]\u001b[A\u001b[A\n",
      "\n",
      "521it [04:02,  2.15it/s]\u001b[A\u001b[A\n",
      "\n",
      "522it [04:02,  2.15it/s]\u001b[A\u001b[A\n",
      "\n",
      "523it [04:03,  2.15it/s]\u001b[A\u001b[A\n",
      "\n",
      "524it [04:03,  2.15it/s]\u001b[A\u001b[A\n",
      "\n",
      "525it [04:04,  2.15it/s]\u001b[A\u001b[A\n",
      "\n",
      "526it [04:04,  2.15it/s]\u001b[A\u001b[A\n",
      "\n",
      "527it [04:04,  2.15it/s]\u001b[A\u001b[A\n",
      "\n",
      "528it [04:05,  2.15it/s]\u001b[A\u001b[A\n",
      "\n",
      "529it [04:05,  2.15it/s]\u001b[A\u001b[A\n",
      "\n",
      "530it [04:06,  2.15it/s]\u001b[A\u001b[A\n",
      "\n",
      "531it [04:06,  2.15it/s]\u001b[A\u001b[A\n",
      "\n",
      "532it [04:07,  2.15it/s]\u001b[A\u001b[A\n",
      "\n",
      "533it [04:07,  2.15it/s]\u001b[A\u001b[A\n",
      "\n",
      "534it [04:08,  2.15it/s]\u001b[A\u001b[A\n",
      "\n",
      "535it [04:08,  2.15it/s]\u001b[A\u001b[A\n",
      "\n",
      "536it [04:09,  2.15it/s]\u001b[A\u001b[A\n",
      "\n",
      "537it [04:09,  2.15it/s]\u001b[A\u001b[A\n",
      "\n",
      "538it [04:10,  2.15it/s]\u001b[A\u001b[A\n",
      "\n",
      "539it [04:10,  2.15it/s]\u001b[A\u001b[A\n",
      "\n",
      "540it [04:11,  2.15it/s]\u001b[A\u001b[A\n",
      "\n",
      "541it [04:11,  2.15it/s]\u001b[A\u001b[A\n",
      "\n",
      "542it [04:11,  2.15it/s]\u001b[A\u001b[A\n",
      "\n",
      "543it [04:12,  2.15it/s]\u001b[A\u001b[A\n",
      "\n",
      "544it [04:12,  2.15it/s]\u001b[A\u001b[A\n",
      "\n",
      "545it [04:13,  2.15it/s]\u001b[A\u001b[A\n",
      "\n",
      "546it [04:13,  2.15it/s]\u001b[A\u001b[A\n",
      "\n",
      "547it [04:14,  2.15it/s]\u001b[A\u001b[A\n",
      "\n",
      "548it [04:14,  2.15it/s]\u001b[A\u001b[A\n",
      "\n",
      "549it [04:15,  2.15it/s]\u001b[A\u001b[A\n",
      "\n",
      "550it [04:15,  2.15it/s]\u001b[A\u001b[A\n",
      "\n",
      "551it [04:16,  2.15it/s]\u001b[A\u001b[A\n",
      "\n",
      "552it [04:16,  2.15it/s]\u001b[A\u001b[A\n",
      "\n",
      "553it [04:17,  2.15it/s]\u001b[A\u001b[A\n",
      "\n",
      "554it [04:17,  2.15it/s]\u001b[A\u001b[A\n",
      "\n",
      "555it [04:17,  2.15it/s]\u001b[A\u001b[A\n",
      "\n",
      "556it [04:18,  2.15it/s]\u001b[A\u001b[A\n",
      "\n",
      "557it [04:18,  2.15it/s]\u001b[A\u001b[A\n",
      "\n",
      "558it [04:19,  2.15it/s]\u001b[A\u001b[A\n",
      "\n",
      "559it [04:19,  2.15it/s]\u001b[A\u001b[A\n",
      "\n",
      "560it [04:20,  2.15it/s]\u001b[A\u001b[A\n",
      "\n",
      "561it [04:20,  2.15it/s]\u001b[A\u001b[A\n",
      "\n",
      "562it [04:21,  2.15it/s]\u001b[A\u001b[A\n",
      "\n",
      "563it [04:21,  2.15it/s]\u001b[A\u001b[A\n",
      "\n",
      "\u001b[A\u001b[A"
     ]
    }
   ],
   "source": [
    "#开始测试,数据会保存在test_df里\n",
    "test(BestModel, BestThred, test_dataloader)"
   ]
  },
  {
   "cell_type": "code",
   "execution_count": 38,
   "metadata": {
    "_uuid": "7ec42b7dc1bf453bdd0f40ed8f4a9672b067e4cf"
   },
   "outputs": [],
   "source": [
    "test_df = get_fold_rle_mask(test_df, n_fold)\n",
    "test_df.reset_index(inplace=True)\n",
    "submission = test_df[['id','rle_mask']]\n",
    "submission = submission.astype(str)\n",
    "submission.to_csv('submission_fold%d.csv'%n_fold, index=False)\n",
    "test_df.to_csv('test_df_fold%d.csv'%n_fold, index=False)"
   ]
  },
  {
   "cell_type": "code",
   "execution_count": 39,
   "metadata": {
    "_uuid": "9c309cfa415580badb061b3574114c6865cfd8d4"
   },
   "outputs": [
    {
     "data": {
      "text/html": [
       "<div>\n",
       "<style scoped>\n",
       "    .dataframe tbody tr th:only-of-type {\n",
       "        vertical-align: middle;\n",
       "    }\n",
       "\n",
       "    .dataframe tbody tr th {\n",
       "        vertical-align: top;\n",
       "    }\n",
       "\n",
       "    .dataframe thead th {\n",
       "        text-align: right;\n",
       "    }\n",
       "</style>\n",
       "<table border=\"1\" class=\"dataframe\">\n",
       "  <thead>\n",
       "    <tr style=\"text-align: right;\">\n",
       "      <th></th>\n",
       "      <th>id</th>\n",
       "      <th>rle_mask</th>\n",
       "    </tr>\n",
       "  </thead>\n",
       "  <tbody>\n",
       "    <tr>\n",
       "      <th>0</th>\n",
       "      <td>353e010b7b</td>\n",
       "      <td></td>\n",
       "    </tr>\n",
       "    <tr>\n",
       "      <th>1</th>\n",
       "      <td>5439dbbddf</td>\n",
       "      <td></td>\n",
       "    </tr>\n",
       "    <tr>\n",
       "      <th>2</th>\n",
       "      <td>71bab9f311</td>\n",
       "      <td>2003 9 2103 11 2204 12 2305 12 2406 12 2507 12...</td>\n",
       "    </tr>\n",
       "    <tr>\n",
       "      <th>3</th>\n",
       "      <td>52551f7a80</td>\n",
       "      <td></td>\n",
       "    </tr>\n",
       "    <tr>\n",
       "      <th>4</th>\n",
       "      <td>512d8d9997</td>\n",
       "      <td>1 30 102 30 203 31 304 31 405 32 506 33 607 34...</td>\n",
       "    </tr>\n",
       "  </tbody>\n",
       "</table>\n",
       "</div>"
      ],
      "text/plain": [
       "           id                                           rle_mask\n",
       "0  353e010b7b                                                   \n",
       "1  5439dbbddf                                                   \n",
       "2  71bab9f311  2003 9 2103 11 2204 12 2305 12 2406 12 2507 12...\n",
       "3  52551f7a80                                                   \n",
       "4  512d8d9997  1 30 102 30 203 31 304 31 405 32 506 33 607 34..."
      ]
     },
     "execution_count": 39,
     "metadata": {},
     "output_type": "execute_result"
    }
   ],
   "source": [
    "submission.head()"
   ]
  },
  {
   "cell_type": "code",
   "execution_count": null,
   "metadata": {
    "_uuid": "db5a4c51303c5c1d7ac1cc1a0a0845d4b123f19f",
    "collapsed": true
   },
   "outputs": [],
   "source": []
  }
 ],
 "metadata": {
  "kernelspec": {
   "display_name": "Python 3",
   "language": "python",
   "name": "python3"
  },
  "language_info": {
   "codemirror_mode": {
    "name": "ipython",
    "version": 3
   },
   "file_extension": ".py",
   "mimetype": "text/x-python",
   "name": "python",
   "nbconvert_exporter": "python",
   "pygments_lexer": "ipython3",
   "version": "3.6.5"
  }
 },
 "nbformat": 4,
 "nbformat_minor": 1
}
